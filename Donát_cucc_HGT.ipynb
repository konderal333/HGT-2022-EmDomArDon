{
  "nbformat": 4,
  "nbformat_minor": 0,
  "metadata": {
    "colab": {
      "provenance": [],
      "collapsed_sections": []
    },
    "kernelspec": {
      "name": "python3",
      "display_name": "Python 3"
    },
    "language_info": {
      "name": "python"
    },
    "widgets": {
      "application/vnd.jupyter.widget-state+json": {
        "a7309529a73643919d5aa757c20a1b25": {
          "model_module": "@jupyter-widgets/controls",
          "model_name": "HBoxModel",
          "model_module_version": "1.5.0",
          "state": {
            "_dom_classes": [],
            "_model_module": "@jupyter-widgets/controls",
            "_model_module_version": "1.5.0",
            "_model_name": "HBoxModel",
            "_view_count": null,
            "_view_module": "@jupyter-widgets/controls",
            "_view_module_version": "1.5.0",
            "_view_name": "HBoxView",
            "box_style": "",
            "children": [
              "IPY_MODEL_67f718abb370409698b1174226575ca1",
              "IPY_MODEL_3308791552464aa78c24fc12754b9564",
              "IPY_MODEL_a6c194b4c3474ec48a559180f169120c"
            ],
            "layout": "IPY_MODEL_c32ed8f1ee274430abe9a93c8ecc32df"
          }
        },
        "67f718abb370409698b1174226575ca1": {
          "model_module": "@jupyter-widgets/controls",
          "model_name": "HTMLModel",
          "model_module_version": "1.5.0",
          "state": {
            "_dom_classes": [],
            "_model_module": "@jupyter-widgets/controls",
            "_model_module_version": "1.5.0",
            "_model_name": "HTMLModel",
            "_view_count": null,
            "_view_module": "@jupyter-widgets/controls",
            "_view_module_version": "1.5.0",
            "_view_name": "HTMLView",
            "description": "",
            "description_tooltip": null,
            "layout": "IPY_MODEL_d6db3992c3594709b4f5ab0dac8d1802",
            "placeholder": "​",
            "style": "IPY_MODEL_5141d59211564801af8c61e4578e1149",
            "value": "Downloading: 100%"
          }
        },
        "3308791552464aa78c24fc12754b9564": {
          "model_module": "@jupyter-widgets/controls",
          "model_name": "FloatProgressModel",
          "model_module_version": "1.5.0",
          "state": {
            "_dom_classes": [],
            "_model_module": "@jupyter-widgets/controls",
            "_model_module_version": "1.5.0",
            "_model_name": "FloatProgressModel",
            "_view_count": null,
            "_view_module": "@jupyter-widgets/controls",
            "_view_module_version": "1.5.0",
            "_view_name": "ProgressView",
            "bar_style": "success",
            "description": "",
            "description_tooltip": null,
            "layout": "IPY_MODEL_0129cf3b368b43eeadfac8802f3c0450",
            "max": 86,
            "min": 0,
            "orientation": "horizontal",
            "style": "IPY_MODEL_2f203f7c57c34169a964bb93cb3f07ed",
            "value": 86
          }
        },
        "a6c194b4c3474ec48a559180f169120c": {
          "model_module": "@jupyter-widgets/controls",
          "model_name": "HTMLModel",
          "model_module_version": "1.5.0",
          "state": {
            "_dom_classes": [],
            "_model_module": "@jupyter-widgets/controls",
            "_model_module_version": "1.5.0",
            "_model_name": "HTMLModel",
            "_view_count": null,
            "_view_module": "@jupyter-widgets/controls",
            "_view_module_version": "1.5.0",
            "_view_name": "HTMLView",
            "description": "",
            "description_tooltip": null,
            "layout": "IPY_MODEL_46d3c468038645f088cc38500025ffc4",
            "placeholder": "​",
            "style": "IPY_MODEL_39ea3e77a576431ab526d07b09aba205",
            "value": " 86.0/86.0 [00:00&lt;00:00, 1.82kB/s]"
          }
        },
        "c32ed8f1ee274430abe9a93c8ecc32df": {
          "model_module": "@jupyter-widgets/base",
          "model_name": "LayoutModel",
          "model_module_version": "1.2.0",
          "state": {
            "_model_module": "@jupyter-widgets/base",
            "_model_module_version": "1.2.0",
            "_model_name": "LayoutModel",
            "_view_count": null,
            "_view_module": "@jupyter-widgets/base",
            "_view_module_version": "1.2.0",
            "_view_name": "LayoutView",
            "align_content": null,
            "align_items": null,
            "align_self": null,
            "border": null,
            "bottom": null,
            "display": null,
            "flex": null,
            "flex_flow": null,
            "grid_area": null,
            "grid_auto_columns": null,
            "grid_auto_flow": null,
            "grid_auto_rows": null,
            "grid_column": null,
            "grid_gap": null,
            "grid_row": null,
            "grid_template_areas": null,
            "grid_template_columns": null,
            "grid_template_rows": null,
            "height": null,
            "justify_content": null,
            "justify_items": null,
            "left": null,
            "margin": null,
            "max_height": null,
            "max_width": null,
            "min_height": null,
            "min_width": null,
            "object_fit": null,
            "object_position": null,
            "order": null,
            "overflow": null,
            "overflow_x": null,
            "overflow_y": null,
            "padding": null,
            "right": null,
            "top": null,
            "visibility": null,
            "width": null
          }
        },
        "d6db3992c3594709b4f5ab0dac8d1802": {
          "model_module": "@jupyter-widgets/base",
          "model_name": "LayoutModel",
          "model_module_version": "1.2.0",
          "state": {
            "_model_module": "@jupyter-widgets/base",
            "_model_module_version": "1.2.0",
            "_model_name": "LayoutModel",
            "_view_count": null,
            "_view_module": "@jupyter-widgets/base",
            "_view_module_version": "1.2.0",
            "_view_name": "LayoutView",
            "align_content": null,
            "align_items": null,
            "align_self": null,
            "border": null,
            "bottom": null,
            "display": null,
            "flex": null,
            "flex_flow": null,
            "grid_area": null,
            "grid_auto_columns": null,
            "grid_auto_flow": null,
            "grid_auto_rows": null,
            "grid_column": null,
            "grid_gap": null,
            "grid_row": null,
            "grid_template_areas": null,
            "grid_template_columns": null,
            "grid_template_rows": null,
            "height": null,
            "justify_content": null,
            "justify_items": null,
            "left": null,
            "margin": null,
            "max_height": null,
            "max_width": null,
            "min_height": null,
            "min_width": null,
            "object_fit": null,
            "object_position": null,
            "order": null,
            "overflow": null,
            "overflow_x": null,
            "overflow_y": null,
            "padding": null,
            "right": null,
            "top": null,
            "visibility": null,
            "width": null
          }
        },
        "5141d59211564801af8c61e4578e1149": {
          "model_module": "@jupyter-widgets/controls",
          "model_name": "DescriptionStyleModel",
          "model_module_version": "1.5.0",
          "state": {
            "_model_module": "@jupyter-widgets/controls",
            "_model_module_version": "1.5.0",
            "_model_name": "DescriptionStyleModel",
            "_view_count": null,
            "_view_module": "@jupyter-widgets/base",
            "_view_module_version": "1.2.0",
            "_view_name": "StyleView",
            "description_width": ""
          }
        },
        "0129cf3b368b43eeadfac8802f3c0450": {
          "model_module": "@jupyter-widgets/base",
          "model_name": "LayoutModel",
          "model_module_version": "1.2.0",
          "state": {
            "_model_module": "@jupyter-widgets/base",
            "_model_module_version": "1.2.0",
            "_model_name": "LayoutModel",
            "_view_count": null,
            "_view_module": "@jupyter-widgets/base",
            "_view_module_version": "1.2.0",
            "_view_name": "LayoutView",
            "align_content": null,
            "align_items": null,
            "align_self": null,
            "border": null,
            "bottom": null,
            "display": null,
            "flex": null,
            "flex_flow": null,
            "grid_area": null,
            "grid_auto_columns": null,
            "grid_auto_flow": null,
            "grid_auto_rows": null,
            "grid_column": null,
            "grid_gap": null,
            "grid_row": null,
            "grid_template_areas": null,
            "grid_template_columns": null,
            "grid_template_rows": null,
            "height": null,
            "justify_content": null,
            "justify_items": null,
            "left": null,
            "margin": null,
            "max_height": null,
            "max_width": null,
            "min_height": null,
            "min_width": null,
            "object_fit": null,
            "object_position": null,
            "order": null,
            "overflow": null,
            "overflow_x": null,
            "overflow_y": null,
            "padding": null,
            "right": null,
            "top": null,
            "visibility": null,
            "width": null
          }
        },
        "2f203f7c57c34169a964bb93cb3f07ed": {
          "model_module": "@jupyter-widgets/controls",
          "model_name": "ProgressStyleModel",
          "model_module_version": "1.5.0",
          "state": {
            "_model_module": "@jupyter-widgets/controls",
            "_model_module_version": "1.5.0",
            "_model_name": "ProgressStyleModel",
            "_view_count": null,
            "_view_module": "@jupyter-widgets/base",
            "_view_module_version": "1.2.0",
            "_view_name": "StyleView",
            "bar_color": null,
            "description_width": ""
          }
        },
        "46d3c468038645f088cc38500025ffc4": {
          "model_module": "@jupyter-widgets/base",
          "model_name": "LayoutModel",
          "model_module_version": "1.2.0",
          "state": {
            "_model_module": "@jupyter-widgets/base",
            "_model_module_version": "1.2.0",
            "_model_name": "LayoutModel",
            "_view_count": null,
            "_view_module": "@jupyter-widgets/base",
            "_view_module_version": "1.2.0",
            "_view_name": "LayoutView",
            "align_content": null,
            "align_items": null,
            "align_self": null,
            "border": null,
            "bottom": null,
            "display": null,
            "flex": null,
            "flex_flow": null,
            "grid_area": null,
            "grid_auto_columns": null,
            "grid_auto_flow": null,
            "grid_auto_rows": null,
            "grid_column": null,
            "grid_gap": null,
            "grid_row": null,
            "grid_template_areas": null,
            "grid_template_columns": null,
            "grid_template_rows": null,
            "height": null,
            "justify_content": null,
            "justify_items": null,
            "left": null,
            "margin": null,
            "max_height": null,
            "max_width": null,
            "min_height": null,
            "min_width": null,
            "object_fit": null,
            "object_position": null,
            "order": null,
            "overflow": null,
            "overflow_x": null,
            "overflow_y": null,
            "padding": null,
            "right": null,
            "top": null,
            "visibility": null,
            "width": null
          }
        },
        "39ea3e77a576431ab526d07b09aba205": {
          "model_module": "@jupyter-widgets/controls",
          "model_name": "DescriptionStyleModel",
          "model_module_version": "1.5.0",
          "state": {
            "_model_module": "@jupyter-widgets/controls",
            "_model_module_version": "1.5.0",
            "_model_name": "DescriptionStyleModel",
            "_view_count": null,
            "_view_module": "@jupyter-widgets/base",
            "_view_module_version": "1.2.0",
            "_view_name": "StyleView",
            "description_width": ""
          }
        },
        "decf84be700b4e8a85d2fb2da38c339a": {
          "model_module": "@jupyter-widgets/controls",
          "model_name": "HBoxModel",
          "model_module_version": "1.5.0",
          "state": {
            "_dom_classes": [],
            "_model_module": "@jupyter-widgets/controls",
            "_model_module_version": "1.5.0",
            "_model_name": "HBoxModel",
            "_view_count": null,
            "_view_module": "@jupyter-widgets/controls",
            "_view_module_version": "1.5.0",
            "_view_name": "HBoxView",
            "box_style": "",
            "children": [
              "IPY_MODEL_cc64c1bf3e5f4100955ab1cb8b189ef5",
              "IPY_MODEL_b08fb3ba2eb54729894c0dac5462758a",
              "IPY_MODEL_5f439ddabf2b4043b8cdfcca085e345f"
            ],
            "layout": "IPY_MODEL_fd74d62339604247aee449b425e41ef3"
          }
        },
        "cc64c1bf3e5f4100955ab1cb8b189ef5": {
          "model_module": "@jupyter-widgets/controls",
          "model_name": "HTMLModel",
          "model_module_version": "1.5.0",
          "state": {
            "_dom_classes": [],
            "_model_module": "@jupyter-widgets/controls",
            "_model_module_version": "1.5.0",
            "_model_name": "HTMLModel",
            "_view_count": null,
            "_view_module": "@jupyter-widgets/controls",
            "_view_module_version": "1.5.0",
            "_view_name": "HTMLView",
            "description": "",
            "description_tooltip": null,
            "layout": "IPY_MODEL_5cb6ae2c73a14933aeaacdb5bbe51d47",
            "placeholder": "​",
            "style": "IPY_MODEL_3b2322cbd6f6493ebd348fae15a566cf",
            "value": "Downloading: 100%"
          }
        },
        "b08fb3ba2eb54729894c0dac5462758a": {
          "model_module": "@jupyter-widgets/controls",
          "model_name": "FloatProgressModel",
          "model_module_version": "1.5.0",
          "state": {
            "_dom_classes": [],
            "_model_module": "@jupyter-widgets/controls",
            "_model_module_version": "1.5.0",
            "_model_name": "FloatProgressModel",
            "_view_count": null,
            "_view_module": "@jupyter-widgets/controls",
            "_view_module_version": "1.5.0",
            "_view_name": "ProgressView",
            "bar_style": "success",
            "description": "",
            "description_tooltip": null,
            "layout": "IPY_MODEL_81c1d14814cf4a2087d11393b0a79222",
            "max": 420,
            "min": 0,
            "orientation": "horizontal",
            "style": "IPY_MODEL_06fd3b36deaf40f68a812ac0d4f2f135",
            "value": 420
          }
        },
        "5f439ddabf2b4043b8cdfcca085e345f": {
          "model_module": "@jupyter-widgets/controls",
          "model_name": "HTMLModel",
          "model_module_version": "1.5.0",
          "state": {
            "_dom_classes": [],
            "_model_module": "@jupyter-widgets/controls",
            "_model_module_version": "1.5.0",
            "_model_name": "HTMLModel",
            "_view_count": null,
            "_view_module": "@jupyter-widgets/controls",
            "_view_module_version": "1.5.0",
            "_view_name": "HTMLView",
            "description": "",
            "description_tooltip": null,
            "layout": "IPY_MODEL_8f82c402ca5a4c3484c71554148a881a",
            "placeholder": "​",
            "style": "IPY_MODEL_ab45f0480c424a79818ed51e9ab3e8d1",
            "value": " 420/420 [00:00&lt;00:00, 7.33kB/s]"
          }
        },
        "fd74d62339604247aee449b425e41ef3": {
          "model_module": "@jupyter-widgets/base",
          "model_name": "LayoutModel",
          "model_module_version": "1.2.0",
          "state": {
            "_model_module": "@jupyter-widgets/base",
            "_model_module_version": "1.2.0",
            "_model_name": "LayoutModel",
            "_view_count": null,
            "_view_module": "@jupyter-widgets/base",
            "_view_module_version": "1.2.0",
            "_view_name": "LayoutView",
            "align_content": null,
            "align_items": null,
            "align_self": null,
            "border": null,
            "bottom": null,
            "display": null,
            "flex": null,
            "flex_flow": null,
            "grid_area": null,
            "grid_auto_columns": null,
            "grid_auto_flow": null,
            "grid_auto_rows": null,
            "grid_column": null,
            "grid_gap": null,
            "grid_row": null,
            "grid_template_areas": null,
            "grid_template_columns": null,
            "grid_template_rows": null,
            "height": null,
            "justify_content": null,
            "justify_items": null,
            "left": null,
            "margin": null,
            "max_height": null,
            "max_width": null,
            "min_height": null,
            "min_width": null,
            "object_fit": null,
            "object_position": null,
            "order": null,
            "overflow": null,
            "overflow_x": null,
            "overflow_y": null,
            "padding": null,
            "right": null,
            "top": null,
            "visibility": null,
            "width": null
          }
        },
        "5cb6ae2c73a14933aeaacdb5bbe51d47": {
          "model_module": "@jupyter-widgets/base",
          "model_name": "LayoutModel",
          "model_module_version": "1.2.0",
          "state": {
            "_model_module": "@jupyter-widgets/base",
            "_model_module_version": "1.2.0",
            "_model_name": "LayoutModel",
            "_view_count": null,
            "_view_module": "@jupyter-widgets/base",
            "_view_module_version": "1.2.0",
            "_view_name": "LayoutView",
            "align_content": null,
            "align_items": null,
            "align_self": null,
            "border": null,
            "bottom": null,
            "display": null,
            "flex": null,
            "flex_flow": null,
            "grid_area": null,
            "grid_auto_columns": null,
            "grid_auto_flow": null,
            "grid_auto_rows": null,
            "grid_column": null,
            "grid_gap": null,
            "grid_row": null,
            "grid_template_areas": null,
            "grid_template_columns": null,
            "grid_template_rows": null,
            "height": null,
            "justify_content": null,
            "justify_items": null,
            "left": null,
            "margin": null,
            "max_height": null,
            "max_width": null,
            "min_height": null,
            "min_width": null,
            "object_fit": null,
            "object_position": null,
            "order": null,
            "overflow": null,
            "overflow_x": null,
            "overflow_y": null,
            "padding": null,
            "right": null,
            "top": null,
            "visibility": null,
            "width": null
          }
        },
        "3b2322cbd6f6493ebd348fae15a566cf": {
          "model_module": "@jupyter-widgets/controls",
          "model_name": "DescriptionStyleModel",
          "model_module_version": "1.5.0",
          "state": {
            "_model_module": "@jupyter-widgets/controls",
            "_model_module_version": "1.5.0",
            "_model_name": "DescriptionStyleModel",
            "_view_count": null,
            "_view_module": "@jupyter-widgets/base",
            "_view_module_version": "1.2.0",
            "_view_name": "StyleView",
            "description_width": ""
          }
        },
        "81c1d14814cf4a2087d11393b0a79222": {
          "model_module": "@jupyter-widgets/base",
          "model_name": "LayoutModel",
          "model_module_version": "1.2.0",
          "state": {
            "_model_module": "@jupyter-widgets/base",
            "_model_module_version": "1.2.0",
            "_model_name": "LayoutModel",
            "_view_count": null,
            "_view_module": "@jupyter-widgets/base",
            "_view_module_version": "1.2.0",
            "_view_name": "LayoutView",
            "align_content": null,
            "align_items": null,
            "align_self": null,
            "border": null,
            "bottom": null,
            "display": null,
            "flex": null,
            "flex_flow": null,
            "grid_area": null,
            "grid_auto_columns": null,
            "grid_auto_flow": null,
            "grid_auto_rows": null,
            "grid_column": null,
            "grid_gap": null,
            "grid_row": null,
            "grid_template_areas": null,
            "grid_template_columns": null,
            "grid_template_rows": null,
            "height": null,
            "justify_content": null,
            "justify_items": null,
            "left": null,
            "margin": null,
            "max_height": null,
            "max_width": null,
            "min_height": null,
            "min_width": null,
            "object_fit": null,
            "object_position": null,
            "order": null,
            "overflow": null,
            "overflow_x": null,
            "overflow_y": null,
            "padding": null,
            "right": null,
            "top": null,
            "visibility": null,
            "width": null
          }
        },
        "06fd3b36deaf40f68a812ac0d4f2f135": {
          "model_module": "@jupyter-widgets/controls",
          "model_name": "ProgressStyleModel",
          "model_module_version": "1.5.0",
          "state": {
            "_model_module": "@jupyter-widgets/controls",
            "_model_module_version": "1.5.0",
            "_model_name": "ProgressStyleModel",
            "_view_count": null,
            "_view_module": "@jupyter-widgets/base",
            "_view_module_version": "1.2.0",
            "_view_name": "StyleView",
            "bar_color": null,
            "description_width": ""
          }
        },
        "8f82c402ca5a4c3484c71554148a881a": {
          "model_module": "@jupyter-widgets/base",
          "model_name": "LayoutModel",
          "model_module_version": "1.2.0",
          "state": {
            "_model_module": "@jupyter-widgets/base",
            "_model_module_version": "1.2.0",
            "_model_name": "LayoutModel",
            "_view_count": null,
            "_view_module": "@jupyter-widgets/base",
            "_view_module_version": "1.2.0",
            "_view_name": "LayoutView",
            "align_content": null,
            "align_items": null,
            "align_self": null,
            "border": null,
            "bottom": null,
            "display": null,
            "flex": null,
            "flex_flow": null,
            "grid_area": null,
            "grid_auto_columns": null,
            "grid_auto_flow": null,
            "grid_auto_rows": null,
            "grid_column": null,
            "grid_gap": null,
            "grid_row": null,
            "grid_template_areas": null,
            "grid_template_columns": null,
            "grid_template_rows": null,
            "height": null,
            "justify_content": null,
            "justify_items": null,
            "left": null,
            "margin": null,
            "max_height": null,
            "max_width": null,
            "min_height": null,
            "min_width": null,
            "object_fit": null,
            "object_position": null,
            "order": null,
            "overflow": null,
            "overflow_x": null,
            "overflow_y": null,
            "padding": null,
            "right": null,
            "top": null,
            "visibility": null,
            "width": null
          }
        },
        "ab45f0480c424a79818ed51e9ab3e8d1": {
          "model_module": "@jupyter-widgets/controls",
          "model_name": "DescriptionStyleModel",
          "model_module_version": "1.5.0",
          "state": {
            "_model_module": "@jupyter-widgets/controls",
            "_model_module_version": "1.5.0",
            "_model_name": "DescriptionStyleModel",
            "_view_count": null,
            "_view_module": "@jupyter-widgets/base",
            "_view_module_version": "1.2.0",
            "_view_name": "StyleView",
            "description_width": ""
          }
        },
        "314d2c6953d442b1a42bb3a611e2b6cc": {
          "model_module": "@jupyter-widgets/controls",
          "model_name": "HBoxModel",
          "model_module_version": "1.5.0",
          "state": {
            "_dom_classes": [],
            "_model_module": "@jupyter-widgets/controls",
            "_model_module_version": "1.5.0",
            "_model_name": "HBoxModel",
            "_view_count": null,
            "_view_module": "@jupyter-widgets/controls",
            "_view_module_version": "1.5.0",
            "_view_name": "HBoxView",
            "box_style": "",
            "children": [
              "IPY_MODEL_f29243368c5c47b08dd22c684a86ead2",
              "IPY_MODEL_c8bab5b01c03450ebf508c176d2a88d5",
              "IPY_MODEL_5bf993ecfb0542fe833790c1e63c51ad"
            ],
            "layout": "IPY_MODEL_566ec1b35836497a84bfd21b8de7132b"
          }
        },
        "f29243368c5c47b08dd22c684a86ead2": {
          "model_module": "@jupyter-widgets/controls",
          "model_name": "HTMLModel",
          "model_module_version": "1.5.0",
          "state": {
            "_dom_classes": [],
            "_model_module": "@jupyter-widgets/controls",
            "_model_module_version": "1.5.0",
            "_model_name": "HTMLModel",
            "_view_count": null,
            "_view_module": "@jupyter-widgets/controls",
            "_view_module_version": "1.5.0",
            "_view_name": "HTMLView",
            "description": "",
            "description_tooltip": null,
            "layout": "IPY_MODEL_5f710d823e044de18216b908f3e88973",
            "placeholder": "​",
            "style": "IPY_MODEL_0266d35736b04fd29e186ddb159db41d",
            "value": "Downloading: 100%"
          }
        },
        "c8bab5b01c03450ebf508c176d2a88d5": {
          "model_module": "@jupyter-widgets/controls",
          "model_name": "FloatProgressModel",
          "model_module_version": "1.5.0",
          "state": {
            "_dom_classes": [],
            "_model_module": "@jupyter-widgets/controls",
            "_model_module_version": "1.5.0",
            "_model_name": "FloatProgressModel",
            "_view_count": null,
            "_view_module": "@jupyter-widgets/controls",
            "_view_module_version": "1.5.0",
            "_view_name": "ProgressView",
            "bar_style": "success",
            "description": "",
            "description_tooltip": null,
            "layout": "IPY_MODEL_93d82167bebc499eb36bc260a1db8ce8",
            "max": 272107,
            "min": 0,
            "orientation": "horizontal",
            "style": "IPY_MODEL_599eef361353426e8d0f3e5f4338215a",
            "value": 272107
          }
        },
        "5bf993ecfb0542fe833790c1e63c51ad": {
          "model_module": "@jupyter-widgets/controls",
          "model_name": "HTMLModel",
          "model_module_version": "1.5.0",
          "state": {
            "_dom_classes": [],
            "_model_module": "@jupyter-widgets/controls",
            "_model_module_version": "1.5.0",
            "_model_name": "HTMLModel",
            "_view_count": null,
            "_view_module": "@jupyter-widgets/controls",
            "_view_module_version": "1.5.0",
            "_view_name": "HTMLView",
            "description": "",
            "description_tooltip": null,
            "layout": "IPY_MODEL_b504f1752b9b4b7dad04467df382fddf",
            "placeholder": "​",
            "style": "IPY_MODEL_f6297fbc0db247c695039e72b6ce595b",
            "value": " 272k/272k [00:00&lt;00:00, 325kB/s]"
          }
        },
        "566ec1b35836497a84bfd21b8de7132b": {
          "model_module": "@jupyter-widgets/base",
          "model_name": "LayoutModel",
          "model_module_version": "1.2.0",
          "state": {
            "_model_module": "@jupyter-widgets/base",
            "_model_module_version": "1.2.0",
            "_model_name": "LayoutModel",
            "_view_count": null,
            "_view_module": "@jupyter-widgets/base",
            "_view_module_version": "1.2.0",
            "_view_name": "LayoutView",
            "align_content": null,
            "align_items": null,
            "align_self": null,
            "border": null,
            "bottom": null,
            "display": null,
            "flex": null,
            "flex_flow": null,
            "grid_area": null,
            "grid_auto_columns": null,
            "grid_auto_flow": null,
            "grid_auto_rows": null,
            "grid_column": null,
            "grid_gap": null,
            "grid_row": null,
            "grid_template_areas": null,
            "grid_template_columns": null,
            "grid_template_rows": null,
            "height": null,
            "justify_content": null,
            "justify_items": null,
            "left": null,
            "margin": null,
            "max_height": null,
            "max_width": null,
            "min_height": null,
            "min_width": null,
            "object_fit": null,
            "object_position": null,
            "order": null,
            "overflow": null,
            "overflow_x": null,
            "overflow_y": null,
            "padding": null,
            "right": null,
            "top": null,
            "visibility": null,
            "width": null
          }
        },
        "5f710d823e044de18216b908f3e88973": {
          "model_module": "@jupyter-widgets/base",
          "model_name": "LayoutModel",
          "model_module_version": "1.2.0",
          "state": {
            "_model_module": "@jupyter-widgets/base",
            "_model_module_version": "1.2.0",
            "_model_name": "LayoutModel",
            "_view_count": null,
            "_view_module": "@jupyter-widgets/base",
            "_view_module_version": "1.2.0",
            "_view_name": "LayoutView",
            "align_content": null,
            "align_items": null,
            "align_self": null,
            "border": null,
            "bottom": null,
            "display": null,
            "flex": null,
            "flex_flow": null,
            "grid_area": null,
            "grid_auto_columns": null,
            "grid_auto_flow": null,
            "grid_auto_rows": null,
            "grid_column": null,
            "grid_gap": null,
            "grid_row": null,
            "grid_template_areas": null,
            "grid_template_columns": null,
            "grid_template_rows": null,
            "height": null,
            "justify_content": null,
            "justify_items": null,
            "left": null,
            "margin": null,
            "max_height": null,
            "max_width": null,
            "min_height": null,
            "min_width": null,
            "object_fit": null,
            "object_position": null,
            "order": null,
            "overflow": null,
            "overflow_x": null,
            "overflow_y": null,
            "padding": null,
            "right": null,
            "top": null,
            "visibility": null,
            "width": null
          }
        },
        "0266d35736b04fd29e186ddb159db41d": {
          "model_module": "@jupyter-widgets/controls",
          "model_name": "DescriptionStyleModel",
          "model_module_version": "1.5.0",
          "state": {
            "_model_module": "@jupyter-widgets/controls",
            "_model_module_version": "1.5.0",
            "_model_name": "DescriptionStyleModel",
            "_view_count": null,
            "_view_module": "@jupyter-widgets/base",
            "_view_module_version": "1.2.0",
            "_view_name": "StyleView",
            "description_width": ""
          }
        },
        "93d82167bebc499eb36bc260a1db8ce8": {
          "model_module": "@jupyter-widgets/base",
          "model_name": "LayoutModel",
          "model_module_version": "1.2.0",
          "state": {
            "_model_module": "@jupyter-widgets/base",
            "_model_module_version": "1.2.0",
            "_model_name": "LayoutModel",
            "_view_count": null,
            "_view_module": "@jupyter-widgets/base",
            "_view_module_version": "1.2.0",
            "_view_name": "LayoutView",
            "align_content": null,
            "align_items": null,
            "align_self": null,
            "border": null,
            "bottom": null,
            "display": null,
            "flex": null,
            "flex_flow": null,
            "grid_area": null,
            "grid_auto_columns": null,
            "grid_auto_flow": null,
            "grid_auto_rows": null,
            "grid_column": null,
            "grid_gap": null,
            "grid_row": null,
            "grid_template_areas": null,
            "grid_template_columns": null,
            "grid_template_rows": null,
            "height": null,
            "justify_content": null,
            "justify_items": null,
            "left": null,
            "margin": null,
            "max_height": null,
            "max_width": null,
            "min_height": null,
            "min_width": null,
            "object_fit": null,
            "object_position": null,
            "order": null,
            "overflow": null,
            "overflow_x": null,
            "overflow_y": null,
            "padding": null,
            "right": null,
            "top": null,
            "visibility": null,
            "width": null
          }
        },
        "599eef361353426e8d0f3e5f4338215a": {
          "model_module": "@jupyter-widgets/controls",
          "model_name": "ProgressStyleModel",
          "model_module_version": "1.5.0",
          "state": {
            "_model_module": "@jupyter-widgets/controls",
            "_model_module_version": "1.5.0",
            "_model_name": "ProgressStyleModel",
            "_view_count": null,
            "_view_module": "@jupyter-widgets/base",
            "_view_module_version": "1.2.0",
            "_view_name": "StyleView",
            "bar_color": null,
            "description_width": ""
          }
        },
        "b504f1752b9b4b7dad04467df382fddf": {
          "model_module": "@jupyter-widgets/base",
          "model_name": "LayoutModel",
          "model_module_version": "1.2.0",
          "state": {
            "_model_module": "@jupyter-widgets/base",
            "_model_module_version": "1.2.0",
            "_model_name": "LayoutModel",
            "_view_count": null,
            "_view_module": "@jupyter-widgets/base",
            "_view_module_version": "1.2.0",
            "_view_name": "LayoutView",
            "align_content": null,
            "align_items": null,
            "align_self": null,
            "border": null,
            "bottom": null,
            "display": null,
            "flex": null,
            "flex_flow": null,
            "grid_area": null,
            "grid_auto_columns": null,
            "grid_auto_flow": null,
            "grid_auto_rows": null,
            "grid_column": null,
            "grid_gap": null,
            "grid_row": null,
            "grid_template_areas": null,
            "grid_template_columns": null,
            "grid_template_rows": null,
            "height": null,
            "justify_content": null,
            "justify_items": null,
            "left": null,
            "margin": null,
            "max_height": null,
            "max_width": null,
            "min_height": null,
            "min_width": null,
            "object_fit": null,
            "object_position": null,
            "order": null,
            "overflow": null,
            "overflow_x": null,
            "overflow_y": null,
            "padding": null,
            "right": null,
            "top": null,
            "visibility": null,
            "width": null
          }
        },
        "f6297fbc0db247c695039e72b6ce595b": {
          "model_module": "@jupyter-widgets/controls",
          "model_name": "DescriptionStyleModel",
          "model_module_version": "1.5.0",
          "state": {
            "_model_module": "@jupyter-widgets/controls",
            "_model_module_version": "1.5.0",
            "_model_name": "DescriptionStyleModel",
            "_view_count": null,
            "_view_module": "@jupyter-widgets/base",
            "_view_module_version": "1.2.0",
            "_view_name": "StyleView",
            "description_width": ""
          }
        },
        "f22795ea15764df9b51583bdc3029d39": {
          "model_module": "@jupyter-widgets/controls",
          "model_name": "HBoxModel",
          "model_module_version": "1.5.0",
          "state": {
            "_dom_classes": [],
            "_model_module": "@jupyter-widgets/controls",
            "_model_module_version": "1.5.0",
            "_model_name": "HBoxModel",
            "_view_count": null,
            "_view_module": "@jupyter-widgets/controls",
            "_view_module_version": "1.5.0",
            "_view_name": "HBoxView",
            "box_style": "",
            "children": [
              "IPY_MODEL_09b3458b77fc430a9ceeb2c306c5803c",
              "IPY_MODEL_0b26f1c5acca48168842cda981a83bb5",
              "IPY_MODEL_3adf25550186423da3eff8ca2a880c7f"
            ],
            "layout": "IPY_MODEL_338345249d5f45a8a6a536327c5fd4bd"
          }
        },
        "09b3458b77fc430a9ceeb2c306c5803c": {
          "model_module": "@jupyter-widgets/controls",
          "model_name": "HTMLModel",
          "model_module_version": "1.5.0",
          "state": {
            "_dom_classes": [],
            "_model_module": "@jupyter-widgets/controls",
            "_model_module_version": "1.5.0",
            "_model_name": "HTMLModel",
            "_view_count": null,
            "_view_module": "@jupyter-widgets/controls",
            "_view_module_version": "1.5.0",
            "_view_name": "HTMLView",
            "description": "",
            "description_tooltip": null,
            "layout": "IPY_MODEL_09e45864c4b74e03b9ac41195dc2d67e",
            "placeholder": "​",
            "style": "IPY_MODEL_38d015da502f479f84f57d7e1eb0c638",
            "value": "Downloading: 100%"
          }
        },
        "0b26f1c5acca48168842cda981a83bb5": {
          "model_module": "@jupyter-widgets/controls",
          "model_name": "FloatProgressModel",
          "model_module_version": "1.5.0",
          "state": {
            "_dom_classes": [],
            "_model_module": "@jupyter-widgets/controls",
            "_model_module_version": "1.5.0",
            "_model_name": "FloatProgressModel",
            "_view_count": null,
            "_view_module": "@jupyter-widgets/controls",
            "_view_module_version": "1.5.0",
            "_view_name": "ProgressView",
            "bar_style": "success",
            "description": "",
            "description_tooltip": null,
            "layout": "IPY_MODEL_3fa9a76017fa4cff9df2ec40012fcc9d",
            "max": 112,
            "min": 0,
            "orientation": "horizontal",
            "style": "IPY_MODEL_d2f54dfbfedb45daa6395ca65003ac63",
            "value": 112
          }
        },
        "3adf25550186423da3eff8ca2a880c7f": {
          "model_module": "@jupyter-widgets/controls",
          "model_name": "HTMLModel",
          "model_module_version": "1.5.0",
          "state": {
            "_dom_classes": [],
            "_model_module": "@jupyter-widgets/controls",
            "_model_module_version": "1.5.0",
            "_model_name": "HTMLModel",
            "_view_count": null,
            "_view_module": "@jupyter-widgets/controls",
            "_view_module_version": "1.5.0",
            "_view_name": "HTMLView",
            "description": "",
            "description_tooltip": null,
            "layout": "IPY_MODEL_9110a3b1a5714b4cb613ae52054a50c7",
            "placeholder": "​",
            "style": "IPY_MODEL_fa52acec8a464787903c509ee1643932",
            "value": " 112/112 [00:00&lt;00:00, 686B/s]"
          }
        },
        "338345249d5f45a8a6a536327c5fd4bd": {
          "model_module": "@jupyter-widgets/base",
          "model_name": "LayoutModel",
          "model_module_version": "1.2.0",
          "state": {
            "_model_module": "@jupyter-widgets/base",
            "_model_module_version": "1.2.0",
            "_model_name": "LayoutModel",
            "_view_count": null,
            "_view_module": "@jupyter-widgets/base",
            "_view_module_version": "1.2.0",
            "_view_name": "LayoutView",
            "align_content": null,
            "align_items": null,
            "align_self": null,
            "border": null,
            "bottom": null,
            "display": null,
            "flex": null,
            "flex_flow": null,
            "grid_area": null,
            "grid_auto_columns": null,
            "grid_auto_flow": null,
            "grid_auto_rows": null,
            "grid_column": null,
            "grid_gap": null,
            "grid_row": null,
            "grid_template_areas": null,
            "grid_template_columns": null,
            "grid_template_rows": null,
            "height": null,
            "justify_content": null,
            "justify_items": null,
            "left": null,
            "margin": null,
            "max_height": null,
            "max_width": null,
            "min_height": null,
            "min_width": null,
            "object_fit": null,
            "object_position": null,
            "order": null,
            "overflow": null,
            "overflow_x": null,
            "overflow_y": null,
            "padding": null,
            "right": null,
            "top": null,
            "visibility": null,
            "width": null
          }
        },
        "09e45864c4b74e03b9ac41195dc2d67e": {
          "model_module": "@jupyter-widgets/base",
          "model_name": "LayoutModel",
          "model_module_version": "1.2.0",
          "state": {
            "_model_module": "@jupyter-widgets/base",
            "_model_module_version": "1.2.0",
            "_model_name": "LayoutModel",
            "_view_count": null,
            "_view_module": "@jupyter-widgets/base",
            "_view_module_version": "1.2.0",
            "_view_name": "LayoutView",
            "align_content": null,
            "align_items": null,
            "align_self": null,
            "border": null,
            "bottom": null,
            "display": null,
            "flex": null,
            "flex_flow": null,
            "grid_area": null,
            "grid_auto_columns": null,
            "grid_auto_flow": null,
            "grid_auto_rows": null,
            "grid_column": null,
            "grid_gap": null,
            "grid_row": null,
            "grid_template_areas": null,
            "grid_template_columns": null,
            "grid_template_rows": null,
            "height": null,
            "justify_content": null,
            "justify_items": null,
            "left": null,
            "margin": null,
            "max_height": null,
            "max_width": null,
            "min_height": null,
            "min_width": null,
            "object_fit": null,
            "object_position": null,
            "order": null,
            "overflow": null,
            "overflow_x": null,
            "overflow_y": null,
            "padding": null,
            "right": null,
            "top": null,
            "visibility": null,
            "width": null
          }
        },
        "38d015da502f479f84f57d7e1eb0c638": {
          "model_module": "@jupyter-widgets/controls",
          "model_name": "DescriptionStyleModel",
          "model_module_version": "1.5.0",
          "state": {
            "_model_module": "@jupyter-widgets/controls",
            "_model_module_version": "1.5.0",
            "_model_name": "DescriptionStyleModel",
            "_view_count": null,
            "_view_module": "@jupyter-widgets/base",
            "_view_module_version": "1.2.0",
            "_view_name": "StyleView",
            "description_width": ""
          }
        },
        "3fa9a76017fa4cff9df2ec40012fcc9d": {
          "model_module": "@jupyter-widgets/base",
          "model_name": "LayoutModel",
          "model_module_version": "1.2.0",
          "state": {
            "_model_module": "@jupyter-widgets/base",
            "_model_module_version": "1.2.0",
            "_model_name": "LayoutModel",
            "_view_count": null,
            "_view_module": "@jupyter-widgets/base",
            "_view_module_version": "1.2.0",
            "_view_name": "LayoutView",
            "align_content": null,
            "align_items": null,
            "align_self": null,
            "border": null,
            "bottom": null,
            "display": null,
            "flex": null,
            "flex_flow": null,
            "grid_area": null,
            "grid_auto_columns": null,
            "grid_auto_flow": null,
            "grid_auto_rows": null,
            "grid_column": null,
            "grid_gap": null,
            "grid_row": null,
            "grid_template_areas": null,
            "grid_template_columns": null,
            "grid_template_rows": null,
            "height": null,
            "justify_content": null,
            "justify_items": null,
            "left": null,
            "margin": null,
            "max_height": null,
            "max_width": null,
            "min_height": null,
            "min_width": null,
            "object_fit": null,
            "object_position": null,
            "order": null,
            "overflow": null,
            "overflow_x": null,
            "overflow_y": null,
            "padding": null,
            "right": null,
            "top": null,
            "visibility": null,
            "width": null
          }
        },
        "d2f54dfbfedb45daa6395ca65003ac63": {
          "model_module": "@jupyter-widgets/controls",
          "model_name": "ProgressStyleModel",
          "model_module_version": "1.5.0",
          "state": {
            "_model_module": "@jupyter-widgets/controls",
            "_model_module_version": "1.5.0",
            "_model_name": "ProgressStyleModel",
            "_view_count": null,
            "_view_module": "@jupyter-widgets/base",
            "_view_module_version": "1.2.0",
            "_view_name": "StyleView",
            "bar_color": null,
            "description_width": ""
          }
        },
        "9110a3b1a5714b4cb613ae52054a50c7": {
          "model_module": "@jupyter-widgets/base",
          "model_name": "LayoutModel",
          "model_module_version": "1.2.0",
          "state": {
            "_model_module": "@jupyter-widgets/base",
            "_model_module_version": "1.2.0",
            "_model_name": "LayoutModel",
            "_view_count": null,
            "_view_module": "@jupyter-widgets/base",
            "_view_module_version": "1.2.0",
            "_view_name": "LayoutView",
            "align_content": null,
            "align_items": null,
            "align_self": null,
            "border": null,
            "bottom": null,
            "display": null,
            "flex": null,
            "flex_flow": null,
            "grid_area": null,
            "grid_auto_columns": null,
            "grid_auto_flow": null,
            "grid_auto_rows": null,
            "grid_column": null,
            "grid_gap": null,
            "grid_row": null,
            "grid_template_areas": null,
            "grid_template_columns": null,
            "grid_template_rows": null,
            "height": null,
            "justify_content": null,
            "justify_items": null,
            "left": null,
            "margin": null,
            "max_height": null,
            "max_width": null,
            "min_height": null,
            "min_width": null,
            "object_fit": null,
            "object_position": null,
            "order": null,
            "overflow": null,
            "overflow_x": null,
            "overflow_y": null,
            "padding": null,
            "right": null,
            "top": null,
            "visibility": null,
            "width": null
          }
        },
        "fa52acec8a464787903c509ee1643932": {
          "model_module": "@jupyter-widgets/controls",
          "model_name": "DescriptionStyleModel",
          "model_module_version": "1.5.0",
          "state": {
            "_model_module": "@jupyter-widgets/controls",
            "_model_module_version": "1.5.0",
            "_model_name": "DescriptionStyleModel",
            "_view_count": null,
            "_view_module": "@jupyter-widgets/base",
            "_view_module_version": "1.2.0",
            "_view_name": "StyleView",
            "description_width": ""
          }
        },
        "12f3177d8aba49c4b5635e70f6c47360": {
          "model_module": "@jupyter-widgets/controls",
          "model_name": "HBoxModel",
          "model_module_version": "1.5.0",
          "state": {
            "_dom_classes": [],
            "_model_module": "@jupyter-widgets/controls",
            "_model_module_version": "1.5.0",
            "_model_name": "HBoxModel",
            "_view_count": null,
            "_view_module": "@jupyter-widgets/controls",
            "_view_module_version": "1.5.0",
            "_view_name": "HBoxView",
            "box_style": "",
            "children": [
              "IPY_MODEL_fb550bc5f8944069af63e733f9037ed3",
              "IPY_MODEL_5b093540388241268bd907b01db1fcc0",
              "IPY_MODEL_63c8c05bdeac4d3a9f966984d4d78538"
            ],
            "layout": "IPY_MODEL_807e6246e70342cb8ed9cc9843526eb8"
          }
        },
        "fb550bc5f8944069af63e733f9037ed3": {
          "model_module": "@jupyter-widgets/controls",
          "model_name": "HTMLModel",
          "model_module_version": "1.5.0",
          "state": {
            "_dom_classes": [],
            "_model_module": "@jupyter-widgets/controls",
            "_model_module_version": "1.5.0",
            "_model_name": "HTMLModel",
            "_view_count": null,
            "_view_module": "@jupyter-widgets/controls",
            "_view_module_version": "1.5.0",
            "_view_name": "HTMLView",
            "description": "",
            "description_tooltip": null,
            "layout": "IPY_MODEL_4a52f893f3014421bc43bd5f9d1a4204",
            "placeholder": "​",
            "style": "IPY_MODEL_d41ed36d371b4230872682f4da061053",
            "value": "Downloading: 100%"
          }
        },
        "5b093540388241268bd907b01db1fcc0": {
          "model_module": "@jupyter-widgets/controls",
          "model_name": "FloatProgressModel",
          "model_module_version": "1.5.0",
          "state": {
            "_dom_classes": [],
            "_model_module": "@jupyter-widgets/controls",
            "_model_module_version": "1.5.0",
            "_model_name": "FloatProgressModel",
            "_view_count": null,
            "_view_module": "@jupyter-widgets/controls",
            "_view_module_version": "1.5.0",
            "_view_name": "ProgressView",
            "bar_style": "success",
            "description": "",
            "description_tooltip": null,
            "layout": "IPY_MODEL_fb74b5ad2ad34411bcfd220c0fad5d49",
            "max": 445063862,
            "min": 0,
            "orientation": "horizontal",
            "style": "IPY_MODEL_3ece4e262e9e432d933b0bb40b2e9e8d",
            "value": 445063862
          }
        },
        "63c8c05bdeac4d3a9f966984d4d78538": {
          "model_module": "@jupyter-widgets/controls",
          "model_name": "HTMLModel",
          "model_module_version": "1.5.0",
          "state": {
            "_dom_classes": [],
            "_model_module": "@jupyter-widgets/controls",
            "_model_module_version": "1.5.0",
            "_model_name": "HTMLModel",
            "_view_count": null,
            "_view_module": "@jupyter-widgets/controls",
            "_view_module_version": "1.5.0",
            "_view_name": "HTMLView",
            "description": "",
            "description_tooltip": null,
            "layout": "IPY_MODEL_843b0df8ded04f2b827b649e3cf22164",
            "placeholder": "​",
            "style": "IPY_MODEL_401baa399fb144f8a491852222f2f36a",
            "value": " 445M/445M [00:23&lt;00:00, 21.4MB/s]"
          }
        },
        "807e6246e70342cb8ed9cc9843526eb8": {
          "model_module": "@jupyter-widgets/base",
          "model_name": "LayoutModel",
          "model_module_version": "1.2.0",
          "state": {
            "_model_module": "@jupyter-widgets/base",
            "_model_module_version": "1.2.0",
            "_model_name": "LayoutModel",
            "_view_count": null,
            "_view_module": "@jupyter-widgets/base",
            "_view_module_version": "1.2.0",
            "_view_name": "LayoutView",
            "align_content": null,
            "align_items": null,
            "align_self": null,
            "border": null,
            "bottom": null,
            "display": null,
            "flex": null,
            "flex_flow": null,
            "grid_area": null,
            "grid_auto_columns": null,
            "grid_auto_flow": null,
            "grid_auto_rows": null,
            "grid_column": null,
            "grid_gap": null,
            "grid_row": null,
            "grid_template_areas": null,
            "grid_template_columns": null,
            "grid_template_rows": null,
            "height": null,
            "justify_content": null,
            "justify_items": null,
            "left": null,
            "margin": null,
            "max_height": null,
            "max_width": null,
            "min_height": null,
            "min_width": null,
            "object_fit": null,
            "object_position": null,
            "order": null,
            "overflow": null,
            "overflow_x": null,
            "overflow_y": null,
            "padding": null,
            "right": null,
            "top": null,
            "visibility": null,
            "width": null
          }
        },
        "4a52f893f3014421bc43bd5f9d1a4204": {
          "model_module": "@jupyter-widgets/base",
          "model_name": "LayoutModel",
          "model_module_version": "1.2.0",
          "state": {
            "_model_module": "@jupyter-widgets/base",
            "_model_module_version": "1.2.0",
            "_model_name": "LayoutModel",
            "_view_count": null,
            "_view_module": "@jupyter-widgets/base",
            "_view_module_version": "1.2.0",
            "_view_name": "LayoutView",
            "align_content": null,
            "align_items": null,
            "align_self": null,
            "border": null,
            "bottom": null,
            "display": null,
            "flex": null,
            "flex_flow": null,
            "grid_area": null,
            "grid_auto_columns": null,
            "grid_auto_flow": null,
            "grid_auto_rows": null,
            "grid_column": null,
            "grid_gap": null,
            "grid_row": null,
            "grid_template_areas": null,
            "grid_template_columns": null,
            "grid_template_rows": null,
            "height": null,
            "justify_content": null,
            "justify_items": null,
            "left": null,
            "margin": null,
            "max_height": null,
            "max_width": null,
            "min_height": null,
            "min_width": null,
            "object_fit": null,
            "object_position": null,
            "order": null,
            "overflow": null,
            "overflow_x": null,
            "overflow_y": null,
            "padding": null,
            "right": null,
            "top": null,
            "visibility": null,
            "width": null
          }
        },
        "d41ed36d371b4230872682f4da061053": {
          "model_module": "@jupyter-widgets/controls",
          "model_name": "DescriptionStyleModel",
          "model_module_version": "1.5.0",
          "state": {
            "_model_module": "@jupyter-widgets/controls",
            "_model_module_version": "1.5.0",
            "_model_name": "DescriptionStyleModel",
            "_view_count": null,
            "_view_module": "@jupyter-widgets/base",
            "_view_module_version": "1.2.0",
            "_view_name": "StyleView",
            "description_width": ""
          }
        },
        "fb74b5ad2ad34411bcfd220c0fad5d49": {
          "model_module": "@jupyter-widgets/base",
          "model_name": "LayoutModel",
          "model_module_version": "1.2.0",
          "state": {
            "_model_module": "@jupyter-widgets/base",
            "_model_module_version": "1.2.0",
            "_model_name": "LayoutModel",
            "_view_count": null,
            "_view_module": "@jupyter-widgets/base",
            "_view_module_version": "1.2.0",
            "_view_name": "LayoutView",
            "align_content": null,
            "align_items": null,
            "align_self": null,
            "border": null,
            "bottom": null,
            "display": null,
            "flex": null,
            "flex_flow": null,
            "grid_area": null,
            "grid_auto_columns": null,
            "grid_auto_flow": null,
            "grid_auto_rows": null,
            "grid_column": null,
            "grid_gap": null,
            "grid_row": null,
            "grid_template_areas": null,
            "grid_template_columns": null,
            "grid_template_rows": null,
            "height": null,
            "justify_content": null,
            "justify_items": null,
            "left": null,
            "margin": null,
            "max_height": null,
            "max_width": null,
            "min_height": null,
            "min_width": null,
            "object_fit": null,
            "object_position": null,
            "order": null,
            "overflow": null,
            "overflow_x": null,
            "overflow_y": null,
            "padding": null,
            "right": null,
            "top": null,
            "visibility": null,
            "width": null
          }
        },
        "3ece4e262e9e432d933b0bb40b2e9e8d": {
          "model_module": "@jupyter-widgets/controls",
          "model_name": "ProgressStyleModel",
          "model_module_version": "1.5.0",
          "state": {
            "_model_module": "@jupyter-widgets/controls",
            "_model_module_version": "1.5.0",
            "_model_name": "ProgressStyleModel",
            "_view_count": null,
            "_view_module": "@jupyter-widgets/base",
            "_view_module_version": "1.2.0",
            "_view_name": "StyleView",
            "bar_color": null,
            "description_width": ""
          }
        },
        "843b0df8ded04f2b827b649e3cf22164": {
          "model_module": "@jupyter-widgets/base",
          "model_name": "LayoutModel",
          "model_module_version": "1.2.0",
          "state": {
            "_model_module": "@jupyter-widgets/base",
            "_model_module_version": "1.2.0",
            "_model_name": "LayoutModel",
            "_view_count": null,
            "_view_module": "@jupyter-widgets/base",
            "_view_module_version": "1.2.0",
            "_view_name": "LayoutView",
            "align_content": null,
            "align_items": null,
            "align_self": null,
            "border": null,
            "bottom": null,
            "display": null,
            "flex": null,
            "flex_flow": null,
            "grid_area": null,
            "grid_auto_columns": null,
            "grid_auto_flow": null,
            "grid_auto_rows": null,
            "grid_column": null,
            "grid_gap": null,
            "grid_row": null,
            "grid_template_areas": null,
            "grid_template_columns": null,
            "grid_template_rows": null,
            "height": null,
            "justify_content": null,
            "justify_items": null,
            "left": null,
            "margin": null,
            "max_height": null,
            "max_width": null,
            "min_height": null,
            "min_width": null,
            "object_fit": null,
            "object_position": null,
            "order": null,
            "overflow": null,
            "overflow_x": null,
            "overflow_y": null,
            "padding": null,
            "right": null,
            "top": null,
            "visibility": null,
            "width": null
          }
        },
        "401baa399fb144f8a491852222f2f36a": {
          "model_module": "@jupyter-widgets/controls",
          "model_name": "DescriptionStyleModel",
          "model_module_version": "1.5.0",
          "state": {
            "_model_module": "@jupyter-widgets/controls",
            "_model_module_version": "1.5.0",
            "_model_name": "DescriptionStyleModel",
            "_view_count": null,
            "_view_module": "@jupyter-widgets/base",
            "_view_module_version": "1.2.0",
            "_view_name": "StyleView",
            "description_width": ""
          }
        }
      }
    }
  },
  "cells": [
    {
      "cell_type": "code",
      "execution_count": 1,
      "metadata": {
        "colab": {
          "base_uri": "https://localhost:8080/"
        },
        "id": "Wf0Ee_SOf0qi",
        "outputId": "200b9384-f68f-4a7a-c02f-18724d982bbc"
      },
      "outputs": [
        {
          "output_type": "stream",
          "name": "stdout",
          "text": [
            "Cloning into 'HGT-2022-EmDomArDon'...\n",
            "remote: Enumerating objects: 91, done.\u001b[K\n",
            "remote: Counting objects: 100% (91/91), done.\u001b[K\n",
            "remote: Compressing objects: 100% (75/75), done.\u001b[K\n",
            "remote: Total 91 (delta 48), reused 45 (delta 15), pack-reused 0\u001b[K\n",
            "Unpacking objects: 100% (91/91), done.\n"
          ]
        }
      ],
      "source": [
        "!git clone https://github.com/konderal333/HGT-2022-EmDomArDon.git"
      ]
    },
    {
      "cell_type": "code",
      "source": [
        "import numpy as np\n",
        "import pandas as pd"
      ],
      "metadata": {
        "id": "oLsjhiWggpKu"
      },
      "execution_count": 2,
      "outputs": []
    },
    {
      "cell_type": "code",
      "source": [
        "df = pd.read_csv(\"/content/HGT-2022-EmDomArDon/cikkek_10k_cleanedv1.csv\")"
      ],
      "metadata": {
        "id": "gcCdIAFigtO1"
      },
      "execution_count": 3,
      "outputs": []
    },
    {
      "cell_type": "code",
      "source": [
        "!pip install transformers"
      ],
      "metadata": {
        "colab": {
          "base_uri": "https://localhost:8080/"
        },
        "id": "8XZHCm-dgwKA",
        "outputId": "b72e3326-0d21-4ba7-b6a8-22322c67e695"
      },
      "execution_count": 4,
      "outputs": [
        {
          "output_type": "stream",
          "name": "stdout",
          "text": [
            "Looking in indexes: https://pypi.org/simple, https://us-python.pkg.dev/colab-wheels/public/simple/\n",
            "Collecting transformers\n",
            "  Downloading transformers-4.24.0-py3-none-any.whl (5.5 MB)\n",
            "\u001b[K     |████████████████████████████████| 5.5 MB 2.7 MB/s \n",
            "\u001b[?25hRequirement already satisfied: tqdm>=4.27 in /usr/local/lib/python3.7/dist-packages (from transformers) (4.64.1)\n",
            "Requirement already satisfied: importlib-metadata in /usr/local/lib/python3.7/dist-packages (from transformers) (4.13.0)\n",
            "Requirement already satisfied: regex!=2019.12.17 in /usr/local/lib/python3.7/dist-packages (from transformers) (2022.6.2)\n",
            "Collecting tokenizers!=0.11.3,<0.14,>=0.11.1\n",
            "  Downloading tokenizers-0.13.2-cp37-cp37m-manylinux_2_17_x86_64.manylinux2014_x86_64.whl (7.6 MB)\n",
            "\u001b[K     |████████████████████████████████| 7.6 MB 21.1 MB/s \n",
            "\u001b[?25hRequirement already satisfied: pyyaml>=5.1 in /usr/local/lib/python3.7/dist-packages (from transformers) (6.0)\n",
            "Requirement already satisfied: numpy>=1.17 in /usr/local/lib/python3.7/dist-packages (from transformers) (1.21.6)\n",
            "Requirement already satisfied: filelock in /usr/local/lib/python3.7/dist-packages (from transformers) (3.8.0)\n",
            "Requirement already satisfied: packaging>=20.0 in /usr/local/lib/python3.7/dist-packages (from transformers) (21.3)\n",
            "Requirement already satisfied: requests in /usr/local/lib/python3.7/dist-packages (from transformers) (2.23.0)\n",
            "Collecting huggingface-hub<1.0,>=0.10.0\n",
            "  Downloading huggingface_hub-0.10.1-py3-none-any.whl (163 kB)\n",
            "\u001b[K     |████████████████████████████████| 163 kB 49.4 MB/s \n",
            "\u001b[?25hRequirement already satisfied: typing-extensions>=3.7.4.3 in /usr/local/lib/python3.7/dist-packages (from huggingface-hub<1.0,>=0.10.0->transformers) (4.1.1)\n",
            "Requirement already satisfied: pyparsing!=3.0.5,>=2.0.2 in /usr/local/lib/python3.7/dist-packages (from packaging>=20.0->transformers) (3.0.9)\n",
            "Requirement already satisfied: zipp>=0.5 in /usr/local/lib/python3.7/dist-packages (from importlib-metadata->transformers) (3.10.0)\n",
            "Requirement already satisfied: chardet<4,>=3.0.2 in /usr/local/lib/python3.7/dist-packages (from requests->transformers) (3.0.4)\n",
            "Requirement already satisfied: certifi>=2017.4.17 in /usr/local/lib/python3.7/dist-packages (from requests->transformers) (2022.9.24)\n",
            "Requirement already satisfied: urllib3!=1.25.0,!=1.25.1,<1.26,>=1.21.1 in /usr/local/lib/python3.7/dist-packages (from requests->transformers) (1.24.3)\n",
            "Requirement already satisfied: idna<3,>=2.5 in /usr/local/lib/python3.7/dist-packages (from requests->transformers) (2.10)\n",
            "Installing collected packages: tokenizers, huggingface-hub, transformers\n",
            "Successfully installed huggingface-hub-0.10.1 tokenizers-0.13.2 transformers-4.24.0\n"
          ]
        }
      ]
    },
    {
      "cell_type": "code",
      "source": [
        "from transformers import AutoTokenizer, AutoModel\n",
        "tokenizer = AutoTokenizer.from_pretrained(\"SZTAKI-HLT/hubert-base-cc\")\n",
        "model = AutoModel.from_pretrained(\"SZTAKI-HLT/hubert-base-cc\")"
      ],
      "metadata": {
        "colab": {
          "base_uri": "https://localhost:8080/",
          "height": 249,
          "referenced_widgets": [
            "a7309529a73643919d5aa757c20a1b25",
            "67f718abb370409698b1174226575ca1",
            "3308791552464aa78c24fc12754b9564",
            "a6c194b4c3474ec48a559180f169120c",
            "c32ed8f1ee274430abe9a93c8ecc32df",
            "d6db3992c3594709b4f5ab0dac8d1802",
            "5141d59211564801af8c61e4578e1149",
            "0129cf3b368b43eeadfac8802f3c0450",
            "2f203f7c57c34169a964bb93cb3f07ed",
            "46d3c468038645f088cc38500025ffc4",
            "39ea3e77a576431ab526d07b09aba205",
            "decf84be700b4e8a85d2fb2da38c339a",
            "cc64c1bf3e5f4100955ab1cb8b189ef5",
            "b08fb3ba2eb54729894c0dac5462758a",
            "5f439ddabf2b4043b8cdfcca085e345f",
            "fd74d62339604247aee449b425e41ef3",
            "5cb6ae2c73a14933aeaacdb5bbe51d47",
            "3b2322cbd6f6493ebd348fae15a566cf",
            "81c1d14814cf4a2087d11393b0a79222",
            "06fd3b36deaf40f68a812ac0d4f2f135",
            "8f82c402ca5a4c3484c71554148a881a",
            "ab45f0480c424a79818ed51e9ab3e8d1",
            "314d2c6953d442b1a42bb3a611e2b6cc",
            "f29243368c5c47b08dd22c684a86ead2",
            "c8bab5b01c03450ebf508c176d2a88d5",
            "5bf993ecfb0542fe833790c1e63c51ad",
            "566ec1b35836497a84bfd21b8de7132b",
            "5f710d823e044de18216b908f3e88973",
            "0266d35736b04fd29e186ddb159db41d",
            "93d82167bebc499eb36bc260a1db8ce8",
            "599eef361353426e8d0f3e5f4338215a",
            "b504f1752b9b4b7dad04467df382fddf",
            "f6297fbc0db247c695039e72b6ce595b",
            "f22795ea15764df9b51583bdc3029d39",
            "09b3458b77fc430a9ceeb2c306c5803c",
            "0b26f1c5acca48168842cda981a83bb5",
            "3adf25550186423da3eff8ca2a880c7f",
            "338345249d5f45a8a6a536327c5fd4bd",
            "09e45864c4b74e03b9ac41195dc2d67e",
            "38d015da502f479f84f57d7e1eb0c638",
            "3fa9a76017fa4cff9df2ec40012fcc9d",
            "d2f54dfbfedb45daa6395ca65003ac63",
            "9110a3b1a5714b4cb613ae52054a50c7",
            "fa52acec8a464787903c509ee1643932",
            "12f3177d8aba49c4b5635e70f6c47360",
            "fb550bc5f8944069af63e733f9037ed3",
            "5b093540388241268bd907b01db1fcc0",
            "63c8c05bdeac4d3a9f966984d4d78538",
            "807e6246e70342cb8ed9cc9843526eb8",
            "4a52f893f3014421bc43bd5f9d1a4204",
            "d41ed36d371b4230872682f4da061053",
            "fb74b5ad2ad34411bcfd220c0fad5d49",
            "3ece4e262e9e432d933b0bb40b2e9e8d",
            "843b0df8ded04f2b827b649e3cf22164",
            "401baa399fb144f8a491852222f2f36a"
          ]
        },
        "id": "rO9me5lwgx9z",
        "outputId": "1cf49a33-97b1-420b-b8df-ce2d92c2fa60"
      },
      "execution_count": 5,
      "outputs": [
        {
          "output_type": "display_data",
          "data": {
            "text/plain": [
              "Downloading:   0%|          | 0.00/86.0 [00:00<?, ?B/s]"
            ],
            "application/vnd.jupyter.widget-view+json": {
              "version_major": 2,
              "version_minor": 0,
              "model_id": "a7309529a73643919d5aa757c20a1b25"
            }
          },
          "metadata": {}
        },
        {
          "output_type": "display_data",
          "data": {
            "text/plain": [
              "Downloading:   0%|          | 0.00/420 [00:00<?, ?B/s]"
            ],
            "application/vnd.jupyter.widget-view+json": {
              "version_major": 2,
              "version_minor": 0,
              "model_id": "decf84be700b4e8a85d2fb2da38c339a"
            }
          },
          "metadata": {}
        },
        {
          "output_type": "display_data",
          "data": {
            "text/plain": [
              "Downloading:   0%|          | 0.00/272k [00:00<?, ?B/s]"
            ],
            "application/vnd.jupyter.widget-view+json": {
              "version_major": 2,
              "version_minor": 0,
              "model_id": "314d2c6953d442b1a42bb3a611e2b6cc"
            }
          },
          "metadata": {}
        },
        {
          "output_type": "display_data",
          "data": {
            "text/plain": [
              "Downloading:   0%|          | 0.00/112 [00:00<?, ?B/s]"
            ],
            "application/vnd.jupyter.widget-view+json": {
              "version_major": 2,
              "version_minor": 0,
              "model_id": "f22795ea15764df9b51583bdc3029d39"
            }
          },
          "metadata": {}
        },
        {
          "output_type": "display_data",
          "data": {
            "text/plain": [
              "Downloading:   0%|          | 0.00/445M [00:00<?, ?B/s]"
            ],
            "application/vnd.jupyter.widget-view+json": {
              "version_major": 2,
              "version_minor": 0,
              "model_id": "12f3177d8aba49c4b5635e70f6c47360"
            }
          },
          "metadata": {}
        },
        {
          "output_type": "stream",
          "name": "stderr",
          "text": [
            "Some weights of the model checkpoint at SZTAKI-HLT/hubert-base-cc were not used when initializing BertModel: ['cls.seq_relationship.weight', 'cls.predictions.bias', 'cls.predictions.transform.LayerNorm.bias', 'cls.predictions.transform.LayerNorm.weight', 'cls.predictions.transform.dense.bias', 'cls.seq_relationship.bias', 'cls.predictions.decoder.weight', 'cls.predictions.decoder.bias', 'cls.predictions.transform.dense.weight']\n",
            "- This IS expected if you are initializing BertModel from the checkpoint of a model trained on another task or with another architecture (e.g. initializing a BertForSequenceClassification model from a BertForPreTraining model).\n",
            "- This IS NOT expected if you are initializing BertModel from the checkpoint of a model that you expect to be exactly identical (initializing a BertForSequenceClassification model from a BertForSequenceClassification model).\n"
          ]
        }
      ]
    },
    {
      "cell_type": "code",
      "source": [
        "!pip install quntoken\n",
        "from quntoken import tokenize   #module to break text into sentences"
      ],
      "metadata": {
        "colab": {
          "base_uri": "https://localhost:8080/"
        },
        "id": "2IlC24zbg1xG",
        "outputId": "9ac9ec41-390a-44f2-a068-b6c2b029373f"
      },
      "execution_count": 6,
      "outputs": [
        {
          "output_type": "stream",
          "name": "stdout",
          "text": [
            "Looking in indexes: https://pypi.org/simple, https://us-python.pkg.dev/colab-wheels/public/simple/\n",
            "Collecting quntoken\n",
            "  Downloading quntoken-3.1.8-py3-none-any.whl (9.9 MB)\n",
            "\u001b[K     |████████████████████████████████| 9.9 MB 3.5 MB/s \n",
            "\u001b[?25hInstalling collected packages: quntoken\n",
            "Successfully installed quntoken-3.1.8\n"
          ]
        }
      ]
    },
    {
      "cell_type": "code",
      "source": [
        "import re\n",
        "import nltk\n",
        "nltk.download('punkt')"
      ],
      "metadata": {
        "colab": {
          "base_uri": "https://localhost:8080/"
        },
        "id": "KZWJGuajg390",
        "outputId": "a736366b-c8c1-479f-b275-8612d7e5c5bc"
      },
      "execution_count": 7,
      "outputs": [
        {
          "output_type": "stream",
          "name": "stderr",
          "text": [
            "[nltk_data] Downloading package punkt to /root/nltk_data...\n",
            "[nltk_data]   Unzipping tokenizers/punkt.zip.\n"
          ]
        },
        {
          "output_type": "execute_result",
          "data": {
            "text/plain": [
              "True"
            ]
          },
          "metadata": {},
          "execution_count": 7
        }
      ]
    },
    {
      "cell_type": "code",
      "source": [
        "dict_of_tokens = {} \n",
        "#this dict will contain the article title as keys and the tokenized lists from the function below as values\n",
        "\n",
        "def text_to_tokens(art_title, x):      \n",
        "  #insert the text to tokenize; first breaks text into sentences, then makes a list of lists with the i-th element being the tokenization of the i-th sentence\n",
        "  #dictionary is being used for faster computation and easier accessibility\n",
        "  sentence_list = []\n",
        "  token_list = []\n",
        "\n",
        "  x = re.sub(r\"(\\.)([A-Z])\", r'\\1 \\2', x) # fixes missings whitespaces between sentences\n",
        " \n",
        "  for sen in nltk.tokenize.sent_tokenize(x):\n",
        "    sentence_list.append(sen)\n",
        "    token_list.append(tokenizer.tokenize(sen))\n",
        "\n",
        "  dict_of_tokens[art_title] = token_list"
      ],
      "metadata": {
        "id": "GBxIiS2wg5Xs"
      },
      "execution_count": 8,
      "outputs": []
    },
    {
      "cell_type": "code",
      "source": [
        "# making the tokens\n",
        "for i in range(len(df.Title)):\n",
        "  text_to_tokens(df.Title[i].strip(), df.Textbody[i])"
      ],
      "metadata": {
        "id": "EkH6v9wtg7Dc"
      },
      "execution_count": 9,
      "outputs": []
    },
    {
      "cell_type": "markdown",
      "source": [
        "Summarization (Extractive)"
      ],
      "metadata": {
        "id": "-MyYLZMbibWU"
      }
    },
    {
      "cell_type": "code",
      "source": [
        "!pip install bert-extractive-summarizer"
      ],
      "metadata": {
        "colab": {
          "base_uri": "https://localhost:8080/"
        },
        "id": "P3FUCMonicub",
        "outputId": "37de3324-bd5d-4e77-e345-93ed1189e69d"
      },
      "execution_count": 10,
      "outputs": [
        {
          "output_type": "stream",
          "name": "stdout",
          "text": [
            "Looking in indexes: https://pypi.org/simple, https://us-python.pkg.dev/colab-wheels/public/simple/\n",
            "Collecting bert-extractive-summarizer\n",
            "  Downloading bert_extractive_summarizer-0.10.1-py3-none-any.whl (25 kB)\n",
            "Requirement already satisfied: spacy in /usr/local/lib/python3.7/dist-packages (from bert-extractive-summarizer) (3.4.2)\n",
            "Requirement already satisfied: scikit-learn in /usr/local/lib/python3.7/dist-packages (from bert-extractive-summarizer) (1.0.2)\n",
            "Requirement already satisfied: transformers in /usr/local/lib/python3.7/dist-packages (from bert-extractive-summarizer) (4.24.0)\n",
            "Requirement already satisfied: joblib>=0.11 in /usr/local/lib/python3.7/dist-packages (from scikit-learn->bert-extractive-summarizer) (1.2.0)\n",
            "Requirement already satisfied: scipy>=1.1.0 in /usr/local/lib/python3.7/dist-packages (from scikit-learn->bert-extractive-summarizer) (1.7.3)\n",
            "Requirement already satisfied: threadpoolctl>=2.0.0 in /usr/local/lib/python3.7/dist-packages (from scikit-learn->bert-extractive-summarizer) (3.1.0)\n",
            "Requirement already satisfied: numpy>=1.14.6 in /usr/local/lib/python3.7/dist-packages (from scikit-learn->bert-extractive-summarizer) (1.21.6)\n",
            "Requirement already satisfied: packaging>=20.0 in /usr/local/lib/python3.7/dist-packages (from spacy->bert-extractive-summarizer) (21.3)\n",
            "Requirement already satisfied: preshed<3.1.0,>=3.0.2 in /usr/local/lib/python3.7/dist-packages (from spacy->bert-extractive-summarizer) (3.0.8)\n",
            "Requirement already satisfied: catalogue<2.1.0,>=2.0.6 in /usr/local/lib/python3.7/dist-packages (from spacy->bert-extractive-summarizer) (2.0.8)\n",
            "Requirement already satisfied: tqdm<5.0.0,>=4.38.0 in /usr/local/lib/python3.7/dist-packages (from spacy->bert-extractive-summarizer) (4.64.1)\n",
            "Requirement already satisfied: typing-extensions<4.2.0,>=3.7.4 in /usr/local/lib/python3.7/dist-packages (from spacy->bert-extractive-summarizer) (4.1.1)\n",
            "Requirement already satisfied: spacy-legacy<3.1.0,>=3.0.10 in /usr/local/lib/python3.7/dist-packages (from spacy->bert-extractive-summarizer) (3.0.10)\n",
            "Requirement already satisfied: jinja2 in /usr/local/lib/python3.7/dist-packages (from spacy->bert-extractive-summarizer) (2.11.3)\n",
            "Requirement already satisfied: requests<3.0.0,>=2.13.0 in /usr/local/lib/python3.7/dist-packages (from spacy->bert-extractive-summarizer) (2.23.0)\n",
            "Requirement already satisfied: thinc<8.2.0,>=8.1.0 in /usr/local/lib/python3.7/dist-packages (from spacy->bert-extractive-summarizer) (8.1.5)\n",
            "Requirement already satisfied: pydantic!=1.8,!=1.8.1,<1.11.0,>=1.7.4 in /usr/local/lib/python3.7/dist-packages (from spacy->bert-extractive-summarizer) (1.10.2)\n",
            "Requirement already satisfied: pathy>=0.3.5 in /usr/local/lib/python3.7/dist-packages (from spacy->bert-extractive-summarizer) (0.6.2)\n",
            "Requirement already satisfied: spacy-loggers<2.0.0,>=1.0.0 in /usr/local/lib/python3.7/dist-packages (from spacy->bert-extractive-summarizer) (1.0.3)\n",
            "Requirement already satisfied: wasabi<1.1.0,>=0.9.1 in /usr/local/lib/python3.7/dist-packages (from spacy->bert-extractive-summarizer) (0.10.1)\n",
            "Requirement already satisfied: langcodes<4.0.0,>=3.2.0 in /usr/local/lib/python3.7/dist-packages (from spacy->bert-extractive-summarizer) (3.3.0)\n",
            "Requirement already satisfied: setuptools in /usr/local/lib/python3.7/dist-packages (from spacy->bert-extractive-summarizer) (57.4.0)\n",
            "Requirement already satisfied: murmurhash<1.1.0,>=0.28.0 in /usr/local/lib/python3.7/dist-packages (from spacy->bert-extractive-summarizer) (1.0.9)\n",
            "Requirement already satisfied: typer<0.5.0,>=0.3.0 in /usr/local/lib/python3.7/dist-packages (from spacy->bert-extractive-summarizer) (0.4.2)\n",
            "Requirement already satisfied: srsly<3.0.0,>=2.4.3 in /usr/local/lib/python3.7/dist-packages (from spacy->bert-extractive-summarizer) (2.4.5)\n",
            "Requirement already satisfied: cymem<2.1.0,>=2.0.2 in /usr/local/lib/python3.7/dist-packages (from spacy->bert-extractive-summarizer) (2.0.7)\n",
            "Requirement already satisfied: zipp>=0.5 in /usr/local/lib/python3.7/dist-packages (from catalogue<2.1.0,>=2.0.6->spacy->bert-extractive-summarizer) (3.10.0)\n",
            "Requirement already satisfied: pyparsing!=3.0.5,>=2.0.2 in /usr/local/lib/python3.7/dist-packages (from packaging>=20.0->spacy->bert-extractive-summarizer) (3.0.9)\n",
            "Requirement already satisfied: smart-open<6.0.0,>=5.2.1 in /usr/local/lib/python3.7/dist-packages (from pathy>=0.3.5->spacy->bert-extractive-summarizer) (5.2.1)\n",
            "Requirement already satisfied: chardet<4,>=3.0.2 in /usr/local/lib/python3.7/dist-packages (from requests<3.0.0,>=2.13.0->spacy->bert-extractive-summarizer) (3.0.4)\n",
            "Requirement already satisfied: urllib3!=1.25.0,!=1.25.1,<1.26,>=1.21.1 in /usr/local/lib/python3.7/dist-packages (from requests<3.0.0,>=2.13.0->spacy->bert-extractive-summarizer) (1.24.3)\n",
            "Requirement already satisfied: certifi>=2017.4.17 in /usr/local/lib/python3.7/dist-packages (from requests<3.0.0,>=2.13.0->spacy->bert-extractive-summarizer) (2022.9.24)\n",
            "Requirement already satisfied: idna<3,>=2.5 in /usr/local/lib/python3.7/dist-packages (from requests<3.0.0,>=2.13.0->spacy->bert-extractive-summarizer) (2.10)\n",
            "Requirement already satisfied: blis<0.8.0,>=0.7.8 in /usr/local/lib/python3.7/dist-packages (from thinc<8.2.0,>=8.1.0->spacy->bert-extractive-summarizer) (0.7.9)\n",
            "Requirement already satisfied: confection<1.0.0,>=0.0.1 in /usr/local/lib/python3.7/dist-packages (from thinc<8.2.0,>=8.1.0->spacy->bert-extractive-summarizer) (0.0.3)\n",
            "Requirement already satisfied: click<9.0.0,>=7.1.1 in /usr/local/lib/python3.7/dist-packages (from typer<0.5.0,>=0.3.0->spacy->bert-extractive-summarizer) (7.1.2)\n",
            "Requirement already satisfied: MarkupSafe>=0.23 in /usr/local/lib/python3.7/dist-packages (from jinja2->spacy->bert-extractive-summarizer) (2.0.1)\n",
            "Requirement already satisfied: tokenizers!=0.11.3,<0.14,>=0.11.1 in /usr/local/lib/python3.7/dist-packages (from transformers->bert-extractive-summarizer) (0.13.2)\n",
            "Requirement already satisfied: filelock in /usr/local/lib/python3.7/dist-packages (from transformers->bert-extractive-summarizer) (3.8.0)\n",
            "Requirement already satisfied: importlib-metadata in /usr/local/lib/python3.7/dist-packages (from transformers->bert-extractive-summarizer) (4.13.0)\n",
            "Requirement already satisfied: pyyaml>=5.1 in /usr/local/lib/python3.7/dist-packages (from transformers->bert-extractive-summarizer) (6.0)\n",
            "Requirement already satisfied: regex!=2019.12.17 in /usr/local/lib/python3.7/dist-packages (from transformers->bert-extractive-summarizer) (2022.6.2)\n",
            "Requirement already satisfied: huggingface-hub<1.0,>=0.10.0 in /usr/local/lib/python3.7/dist-packages (from transformers->bert-extractive-summarizer) (0.10.1)\n",
            "Installing collected packages: bert-extractive-summarizer\n",
            "Successfully installed bert-extractive-summarizer-0.10.1\n"
          ]
        }
      ]
    },
    {
      "cell_type": "code",
      "source": [
        "from summarizer import Summarizer,TransformerSummarizer"
      ],
      "metadata": {
        "id": "-VAjR_pNidIK"
      },
      "execution_count": 11,
      "outputs": []
    },
    {
      "cell_type": "code",
      "source": [
        "hubert_model = TransformerSummarizer(transformer_type=\"Bert\",transformer_model_key=\"SZTAKI-HLT/hubert-base-cc\")\n",
        "full = ''.join(hubert_model(df.iloc[100]['Textbody'], min_length=60))\n",
        "print(\"\")\n",
        "print(full)"
      ],
      "metadata": {
        "colab": {
          "base_uri": "https://localhost:8080/"
        },
        "id": "VhmiETfoihP8",
        "outputId": "5d641666-06d9-4024-8292-d85a587a8639"
      },
      "execution_count": 12,
      "outputs": [
        {
          "output_type": "stream",
          "name": "stderr",
          "text": [
            "Some weights of the model checkpoint at SZTAKI-HLT/hubert-base-cc were not used when initializing BertModel: ['cls.seq_relationship.weight', 'cls.predictions.bias', 'cls.predictions.transform.LayerNorm.bias', 'cls.predictions.transform.LayerNorm.weight', 'cls.predictions.transform.dense.bias', 'cls.seq_relationship.bias', 'cls.predictions.decoder.weight', 'cls.predictions.decoder.bias', 'cls.predictions.transform.dense.weight']\n",
            "- This IS expected if you are initializing BertModel from the checkpoint of a model trained on another task or with another architecture (e.g. initializing a BertForSequenceClassification model from a BertForPreTraining model).\n",
            "- This IS NOT expected if you are initializing BertModel from the checkpoint of a model that you expect to be exactly identical (initializing a BertForSequenceClassification model from a BertForSequenceClassification model).\n"
          ]
        },
        {
          "output_type": "stream",
          "name": "stdout",
          "text": [
            "\n",
            "13 százalékra emelte az alapkamatot a jegybank szeptember 27-én, ami 22 éves rekordnak felel meg. Na de miért pont 13 százalékon álltak meg, miért nem 3-on vagy éppen 23-on? De a 22 éves rekord is beszédes: hogy lehet, hogy az országot minden szempontból megrázó 2008-as válság idején sem emelték ilyen magasra a kamatot, ha most (még) messze nincs olyan rossz helyzetben a gazdaság?Leginkább az infláció ellen használjákArról, hogy mi is az az alapkamat, itt írtunk bővebben, a nagyon rövid lényeg, hogy ennek variálásával változnak meg azok a kamatok is, amelyeket a magánemberek és a cégek hiteleik után fizetnek, valamint bankbetétjeik után kapnak. De akkor hogy lehet, hogy a hasonló inflációval rendelkező Lengyelországban és Csehországban körülbelül feleennyi az alapkamat, a 9,1 százalékos inflációt nyögő eurózónában pedig csak nemrég emelték azt 1,25 százalékra?Van, ahol mínuszban van, máshol 200 százalékHa megnézzük, hogy világ országai közül hol mennyi az alapkamat, eléggé különböző értékeket kapunk. A listát Japán vezeti -0,1 százalékkal, de rögtön utána következik Bulgária 0 százalékkal, majd nem sokkal később az eurózóna 1,25 százalékkal. Ahol tehát nagy a drágulás üteme, magasra emelik az alapkamatot is, hogy letörjék az árakat. Kétségtelen, hogy világszinten a két érték erősen együtt mozog – Zimbabwe például 200 százalékos alapkamattal és 280 százalékos inflációval mindkét listát simán vezeti –, de helyi szinten ez már nem igaz. Ennek megfelelően értelemszerűen nem jó az égbe emelni, és jobban járnak azok az országok, amelyek nem kényszerülnek ennyire a magasba tolni azt. Rottyon van a forintAz Európai Unióban messze legmagasabb alapkamat magyarázata tehát sokkal kevésbé a felpörgött, de a Baltikumtól még mindig elmaradó infláció, mint a forint siralmas állapota. És nem lehet elfelejteni természetesen a politikai okokat sem: a magyar kormány „békepártinak” nevezett oroszbarát külpolitikája és retorikája a meglehetősen ukránpárti Nyugaton folyamatosan megbotránkozást kelt, az ország kitettsége az orosz gáznak pedig egy újabb kockázati tényező a befektetőknek. A magyar devizatartalék drasztikus lecsökkenését sokan tragikusnak tartják, Jaksity György közgazdász nemrég arról is beszélt, hogy elképzelhető, hogy akár az IMF-et is be kell majd hívni segíteni a következő hónapokban. Sőt, a valóság leginkább az, hogy a kormány a választások előtti pénzosztásával rátett egy nagy lapáttal az inflációra, gazdaságpolitikai döntéseivel pedig aktívan rombolta a befektetők bizalmát és az ország pénzügyi helyzetét.\n"
          ]
        }
      ]
    },
    {
      "cell_type": "code",
      "source": [
        "hubert_model(df.iloc[100]['Textbody'], min_length=60)"
      ],
      "metadata": {
        "id": "XyVJYbIdo-8I",
        "outputId": "01620211-89f4-456b-ae4a-90d7146d58b1",
        "colab": {
          "base_uri": "https://localhost:8080/",
          "height": 296
        }
      },
      "execution_count": 13,
      "outputs": [
        {
          "output_type": "execute_result",
          "data": {
            "text/plain": [
              "'13 százalékra emelte az alapkamatot a jegybank szeptember 27-én, ami 22 éves rekordnak felel meg. Na de miért pont 13 százalékon álltak meg, miért nem 3-on vagy éppen 23-on? De a 22 éves rekord is beszédes: hogy lehet, hogy az országot minden szempontból megrázó 2008-as válság idején sem emelték ilyen magasra a kamatot, ha most (még) messze nincs olyan rossz helyzetben a gazdaság?Leginkább az infláció ellen használjákArról, hogy mi is az az alapkamat, itt írtunk bővebben, a nagyon rövid lényeg, hogy ennek variálásával változnak meg azok a kamatok is, amelyeket a magánemberek és a cégek hiteleik után fizetnek, valamint bankbetétjeik után kapnak. De akkor hogy lehet, hogy a hasonló inflációval rendelkező Lengyelországban és Csehországban körülbelül feleennyi az alapkamat, a 9,1 százalékos inflációt nyögő eurózónában pedig csak nemrég emelték azt 1,25 százalékra?Van, ahol mínuszban van, máshol 200 százalékHa megnézzük, hogy világ országai közül hol mennyi az alapkamat, eléggé különböző értékeket kapunk. A listát Japán vezeti -0,1 százalékkal, de rögtön utána következik Bulgária 0 százalékkal, majd nem sokkal később az eurózóna 1,25 százalékkal. Ahol tehát nagy a drágulás üteme, magasra emelik az alapkamatot is, hogy letörjék az árakat. Kétségtelen, hogy világszinten a két érték erősen együtt mozog – Zimbabwe például 200 százalékos alapkamattal és 280 százalékos inflációval mindkét listát simán vezeti –, de helyi szinten ez már nem igaz. Ennek megfelelően értelemszerűen nem jó az égbe emelni, és jobban járnak azok az országok, amelyek nem kényszerülnek ennyire a magasba tolni azt. Rottyon van a forintAz Európai Unióban messze legmagasabb alapkamat magyarázata tehát sokkal kevésbé a felpörgött, de a Baltikumtól még mindig elmaradó infláció, mint a forint siralmas állapota. És nem lehet elfelejteni természetesen a politikai okokat sem: a magyar kormány „békepártinak” nevezett oroszbarát külpolitikája és retorikája a meglehetősen ukránpárti Nyugaton folyamatosan megbotránkozást kelt, az ország kitettsége az orosz gáznak pedig egy újabb kockázati tényező a befektetőknek. A magyar devizatartalék drasztikus lecsökkenését sokan tragikusnak tartják, Jaksity György közgazdász nemrég arról is beszélt, hogy elképzelhető, hogy akár az IMF-et is be kell majd hívni segíteni a következő hónapokban. Sőt, a valóság leginkább az, hogy a kormány a választások előtti pénzosztásával rátett egy nagy lapáttal az inflációra, gazdaságpolitikai döntéseivel pedig aktívan rombolta a befektetők bizalmát és az ország pénzügyi helyzetét.'"
            ],
            "application/vnd.google.colaboratory.intrinsic+json": {
              "type": "string"
            }
          },
          "metadata": {},
          "execution_count": 13
        }
      ]
    },
    {
      "cell_type": "code",
      "source": [
        "df.iloc[100]['Textbody']"
      ],
      "metadata": {
        "colab": {
          "base_uri": "https://localhost:8080/",
          "height": 1000
        },
        "id": "BlLpiAd3jFXK",
        "outputId": "345b8517-9b06-4c76-a19b-935b94aac968"
      },
      "execution_count": 14,
      "outputs": [
        {
          "output_type": "execute_result",
          "data": {
            "text/plain": [
              "'13 százalékra emelte az alapkamatot a jegybank szeptember 27-én, ami 22 éves rekordnak felel meg. Még aznap bejelentette Matolcsy György, hogy ez volt az utolsó emelés, a következő hónapokban nem fognak változtatni az alapkamat mértékén, a tervek szerint tehát ezzel a kamatszinttel vészeli át az ország az inflációs és gazdasági válság legrosszabb időszakát.Na de miért pont 13 százalékon álltak meg, miért nem 3-on vagy éppen 23-on? A kérdés egyáltalán nem hülyeség, az eurózónában ugyanis ennek töredéke (1,25 százalék) az alapkamat, Bulgáriában pedig szeptember végén 0 százalék volt. De a másik végletre is van példa: Ukrajnában például 25 százalék a kamatszint, míg Argentínában 75 százalék.A 13 százalék tehát akár önkényesnek is tűnhet, főleg, hogy az alapkamattal kapcsolatban leggyakrabban felmerülő másik mutató, az infláció éppen 20 százalék körül áll Magyarországon. De a 22 éves rekord is beszédes: hogy lehet, hogy az országot minden szempontból megrázó 2008-as válság idején sem emelték ilyen magasra a kamatot, ha most (még) messze nincs olyan rossz helyzetben a gazdaság?Leginkább az infláció ellen használjákArról, hogy mi is az az alapkamat, itt írtunk bővebben, a nagyon rövid lényeg, hogy ennek variálásával változnak meg azok a kamatok is, amelyeket a magánemberek és a cégek hiteleik után fizetnek, valamint bankbetétjeik után kapnak. Nyilván a bankok rárakják a nyereségüket a hitelekre, és levonják azt a betétek kamataiból, de összességében annak a kamatnak a mértékét, amelyet nekünk a bankban ajánlanak, a jegybanki alapkamat határozza meg.Ha olcsók a hitelek, mindenki felveszi őket, vásárol, ami miatt pörög a gazdaság, növekednek az árak. Ha magas a kamat, akkor inkább betesszük a pénzünket a bankba, és nem veszünk fel hitelt, így kevesebbet vásárlunk, nem megy annyira a gazdaság, ami miatt kevésbé nőnek (vagy akár egyenesen csökkennek) az árak.A jegybank ezért leginkább arra használja az alapkamatot, hogy az inflációt a normális mederbe terelje. Mivel ez az utóbbi hónapokban igencsak elszabadult, teljesen logikus, hogy az alapkamatot is emelték, hiszen ez a drágulás megállításának legjobb eszköze. De akkor hogy lehet, hogy a hasonló inflációval rendelkező Lengyelországban és Csehországban körülbelül feleennyi az alapkamat, a 9,1 százalékos inflációt nyögő eurózónában pedig csak nemrég emelték azt 1,25 százalékra?Van, ahol mínuszban van, máshol 200 százalékHa megnézzük, hogy világ országai közül hol mennyi az alapkamat, eléggé különböző értékeket kapunk. A legtöbbet (200 százalék) az évtizedek óta gazdasági és politikai válságban lévő Zimbabwe központi bankja határozta meg. Őket követi az egykor igen fejlett, de az utóbbi időben sorozatos válságoktól és tartósan magas inflációtól szenvedő Argentína 75 százalékkal, illetve a szintén rettenetes állapotban lévő Venezuela 57,63 százalékkal.A dobogó után jellemzően olyan háborúban vagy polgárháborúban álló országok következnek, mint Jemen, Ukrajna vagy Szudán 20 fölötti százalékokkal, majd jönnek az egyszerűen szegény vagy nagyon fejletlen gazdaságok 10 és 20 százalék közötti kamatszintekkel. És közöttük, hátulról 24. helyen ott van Magyarország is a 13 százalékos értékkel.Ez azért is érdekes, mert a hasonló fejlettségű országokban jellemzően ennél jóval alacsonyabb az alapkamat. A listát Japán vezeti -0,1 százalékkal, de rögtön utána következik Bulgária 0 százalékkal, majd nem sokkal később az eurózóna 1,25 százalékkal. Az unióban pedig Románia (5,5 százalék), Lengyelország (6,75 százalék) és Csehország (7 százalék) bírnak a legmagasabb értékkel – természetesen messze elmaradva Magyarország 13 százalékától.Az infláció miatt van? Nem egészenAhogy korábban írtuk, az alapkamatot a jegybankok elsősorban az infláció elleni küzdelemben használják. Ahol tehát nagy a drágulás üteme, magasra emelik az alapkamatot is, hogy letörjék az árakat.Kétségtelen, hogy világszinten a két érték erősen együtt mozog – Zimbabwe például 200 százalékos alapkamattal és 280 százalékos inflációval mindkét listát simán vezeti –, de helyi szinten ez már nem igaz. A következő táblázatban az EU országaiban mért augusztusi inflációt mutatjuk, amelyből világosan látszik: a drágulás ütemét tekintve Magyarország egyáltalán nem lóg ki a volt szocialista országok sorából:Az inflációs helyzet nemzetközi összehasonlításához érdemes megjegyezni, hogy Magyarország nyár közepéig a régió országaihoz képest valamivel kisebb mértékű drágulással bírt, a nyári intézkedések (és főleg a rezsicsökkentés átalakítása) miatt azonban augusztus-szeptemberben kilőttek az árak, az Eurostat augusztusi összehasonlítása szerint így már csak a balti államok drágulnak jobban.Lettországban, Litvániában és Észtországban már egy ideje 20 százalék felett van az infláció (arról, hogy ez miért van így, ebben a cikkünkben írtunk bővebben), de mivel az euróövezet részei, az egységes 1,25 százalékos alapkamat vonatkozik rájuk. A másik érdekes példa Bulgária, ahol az éves infláció augusztusban 15 százalék volt, miközben az alapkamat ugyanebben az időben 0 százalékot tett ki. De, ahogy a következő ábrából is jól látszik, a különbség még a leginkább hasonló országokhoz képest is jelentős:Ebből arra lehet következtetni, hogy nem igaz az állítás, miszerint a jegybank kizárólag az inflációhoz igazítja az alapkamatot. A különböző európai országok példái ugyanis pontosan bemutatják, hogy lehet erre az inflációra sokkal kisebb alapkamattal is reagálni.Miért pont 13?Ezen a ponton vissza kell térni a kérdésre, hogy miért pont 13 százalékon hagyta abba a kamatemelést az MNB. A szomszédos országokban ugyanis van 1,25 százalékos és 25 százalékos alapkamat is, tehát itthon is lehetne 3 százalék vagy akár 23 is.A magyarázat Matolcsy György szerint az, hogy a 13 százalékos alapkamat fogja a gazdaságban elérhető reálkamatokat az éves infláció fölé emelni. Az MNB számításai szerint idén az átlagos éves infláció 14 százalék körül alakul majd, jövőre pedig 11,5–14 százalék között lesz. Ebben a környezetben pedig az emberek akkor rakják be a bankba a pénzüket, ha legalább az inflációval megegyező, de inkább azt meghaladó kamatot kapnak utána. Ezért közelítették hozzá az alapkamatot az általuk becsült éves infláció mértékéhez, ami a többi intézkedésükkel együtt (ezekről itt bővebben) a reálkamatok jelentős növekedéséhez fog vezetni.Másik kérdés, hogy a többi országnak miért nem kell ehhez hasonló döntéseket hoznia. Az Európai Unióból rajtunk kívül senki nem emelte a várható éves infláció környékére az alapkamatot, de még csak a szándék sem látszik. Annak, hogy Magyarország ezt kénytelen volt meglépni, más okai vannak.Egészen más a magyarázatAz alapkamat emelése kiszívja a pénzt a gazdaságból, csökkenti a fogyasztást, amivel rosszat tesz a cégeknek, a gazdaságnak, elbocsátásokhoz vezethet, ami a végén szinte mindenkinek rossz lesz. Ennek megfelelően értelemszerűen nem jó az égbe emelni, és jobban járnak azok az országok, amelyek nem kényszerülnek ennyire a magasba tolni azt.Felmerül a kérdés, hogy mi a különbség a hasonló inflációval megküzdő Csehország, Lengyelország és Magyarország között. A válasz pedig az, hogy minden, kivéve az inflációt, ugyanis nem teljesen igaz, hogy az infláció miatt emelték 13 százalékra az alapkamatot.Jóval nagyobb különbség van a régió országai között egy másik mutatóban, ez pedig a nemzeti valuták elértéktelenedése az erősebb valutákhoz, de leginkább az euróhoz képest. Ebben a cikkünkben még júniusban írtunk részletesen erről a témáról, a helyzet pedig azóta sem változott:az elmúlt egy évben a cseh korona erősödött az euróhoz képest, a lengyel złoty 5 százalékkal gyengült, míg a forint értéke 18 százalékát vesztette el.Elemzések szerint azonban még ennél is jobban elértéktelenedhetett volna a forint, ha nem emelik fel az alapkamatot. A kamatemelés ugyanis azért segíti egy valuta árfolyamát, mert ha a benne fizetett reálkamatok emelkednek, akkor érdemes lesz az adott pénznembe fektetni. Tíz százalék reálkamat mellett már valószínű, hogy lesznek külföldiek, akik forintra váltják a pénzüket, és itt fektetnek be – más kérdés, hogy ez mennyiben ellensúlyozza a forint egyébként tapasztalt értékvesztését.Rottyon van a forintAz Európai Unióban messze legmagasabb alapkamat magyarázata tehát sokkal kevésbé a felpörgött, de a Baltikumtól még mindig elmaradó infláció, mint a forint siralmas állapota. A magyar fizetőeszköz ugyanis egyik negatív rekordot állítja fel a másik után, és egyre világosabbá válik: az MNB már nem tudja befolyásolni az árfolyamot.Azt pedig, hogy a forint miért áll ilyen siralmasan, már több cikkben tárgyaltuk (például ebben és ebben), a rövid lényeg viszont az, hogy:szörnyen néz ki a költségvetés állapota, miután 2020-ban és 2021-ben is rekordhiányt sikerült összehozni, idén az első félévben is közel 900 milliárd forint mínusz jött össze;közben pedig a külkereskedelmi mérleg hónapról hónapra nagyobb mínuszban van, egyedül augusztusban 1,1 milliárd euróval többet importáltunk, mint amennyit exportáltunk.Ez utóbbi azt is jelenti, hogy a pénz folyamatosan megy ki az országból, kénytelenek vagyunk valutát vásárolni, abból kifizetni a számlákat, miközben a magyar termékeket jóval kisebb értékben vásárolják a külföldiek. Ezt azzal lehetne ellensúlyozni, ha hirtelen sok valuta jönne az országba, például éppen az uniós helyreállítási alap részeként, amelyből most 3400 milliárd forintot tart vissza az Európai Bizottság.Persze vannak más okok is a forint gyengesége mögött, a befektetőknek ugyanis sem a tavasszal kivetett ágazati különadók, sem a piacot torzító árstopok nem tetszenek. Ez a két szempont persze érthető is, hiszen ki akarja olyan országba vinni a pénzét, ahol megmondhatják neki, maximum milyen áron adja el a termékét, és különadókat is kivethetnek a cégére egyik pillanatról a másikra.És nem lehet elfelejteni természetesen a politikai okokat sem: a magyar kormány „békepártinak” nevezett oroszbarát külpolitikája és retorikája a meglehetősen ukránpárti Nyugaton folyamatosan megbotránkozást kelt, az ország kitettsége az orosz gáznak pedig egy újabb kockázati tényező a befektetőknek.A magyar devizatartalék drasztikus lecsökkenését sokan tragikusnak tartják, Jaksity György közgazdász nemrég arról is beszélt, hogy elképzelhető, hogy akár az IMF-et is be kell majd hívni segíteni a következő hónapokban. Ez viszont mindenképpen egy pesszimista forgatókönyv, mert bár az infláció és a forint árfolyama nem mutat fényes képet, az államcsődtől nagyon messze van Magyarország.A monetáris politika feltakarítja, amit a fiskális otthagyottA kormány és a jegybank kommunikációját követve úgy tűnhet: az ország vezetése gazdaságpolitikai döntéseket hoz a válság elkerülésére és az EU-s pénzek megszerzésére, miközben Matolcsyék kamatot emelnek az infláció miatt, a kettő azonban nagyban összefügg.Sőt, a valóság leginkább az, hogy a kormány a választások előtti pénzosztásával rátett egy nagy lapáttal az inflációra, gazdaságpolitikai döntéseivel pedig aktívan rombolta a befektetők bizalmát és az ország pénzügyi helyzetét. A jegybank pedig valójában erre reagál a kamatemeléssel.Ez azt jelenti, hogy a kormány olyan döntések sorozatát hozta meg, amellyel rontottak az ország pénzügyi helyzetén és a forint árfolyamán, az MNB pedig ezt igyekszik helyrehozni azzal, hogy az alapkamat megemelésével visszahozza a befektetők bizalmát és növeli az ország pénzügyi tartalékait. Nagyon leegyszerűsítve tehát a 13 százalékos alapkamattal Matolcsy takarít fel Orbán után.'"
            ],
            "application/vnd.google.colaboratory.intrinsic+json": {
              "type": "string"
            }
          },
          "metadata": {},
          "execution_count": 14
        }
      ]
    },
    {
      "cell_type": "code",
      "source": [
        "# another example\n",
        "\n",
        "body = df.iloc[100]['Textbody']\n",
        "summer = Summarizer(custom_model=model, custom_tokenizer=tokenizer)\n",
        "#result = summer(body, ratio=0.2)  # Specified with ratio\n",
        "result = summer(body, num_sentences=3)  # Will return 3 sentences \n",
        "result"
      ],
      "metadata": {
        "colab": {
          "base_uri": "https://localhost:8080/",
          "height": 380
        },
        "id": "QlQs2F-ajJYn",
        "outputId": "e50e7565-c206-4678-e65b-f42674910f53"
      },
      "execution_count": null,
      "outputs": [
        {
          "output_type": "error",
          "ename": "IndexError",
          "evalue": "ignored",
          "traceback": [
            "\u001b[0;31m---------------------------------------------------------------------------\u001b[0m",
            "\u001b[0;31mIndexError\u001b[0m                                Traceback (most recent call last)",
            "\u001b[0;32m<ipython-input-34-70598e9c3afe>\u001b[0m in \u001b[0;36m<module>\u001b[0;34m\u001b[0m\n\u001b[1;32m      4\u001b[0m \u001b[0msummer\u001b[0m \u001b[0;34m=\u001b[0m \u001b[0mSummarizer\u001b[0m\u001b[0;34m(\u001b[0m\u001b[0mcustom_model\u001b[0m\u001b[0;34m=\u001b[0m\u001b[0mmodel\u001b[0m\u001b[0;34m,\u001b[0m \u001b[0mcustom_tokenizer\u001b[0m\u001b[0;34m=\u001b[0m\u001b[0mtokenizer\u001b[0m\u001b[0;34m)\u001b[0m\u001b[0;34m\u001b[0m\u001b[0;34m\u001b[0m\u001b[0m\n\u001b[1;32m      5\u001b[0m \u001b[0;31m#result = summer(body, ratio=0.2)  # Specified with ratio\u001b[0m\u001b[0;34m\u001b[0m\u001b[0;34m\u001b[0m\u001b[0;34m\u001b[0m\u001b[0m\n\u001b[0;32m----> 6\u001b[0;31m \u001b[0mresult\u001b[0m \u001b[0;34m=\u001b[0m \u001b[0msummer\u001b[0m\u001b[0;34m(\u001b[0m\u001b[0mbody\u001b[0m\u001b[0;34m,\u001b[0m \u001b[0mnum_sentences\u001b[0m\u001b[0;34m=\u001b[0m\u001b[0;36m3\u001b[0m\u001b[0;34m)\u001b[0m  \u001b[0;31m# Will return 3 sentences\u001b[0m\u001b[0;34m\u001b[0m\u001b[0;34m\u001b[0m\u001b[0m\n\u001b[0m\u001b[1;32m      7\u001b[0m \u001b[0mresult\u001b[0m\u001b[0;34m\u001b[0m\u001b[0;34m\u001b[0m\u001b[0m\n",
            "\u001b[0;32m/usr/local/lib/python3.7/dist-packages/summarizer/summary_processor.py\u001b[0m in \u001b[0;36m__call__\u001b[0;34m(self, body, ratio, min_length, max_length, use_first, algorithm, num_sentences, return_as_list)\u001b[0m\n\u001b[1;32m    233\u001b[0m         \"\"\"\n\u001b[1;32m    234\u001b[0m         return self.run(body, ratio, min_length, max_length,\n\u001b[0;32m--> 235\u001b[0;31m                         use_first, algorithm, num_sentences, return_as_list)\n\u001b[0m\u001b[1;32m    236\u001b[0m \u001b[0;34m\u001b[0m\u001b[0m\n",
            "\u001b[0;32m/usr/local/lib/python3.7/dist-packages/summarizer/summary_processor.py\u001b[0m in \u001b[0;36mrun\u001b[0;34m(self, body, ratio, min_length, max_length, use_first, algorithm, num_sentences, return_as_list)\u001b[0m\n\u001b[1;32m    200\u001b[0m \u001b[0;34m\u001b[0m\u001b[0m\n\u001b[1;32m    201\u001b[0m         \u001b[0;32mif\u001b[0m \u001b[0msentences\u001b[0m\u001b[0;34m:\u001b[0m\u001b[0;34m\u001b[0m\u001b[0;34m\u001b[0m\u001b[0m\n\u001b[0;32m--> 202\u001b[0;31m             \u001b[0msentences\u001b[0m\u001b[0;34m,\u001b[0m \u001b[0m_\u001b[0m \u001b[0;34m=\u001b[0m \u001b[0mself\u001b[0m\u001b[0;34m.\u001b[0m\u001b[0mcluster_runner\u001b[0m\u001b[0;34m(\u001b[0m\u001b[0msentences\u001b[0m\u001b[0;34m,\u001b[0m \u001b[0mratio\u001b[0m\u001b[0;34m,\u001b[0m \u001b[0malgorithm\u001b[0m\u001b[0;34m,\u001b[0m \u001b[0muse_first\u001b[0m\u001b[0;34m,\u001b[0m \u001b[0mnum_sentences\u001b[0m\u001b[0;34m)\u001b[0m\u001b[0;34m\u001b[0m\u001b[0;34m\u001b[0m\u001b[0m\n\u001b[0m\u001b[1;32m    203\u001b[0m \u001b[0;34m\u001b[0m\u001b[0m\n\u001b[1;32m    204\u001b[0m         \u001b[0;32mif\u001b[0m \u001b[0mreturn_as_list\u001b[0m\u001b[0;34m:\u001b[0m\u001b[0;34m\u001b[0m\u001b[0;34m\u001b[0m\u001b[0m\n",
            "\u001b[0;32m/usr/local/lib/python3.7/dist-packages/summarizer/summary_processor.py\u001b[0m in \u001b[0;36mcluster_runner\u001b[0;34m(self, sentences, ratio, algorithm, use_first, num_sentences)\u001b[0m\n\u001b[1;32m    106\u001b[0m         \"\"\"\n\u001b[1;32m    107\u001b[0m         \u001b[0mfirst_embedding\u001b[0m \u001b[0;34m=\u001b[0m \u001b[0;32mNone\u001b[0m\u001b[0;34m\u001b[0m\u001b[0;34m\u001b[0m\u001b[0m\n\u001b[0;32m--> 108\u001b[0;31m         \u001b[0mhidden\u001b[0m \u001b[0;34m=\u001b[0m \u001b[0mself\u001b[0m\u001b[0;34m.\u001b[0m\u001b[0mmodel\u001b[0m\u001b[0;34m(\u001b[0m\u001b[0msentences\u001b[0m\u001b[0;34m)\u001b[0m\u001b[0;34m\u001b[0m\u001b[0;34m\u001b[0m\u001b[0m\n\u001b[0m\u001b[1;32m    109\u001b[0m \u001b[0;34m\u001b[0m\u001b[0m\n\u001b[1;32m    110\u001b[0m         \u001b[0;32mif\u001b[0m \u001b[0muse_first\u001b[0m\u001b[0;34m:\u001b[0m\u001b[0;34m\u001b[0m\u001b[0;34m\u001b[0m\u001b[0m\n",
            "\u001b[0;32m/usr/local/lib/python3.7/dist-packages/summarizer/transformer_embeddings/bert_embedding.py\u001b[0m in \u001b[0;36m__call__\u001b[0;34m(self, content, hidden, reduce_option, hidden_concat)\u001b[0m\n\u001b[1;32m    171\u001b[0m         \u001b[0;34m:\u001b[0m\u001b[0;32mreturn\u001b[0m\u001b[0;34m:\u001b[0m \u001b[0mA\u001b[0m \u001b[0mnumpy\u001b[0m \u001b[0marray\u001b[0m \u001b[0mmatrix\u001b[0m \u001b[0mof\u001b[0m \u001b[0mthe\u001b[0m \u001b[0mgiven\u001b[0m \u001b[0mcontent\u001b[0m\u001b[0;34m.\u001b[0m\u001b[0;34m\u001b[0m\u001b[0;34m\u001b[0m\u001b[0m\n\u001b[1;32m    172\u001b[0m         \"\"\"\n\u001b[0;32m--> 173\u001b[0;31m         \u001b[0;32mreturn\u001b[0m \u001b[0mself\u001b[0m\u001b[0;34m.\u001b[0m\u001b[0mcreate_matrix\u001b[0m\u001b[0;34m(\u001b[0m\u001b[0mcontent\u001b[0m\u001b[0;34m,\u001b[0m \u001b[0mhidden\u001b[0m\u001b[0;34m,\u001b[0m \u001b[0mreduce_option\u001b[0m\u001b[0;34m,\u001b[0m \u001b[0mhidden_concat\u001b[0m\u001b[0;34m)\u001b[0m\u001b[0;34m\u001b[0m\u001b[0;34m\u001b[0m\u001b[0m\n\u001b[0m",
            "\u001b[0;32m/usr/local/lib/python3.7/dist-packages/summarizer/transformer_embeddings/bert_embedding.py\u001b[0m in \u001b[0;36mcreate_matrix\u001b[0;34m(self, content, hidden, reduce_option, hidden_concat)\u001b[0m\n\u001b[1;32m    152\u001b[0m             np.squeeze(self.extract_embeddings(\n\u001b[1;32m    153\u001b[0m                 \u001b[0mt\u001b[0m\u001b[0;34m,\u001b[0m \u001b[0mhidden\u001b[0m\u001b[0;34m=\u001b[0m\u001b[0mhidden\u001b[0m\u001b[0;34m,\u001b[0m \u001b[0mreduce_option\u001b[0m\u001b[0;34m=\u001b[0m\u001b[0mreduce_option\u001b[0m\u001b[0;34m,\u001b[0m \u001b[0mhidden_concat\u001b[0m\u001b[0;34m=\u001b[0m\u001b[0mhidden_concat\u001b[0m\u001b[0;34m\u001b[0m\u001b[0;34m\u001b[0m\u001b[0m\n\u001b[0;32m--> 154\u001b[0;31m             ).data.cpu().numpy()) for t in content\n\u001b[0m\u001b[1;32m    155\u001b[0m         ])\n\u001b[1;32m    156\u001b[0m \u001b[0;34m\u001b[0m\u001b[0m\n",
            "\u001b[0;32m/usr/local/lib/python3.7/dist-packages/summarizer/transformer_embeddings/bert_embedding.py\u001b[0m in \u001b[0;36m<listcomp>\u001b[0;34m(.0)\u001b[0m\n\u001b[1;32m    152\u001b[0m             np.squeeze(self.extract_embeddings(\n\u001b[1;32m    153\u001b[0m                 \u001b[0mt\u001b[0m\u001b[0;34m,\u001b[0m \u001b[0mhidden\u001b[0m\u001b[0;34m=\u001b[0m\u001b[0mhidden\u001b[0m\u001b[0;34m,\u001b[0m \u001b[0mreduce_option\u001b[0m\u001b[0;34m=\u001b[0m\u001b[0mreduce_option\u001b[0m\u001b[0;34m,\u001b[0m \u001b[0mhidden_concat\u001b[0m\u001b[0;34m=\u001b[0m\u001b[0mhidden_concat\u001b[0m\u001b[0;34m\u001b[0m\u001b[0;34m\u001b[0m\u001b[0m\n\u001b[0;32m--> 154\u001b[0;31m             ).data.cpu().numpy()) for t in content\n\u001b[0m\u001b[1;32m    155\u001b[0m         ])\n\u001b[1;32m    156\u001b[0m \u001b[0;34m\u001b[0m\u001b[0m\n",
            "\u001b[0;32m/usr/local/lib/python3.7/dist-packages/summarizer/transformer_embeddings/bert_embedding.py\u001b[0m in \u001b[0;36mextract_embeddings\u001b[0;34m(self, text, hidden, reduce_option, hidden_concat)\u001b[0m\n\u001b[1;32m    119\u001b[0m \u001b[0;34m\u001b[0m\u001b[0m\n\u001b[1;32m    120\u001b[0m         \u001b[0;32melif\u001b[0m \u001b[0mtype\u001b[0m\u001b[0;34m(\u001b[0m\u001b[0mhidden\u001b[0m\u001b[0;34m)\u001b[0m \u001b[0;34m==\u001b[0m \u001b[0mint\u001b[0m\u001b[0;34m:\u001b[0m\u001b[0;34m\u001b[0m\u001b[0;34m\u001b[0m\u001b[0m\n\u001b[0;32m--> 121\u001b[0;31m             \u001b[0mhidden_s\u001b[0m \u001b[0;34m=\u001b[0m \u001b[0mhidden_states\u001b[0m\u001b[0;34m[\u001b[0m\u001b[0mhidden\u001b[0m\u001b[0;34m]\u001b[0m\u001b[0;34m\u001b[0m\u001b[0;34m\u001b[0m\u001b[0m\n\u001b[0m\u001b[1;32m    122\u001b[0m             \u001b[0;32mreturn\u001b[0m \u001b[0mself\u001b[0m\u001b[0;34m.\u001b[0m\u001b[0m_pooled_handler\u001b[0m\u001b[0;34m(\u001b[0m\u001b[0mhidden_s\u001b[0m\u001b[0;34m,\u001b[0m \u001b[0mreduce_option\u001b[0m\u001b[0;34m)\u001b[0m\u001b[0;34m\u001b[0m\u001b[0;34m\u001b[0m\u001b[0m\n\u001b[1;32m    123\u001b[0m \u001b[0;34m\u001b[0m\u001b[0m\n",
            "\u001b[0;31mIndexError\u001b[0m: index -2 is out of bounds for dimension 0 with size 1"
          ]
        }
      ]
    },
    {
      "cell_type": "code",
      "source": [],
      "metadata": {
        "id": "KS-4n0mFktkl"
      },
      "execution_count": null,
      "outputs": []
    }
  ]
}