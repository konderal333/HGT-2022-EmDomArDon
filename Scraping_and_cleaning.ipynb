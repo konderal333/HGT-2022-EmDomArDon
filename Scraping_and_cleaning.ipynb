{
  "cells": [
    {
      "cell_type": "markdown",
      "metadata": {
        "id": "view-in-github",
        "colab_type": "text"
      },
      "source": [
        "<a href=\"https://colab.research.google.com/github/konderal333/HGT-2022-EmDomArDon/blob/main/Scraping_and_cleaning.ipynb\" target=\"_parent\"><img src=\"https://colab.research.google.com/assets/colab-badge.svg\" alt=\"Open In Colab\"/></a>"
      ]
    },
    {
      "cell_type": "code",
      "execution_count": null,
      "metadata": {
        "colab": {
          "base_uri": "https://localhost:8080/"
        },
        "id": "xbdCSZN9HBjJ",
        "outputId": "8b1572cd-e86b-450a-c3a9-395bd97650d9"
      },
      "outputs": [
        {
          "output_type": "stream",
          "name": "stdout",
          "text": [
            "Cloning into 'HGT-2022-EmDomArDon'...\n",
            "remote: Enumerating objects: 201, done.\u001b[K\n",
            "remote: Counting objects: 100% (50/50), done.\u001b[K\n",
            "remote: Compressing objects: 100% (45/45), done.\u001b[K\n",
            "remote: Total 201 (delta 24), reused 17 (delta 5), pack-reused 151\u001b[K\n",
            "Receiving objects: 100% (201/201), 21.68 MiB | 13.92 MiB/s, done.\n",
            "Resolving deltas: 100% (117/117), done.\n",
            "Checking out files: 100% (14/14), done.\n"
          ]
        }
      ],
      "source": [
        "!git clone https://github.com/konderal333/HGT-2022-EmDomArDon.git"
      ]
    },
    {
      "cell_type": "code",
      "execution_count": null,
      "metadata": {
        "colab": {
          "base_uri": "https://localhost:8080/"
        },
        "id": "I0JpUZ7aZ-mq",
        "outputId": "d04c1b65-b51c-4a7c-dffe-e2857ad9fec9"
      },
      "outputs": [
        {
          "output_type": "stream",
          "name": "stdout",
          "text": [
            "Mounted at /content/drive\n"
          ]
        }
      ],
      "source": [
        "#Google drive for bigger data\n",
        "from google.colab import drive\n",
        "drive.mount('/content/drive')"
      ]
    },
    {
      "cell_type": "markdown",
      "metadata": {
        "id": "JDrd1xRaHyjk"
      },
      "source": [
        "# Scraping"
      ]
    },
    {
      "cell_type": "code",
      "execution_count": null,
      "metadata": {
        "colab": {
          "base_uri": "https://localhost:8080/"
        },
        "id": "CKLtFLWWJM-h",
        "outputId": "8790e128-db7e-47e1-c77b-d9ccb13d4c0e"
      },
      "outputs": [
        {
          "output_type": "stream",
          "name": "stdout",
          "text": [
            "Looking in indexes: https://pypi.org/simple, https://us-python.pkg.dev/colab-wheels/public/simple/\n",
            "Requirement already satisfied: BeautifulSoup4 in /usr/local/lib/python3.8/dist-packages (4.6.3)\n"
          ]
        }
      ],
      "source": [
        "!pip install BeautifulSoup4"
      ]
    },
    {
      "cell_type": "code",
      "execution_count": null,
      "metadata": {
        "id": "3p1cGW3mH0BG"
      },
      "outputs": [],
      "source": [
        "from bs4 import BeautifulSoup\n",
        "import numpy as np\n",
        "import pandas as pd\n",
        "import requests"
      ]
    },
    {
      "cell_type": "code",
      "execution_count": null,
      "metadata": {
        "id": "sjYjsyDtIWq2"
      },
      "outputs": [],
      "source": [
        "# This times ten is the number of articles to scrape \n",
        "cikkszam = 1000\n",
        "\n",
        "# 2000 articles need approx 20 minutes to scrape"
      ]
    },
    {
      "cell_type": "code",
      "execution_count": null,
      "metadata": {
        "colab": {
          "base_uri": "https://localhost:8080/"
        },
        "id": "mYeVZsO2Ib0I",
        "outputId": "05a99afd-7cbe-4317-fc52-0aaecb0430f8"
      },
      "outputs": [
        {
          "output_type": "stream",
          "name": "stdout",
          "text": [
            "kész\n"
          ]
        }
      ],
      "source": [
        "page = requests.get(\"https://telex.hu/legfrissebb\")   \n",
        "soup = BeautifulSoup(page.text, 'html.parser')\n",
        "soup.prettify\n",
        "\n",
        "titles = []\n",
        "headline = []\n",
        "textbody = []\n",
        "\n",
        "\n",
        "\n",
        "#for the first page\n",
        "links = soup.find_all('a',{'class':'list__item__title'})\n",
        "heads = soup.find_all('p',{'class':'list__item__lead hasHighlight'})\n",
        "for index, link in enumerate(links):\n",
        "    \n",
        "    #headline\n",
        "    head = heads[index].text\n",
        "    headline.append(head)\n",
        "    \n",
        "    #htmlbody of teh article\n",
        "    link = link.attrs['href'] \n",
        "    newpage = requests.get(f\"https://telex.hu{link}\")\n",
        "    newpage_html = BeautifulSoup(newpage.text, 'html.parser')\n",
        "    newpage_html.prettify\n",
        "    \n",
        "    #title\n",
        "    title = newpage_html.find('h1')\n",
        "    titles.append(title.text)\n",
        "    \n",
        "    #textbody\n",
        "    article = newpage_html.find('div', {'class':'article-html-content'}) \n",
        "    article_text = article.get_text()\n",
        "    textbody.append(article_text)\n",
        "\n",
        "    \n",
        "# For the other pages\n",
        "for pagenumber in range(2,cikkszam+1):\n",
        "    page = requests.get(f\"https://telex.hu/legfrissebb/?oldal={pagenumber}\")   \n",
        "    soup = BeautifulSoup(page.text, 'html.parser')\n",
        "    soup.prettify\n",
        "    \n",
        "    links = soup.find_all('a',{'class':'list__item__title'})\n",
        "    heads = soup.find_all('p',{'class':'list__item__lead hasHighlight'})\n",
        "    for index, link in enumerate(links):\n",
        "\n",
        "        #headline\n",
        "        head = heads[index].text\n",
        "        headline.append(head)\n",
        "\n",
        "        #htmlbody of teh article\n",
        "        link = link.attrs['href'] \n",
        "        newpage = requests.get(f\"https://telex.hu{link}\")\n",
        "        newpage_html = BeautifulSoup(newpage.text, 'html.parser')\n",
        "        newpage_html.prettify\n",
        "\n",
        "        #title\n",
        "        title = newpage_html.find('h1').text\n",
        "        titles.append(title)\n",
        "\n",
        "        #textbody\n",
        "        article = newpage_html.find('div', {'class':'article-html-content'}) \n",
        "        article_text = article.get_text()\n",
        "        textbody.append(article_text)\n",
        "\n",
        "df_orig = pd.DataFrame({'Title':titles, 'Headline':headline, 'Textbody':textbody})       \n",
        "\n",
        "#We don't need the Ukranian - Russian livefeed\n",
        "df_orig.drop([0], inplace=True)\n",
        "print('kész')"
      ]
    },
    {
      "cell_type": "code",
      "execution_count": null,
      "metadata": {
        "id": "gkOgMeAtKy1P"
      },
      "outputs": [],
      "source": [
        "df_orig.to_csv('cikkek_10k.csv', index=False)"
      ]
    },
    {
      "cell_type": "markdown",
      "metadata": {
        "id": "Ybq5RgFXIkEX"
      },
      "source": [
        "# Data Cleaning"
      ]
    },
    {
      "cell_type": "code",
      "source": [
        "try:\n",
        "  df_orig = pd.read_csv(\"/content/HGT-2022-EmDomArDon/cikkek_10k.csv\")\n",
        "except:\n",
        "  raise ValueError(\"Upload it here or to Google Drive.\")"
      ],
      "metadata": {
        "id": "n_afiLhf5BSg"
      },
      "execution_count": null,
      "outputs": []
    },
    {
      "cell_type": "code",
      "execution_count": null,
      "metadata": {
        "colab": {
          "base_uri": "https://localhost:8080/",
          "height": 423
        },
        "id": "fqvZjXfIdWIL",
        "outputId": "c6249aee-6fa7-460a-96f4-766683edfe8a"
      },
      "outputs": [
        {
          "output_type": "execute_result",
          "data": {
            "text/plain": [
              "                                                  Title  \\\n",
              "0            Fájóan aktuális és elviselhetetlenül fe...   \n",
              "1            Brutális mértékben drágul a liba- és ka...   \n",
              "2            Két góllal vezetett a Bayern München, a...   \n",
              "3            Antiszemita tartalom miatt korlátozták ...   \n",
              "4                   Meghalt egy néző az ózdi ralin        \n",
              "...                                                 ...   \n",
              "9828         Nyomozás indult a külügyminisztériumot ...   \n",
              "9829         Örökre lezárják az autósok előtt a pest...   \n",
              "9830         Jogerős: Nem bizonyítható, hogy a Megol...   \n",
              "9831         Két hétre leállt az oltási akció, mosta...   \n",
              "9832         Öt évet kapott egy amerikai kriptovalut...   \n",
              "\n",
              "                                               Headline  \\\n",
              "0     A friss Nobel-díjas Annie Ernaux könyvéből kés...   \n",
              "1     Majdnem duplájába kerül, mint tavaly. Drágább ...   \n",
              "2     Neuer kissé bizonytalanul jött ki az utolsó pe...   \n",
              "3     A rapper P. Diddyről állította azt, hogy a hát...   \n",
              "4                              Elsodorta az egyik autó.   \n",
              "...                                                 ...   \n",
              "9828  A Nemzeti Nyomozó Iroda a Direkt36 tényfeltáró...   \n",
              "9829  Karácsony Gergely főpolgármester a választások...   \n",
              "9830  Így a párt nem sértette meg a törvényt, hiszen...   \n",
              "9831  A kórházi oltópontok csak keddenként és péntek...   \n",
              "9832  Az észak-koreai rezsim Virgil Griffith segítsé...   \n",
              "\n",
              "                                               Textbody  \n",
              "0     Az Esemény hazai szeptember végi mozis premier...  \n",
              "1     Majdnem duplájába kerülhet a Márton-napi libas...  \n",
              "2     Nagyon úgy tűnt, hogy a Bayern München ismét l...  \n",
              "3     Korlátozást rakott a Meta Kanye West Instagram...  \n",
              "4     Elsodortak egy nézőt a hétvégi ózdi ralin, és ...  \n",
              "...                                                 ...  \n",
              "9828  A Nemzeti Nyomozó Iroda a Direkt36 tényfeltáró...  \n",
              "9829  „A pesti alsó rakpart tervezése során volt az ...  \n",
              "9830  A Kúria megváltoztatta a Nemzeti Választási Bi...  \n",
              "9831  Április elején írtuk meg, hogy a friss napi ad...  \n",
              "9832  Öt év börtönre ítéltek egy amerikai kriptovalu...  \n",
              "\n",
              "[9833 rows x 3 columns]"
            ],
            "text/html": [
              "\n",
              "  <div id=\"df-f30b26b8-7edf-4078-a99e-cd645343d38b\">\n",
              "    <div class=\"colab-df-container\">\n",
              "      <div>\n",
              "<style scoped>\n",
              "    .dataframe tbody tr th:only-of-type {\n",
              "        vertical-align: middle;\n",
              "    }\n",
              "\n",
              "    .dataframe tbody tr th {\n",
              "        vertical-align: top;\n",
              "    }\n",
              "\n",
              "    .dataframe thead th {\n",
              "        text-align: right;\n",
              "    }\n",
              "</style>\n",
              "<table border=\"1\" class=\"dataframe\">\n",
              "  <thead>\n",
              "    <tr style=\"text-align: right;\">\n",
              "      <th></th>\n",
              "      <th>Title</th>\n",
              "      <th>Headline</th>\n",
              "      <th>Textbody</th>\n",
              "    </tr>\n",
              "  </thead>\n",
              "  <tbody>\n",
              "    <tr>\n",
              "      <th>0</th>\n",
              "      <td>Fájóan aktuális és elviselhetetlenül fe...</td>\n",
              "      <td>A friss Nobel-díjas Annie Ernaux könyvéből kés...</td>\n",
              "      <td>Az Esemény hazai szeptember végi mozis premier...</td>\n",
              "    </tr>\n",
              "    <tr>\n",
              "      <th>1</th>\n",
              "      <td>Brutális mértékben drágul a liba- és ka...</td>\n",
              "      <td>Majdnem duplájába kerül, mint tavaly. Drágább ...</td>\n",
              "      <td>Majdnem duplájába kerülhet a Márton-napi libas...</td>\n",
              "    </tr>\n",
              "    <tr>\n",
              "      <th>2</th>\n",
              "      <td>Két góllal vezetett a Bayern München, a...</td>\n",
              "      <td>Neuer kissé bizonytalanul jött ki az utolsó pe...</td>\n",
              "      <td>Nagyon úgy tűnt, hogy a Bayern München ismét l...</td>\n",
              "    </tr>\n",
              "    <tr>\n",
              "      <th>3</th>\n",
              "      <td>Antiszemita tartalom miatt korlátozták ...</td>\n",
              "      <td>A rapper P. Diddyről állította azt, hogy a hát...</td>\n",
              "      <td>Korlátozást rakott a Meta Kanye West Instagram...</td>\n",
              "    </tr>\n",
              "    <tr>\n",
              "      <th>4</th>\n",
              "      <td>Meghalt egy néző az ózdi ralin</td>\n",
              "      <td>Elsodorta az egyik autó.</td>\n",
              "      <td>Elsodortak egy nézőt a hétvégi ózdi ralin, és ...</td>\n",
              "    </tr>\n",
              "    <tr>\n",
              "      <th>...</th>\n",
              "      <td>...</td>\n",
              "      <td>...</td>\n",
              "      <td>...</td>\n",
              "    </tr>\n",
              "    <tr>\n",
              "      <th>9828</th>\n",
              "      <td>Nyomozás indult a külügyminisztériumot ...</td>\n",
              "      <td>A Nemzeti Nyomozó Iroda a Direkt36 tényfeltáró...</td>\n",
              "      <td>A Nemzeti Nyomozó Iroda a Direkt36 tényfeltáró...</td>\n",
              "    </tr>\n",
              "    <tr>\n",
              "      <th>9829</th>\n",
              "      <td>Örökre lezárják az autósok előtt a pest...</td>\n",
              "      <td>Karácsony Gergely főpolgármester a választások...</td>\n",
              "      <td>„A pesti alsó rakpart tervezése során volt az ...</td>\n",
              "    </tr>\n",
              "    <tr>\n",
              "      <th>9830</th>\n",
              "      <td>Jogerős: Nem bizonyítható, hogy a Megol...</td>\n",
              "      <td>Így a párt nem sértette meg a törvényt, hiszen...</td>\n",
              "      <td>A Kúria megváltoztatta a Nemzeti Választási Bi...</td>\n",
              "    </tr>\n",
              "    <tr>\n",
              "      <th>9831</th>\n",
              "      <td>Két hétre leállt az oltási akció, mosta...</td>\n",
              "      <td>A kórházi oltópontok csak keddenként és péntek...</td>\n",
              "      <td>Április elején írtuk meg, hogy a friss napi ad...</td>\n",
              "    </tr>\n",
              "    <tr>\n",
              "      <th>9832</th>\n",
              "      <td>Öt évet kapott egy amerikai kriptovalut...</td>\n",
              "      <td>Az észak-koreai rezsim Virgil Griffith segítsé...</td>\n",
              "      <td>Öt év börtönre ítéltek egy amerikai kriptovalu...</td>\n",
              "    </tr>\n",
              "  </tbody>\n",
              "</table>\n",
              "<p>9833 rows × 3 columns</p>\n",
              "</div>\n",
              "      <button class=\"colab-df-convert\" onclick=\"convertToInteractive('df-f30b26b8-7edf-4078-a99e-cd645343d38b')\"\n",
              "              title=\"Convert this dataframe to an interactive table.\"\n",
              "              style=\"display:none;\">\n",
              "        \n",
              "  <svg xmlns=\"http://www.w3.org/2000/svg\" height=\"24px\"viewBox=\"0 0 24 24\"\n",
              "       width=\"24px\">\n",
              "    <path d=\"M0 0h24v24H0V0z\" fill=\"none\"/>\n",
              "    <path d=\"M18.56 5.44l.94 2.06.94-2.06 2.06-.94-2.06-.94-.94-2.06-.94 2.06-2.06.94zm-11 1L8.5 8.5l.94-2.06 2.06-.94-2.06-.94L8.5 2.5l-.94 2.06-2.06.94zm10 10l.94 2.06.94-2.06 2.06-.94-2.06-.94-.94-2.06-.94 2.06-2.06.94z\"/><path d=\"M17.41 7.96l-1.37-1.37c-.4-.4-.92-.59-1.43-.59-.52 0-1.04.2-1.43.59L10.3 9.45l-7.72 7.72c-.78.78-.78 2.05 0 2.83L4 21.41c.39.39.9.59 1.41.59.51 0 1.02-.2 1.41-.59l7.78-7.78 2.81-2.81c.8-.78.8-2.07 0-2.86zM5.41 20L4 18.59l7.72-7.72 1.47 1.35L5.41 20z\"/>\n",
              "  </svg>\n",
              "      </button>\n",
              "      \n",
              "  <style>\n",
              "    .colab-df-container {\n",
              "      display:flex;\n",
              "      flex-wrap:wrap;\n",
              "      gap: 12px;\n",
              "    }\n",
              "\n",
              "    .colab-df-convert {\n",
              "      background-color: #E8F0FE;\n",
              "      border: none;\n",
              "      border-radius: 50%;\n",
              "      cursor: pointer;\n",
              "      display: none;\n",
              "      fill: #1967D2;\n",
              "      height: 32px;\n",
              "      padding: 0 0 0 0;\n",
              "      width: 32px;\n",
              "    }\n",
              "\n",
              "    .colab-df-convert:hover {\n",
              "      background-color: #E2EBFA;\n",
              "      box-shadow: 0px 1px 2px rgba(60, 64, 67, 0.3), 0px 1px 3px 1px rgba(60, 64, 67, 0.15);\n",
              "      fill: #174EA6;\n",
              "    }\n",
              "\n",
              "    [theme=dark] .colab-df-convert {\n",
              "      background-color: #3B4455;\n",
              "      fill: #D2E3FC;\n",
              "    }\n",
              "\n",
              "    [theme=dark] .colab-df-convert:hover {\n",
              "      background-color: #434B5C;\n",
              "      box-shadow: 0px 1px 3px 1px rgba(0, 0, 0, 0.15);\n",
              "      filter: drop-shadow(0px 1px 2px rgba(0, 0, 0, 0.3));\n",
              "      fill: #FFFFFF;\n",
              "    }\n",
              "  </style>\n",
              "\n",
              "      <script>\n",
              "        const buttonEl =\n",
              "          document.querySelector('#df-f30b26b8-7edf-4078-a99e-cd645343d38b button.colab-df-convert');\n",
              "        buttonEl.style.display =\n",
              "          google.colab.kernel.accessAllowed ? 'block' : 'none';\n",
              "\n",
              "        async function convertToInteractive(key) {\n",
              "          const element = document.querySelector('#df-f30b26b8-7edf-4078-a99e-cd645343d38b');\n",
              "          const dataTable =\n",
              "            await google.colab.kernel.invokeFunction('convertToInteractive',\n",
              "                                                     [key], {});\n",
              "          if (!dataTable) return;\n",
              "\n",
              "          const docLinkHtml = 'Like what you see? Visit the ' +\n",
              "            '<a target=\"_blank\" href=https://colab.research.google.com/notebooks/data_table.ipynb>data table notebook</a>'\n",
              "            + ' to learn more about interactive tables.';\n",
              "          element.innerHTML = '';\n",
              "          dataTable['output_type'] = 'display_data';\n",
              "          await google.colab.output.renderOutput(dataTable, element);\n",
              "          const docLink = document.createElement('div');\n",
              "          docLink.innerHTML = docLinkHtml;\n",
              "          element.appendChild(docLink);\n",
              "        }\n",
              "      </script>\n",
              "    </div>\n",
              "  </div>\n",
              "  "
            ]
          },
          "metadata": {},
          "execution_count": 7
        }
      ],
      "source": [
        "# replacing \\n and \\t characters\n",
        "\n",
        "df = df_orig.astype(str)\n",
        "df = df.apply(lambda x: x.replace('\\n', \" \", regex=True).replace('\\t', \" \", regex=True))\n",
        "\n",
        "# dropping articles based on their length in tokens (words)\n",
        "\n",
        "bad_length_indexes = []\n",
        "\n",
        "for index, row in df.iterrows():\n",
        "  if len(row['Textbody'].split(\" \")) < 10:\n",
        "    bad_length_indexes.append(index)\n",
        "\n",
        "\n",
        "df = df.drop(bad_length_indexes)\n",
        "df = df.reset_index(drop=True)\n",
        "df"
      ]
    },
    {
      "cell_type": "code",
      "execution_count": null,
      "metadata": {
        "colab": {
          "base_uri": "https://localhost:8080/"
        },
        "id": "d7VQVL0JJXG_",
        "outputId": "269c73f8-fd08-4f1e-a4c7-04617d112e12"
      },
      "outputs": [
        {
          "output_type": "stream",
          "name": "stdout",
          "text": [
            "Looking in indexes: https://pypi.org/simple, https://us-python.pkg.dev/colab-wheels/public/simple/\n",
            "Collecting fasttext\n",
            "  Downloading fasttext-0.9.2.tar.gz (68 kB)\n",
            "\u001b[K     |████████████████████████████████| 68 kB 3.5 MB/s \n",
            "\u001b[?25hCollecting pybind11>=2.2\n",
            "  Using cached pybind11-2.10.1-py3-none-any.whl (216 kB)\n",
            "Requirement already satisfied: setuptools>=0.7.0 in /usr/local/lib/python3.7/dist-packages (from fasttext) (57.4.0)\n",
            "Requirement already satisfied: numpy in /usr/local/lib/python3.7/dist-packages (from fasttext) (1.21.6)\n",
            "Building wheels for collected packages: fasttext\n",
            "  Building wheel for fasttext (setup.py) ... \u001b[?25l\u001b[?25hdone\n",
            "  Created wheel for fasttext: filename=fasttext-0.9.2-cp37-cp37m-linux_x86_64.whl size=3156027 sha256=f32c0414c23d059ed5dfdf5e224f21eb343bc4e3cc1818a211850187564a86a8\n",
            "  Stored in directory: /root/.cache/pip/wheels/4e/ca/bf/b020d2be95f7641801a6597a29c8f4f19e38f9c02a345bab9b\n",
            "Successfully built fasttext\n",
            "Installing collected packages: pybind11, fasttext\n",
            "Successfully installed fasttext-0.9.2 pybind11-2.10.1\n"
          ]
        }
      ],
      "source": [
        "!pip install fasttext"
      ]
    },
    {
      "cell_type": "code",
      "execution_count": null,
      "metadata": {
        "colab": {
          "base_uri": "https://localhost:8080/",
          "height": 441
        },
        "id": "mCZFYRdSIjGU",
        "outputId": "9cc1bf37-276a-415f-b0aa-313fdc479197"
      },
      "outputs": [
        {
          "output_type": "stream",
          "name": "stderr",
          "text": [
            "Warning : `load_model` does not return WordVectorModel or SupervisedModel any more, but a `FastText` object which is very similar.\n"
          ]
        },
        {
          "output_type": "execute_result",
          "data": {
            "text/plain": [
              "                                                  Title  \\\n",
              "0            Fájóan aktuális és elviselhetetlenül fe...   \n",
              "1            Brutális mértékben drágul a liba- és ka...   \n",
              "2            Két góllal vezetett a Bayern München, a...   \n",
              "3            Antiszemita tartalom miatt korlátozták ...   \n",
              "4                   Meghalt egy néző az ózdi ralin        \n",
              "...                                                 ...   \n",
              "9606         Nyomozás indult a külügyminisztériumot ...   \n",
              "9607         Örökre lezárják az autósok előtt a pest...   \n",
              "9608         Jogerős: Nem bizonyítható, hogy a Megol...   \n",
              "9609         Két hétre leállt az oltási akció, mosta...   \n",
              "9610         Öt évet kapott egy amerikai kriptovalut...   \n",
              "\n",
              "                                               Headline  \\\n",
              "0     A friss Nobel-díjas Annie Ernaux könyvéből kés...   \n",
              "1     Majdnem duplájába kerül, mint tavaly. Drágább ...   \n",
              "2     Neuer kissé bizonytalanul jött ki az utolsó pe...   \n",
              "3     A rapper P. Diddyről állította azt, hogy a hát...   \n",
              "4                              Elsodorta az egyik autó.   \n",
              "...                                                 ...   \n",
              "9606  A Nemzeti Nyomozó Iroda a Direkt36 tényfeltáró...   \n",
              "9607  Karácsony Gergely főpolgármester a választások...   \n",
              "9608  Így a párt nem sértette meg a törvényt, hiszen...   \n",
              "9609  A kórházi oltópontok csak keddenként és péntek...   \n",
              "9610  Az észak-koreai rezsim Virgil Griffith segítsé...   \n",
              "\n",
              "                                               Textbody  \n",
              "0     Az Esemény hazai szeptember végi mozis premier...  \n",
              "1     Majdnem duplájába kerülhet a Márton-napi libas...  \n",
              "2     Nagyon úgy tűnt, hogy a Bayern München ismét l...  \n",
              "3     Korlátozást rakott a Meta Kanye West Instagram...  \n",
              "4     Elsodortak egy nézőt a hétvégi ózdi ralin, és ...  \n",
              "...                                                 ...  \n",
              "9606  A Nemzeti Nyomozó Iroda a Direkt36 tényfeltáró...  \n",
              "9607  „A pesti alsó rakpart tervezése során volt az ...  \n",
              "9608  A Kúria megváltoztatta a Nemzeti Választási Bi...  \n",
              "9609  Április elején írtuk meg, hogy a friss napi ad...  \n",
              "9610  Öt év börtönre ítéltek egy amerikai kriptovalu...  \n",
              "\n",
              "[9611 rows x 3 columns]"
            ],
            "text/html": [
              "\n",
              "  <div id=\"df-90cb478f-422f-4acc-8091-bb40deee0753\">\n",
              "    <div class=\"colab-df-container\">\n",
              "      <div>\n",
              "<style scoped>\n",
              "    .dataframe tbody tr th:only-of-type {\n",
              "        vertical-align: middle;\n",
              "    }\n",
              "\n",
              "    .dataframe tbody tr th {\n",
              "        vertical-align: top;\n",
              "    }\n",
              "\n",
              "    .dataframe thead th {\n",
              "        text-align: right;\n",
              "    }\n",
              "</style>\n",
              "<table border=\"1\" class=\"dataframe\">\n",
              "  <thead>\n",
              "    <tr style=\"text-align: right;\">\n",
              "      <th></th>\n",
              "      <th>Title</th>\n",
              "      <th>Headline</th>\n",
              "      <th>Textbody</th>\n",
              "    </tr>\n",
              "  </thead>\n",
              "  <tbody>\n",
              "    <tr>\n",
              "      <th>0</th>\n",
              "      <td>Fájóan aktuális és elviselhetetlenül fe...</td>\n",
              "      <td>A friss Nobel-díjas Annie Ernaux könyvéből kés...</td>\n",
              "      <td>Az Esemény hazai szeptember végi mozis premier...</td>\n",
              "    </tr>\n",
              "    <tr>\n",
              "      <th>1</th>\n",
              "      <td>Brutális mértékben drágul a liba- és ka...</td>\n",
              "      <td>Majdnem duplájába kerül, mint tavaly. Drágább ...</td>\n",
              "      <td>Majdnem duplájába kerülhet a Márton-napi libas...</td>\n",
              "    </tr>\n",
              "    <tr>\n",
              "      <th>2</th>\n",
              "      <td>Két góllal vezetett a Bayern München, a...</td>\n",
              "      <td>Neuer kissé bizonytalanul jött ki az utolsó pe...</td>\n",
              "      <td>Nagyon úgy tűnt, hogy a Bayern München ismét l...</td>\n",
              "    </tr>\n",
              "    <tr>\n",
              "      <th>3</th>\n",
              "      <td>Antiszemita tartalom miatt korlátozták ...</td>\n",
              "      <td>A rapper P. Diddyről állította azt, hogy a hát...</td>\n",
              "      <td>Korlátozást rakott a Meta Kanye West Instagram...</td>\n",
              "    </tr>\n",
              "    <tr>\n",
              "      <th>4</th>\n",
              "      <td>Meghalt egy néző az ózdi ralin</td>\n",
              "      <td>Elsodorta az egyik autó.</td>\n",
              "      <td>Elsodortak egy nézőt a hétvégi ózdi ralin, és ...</td>\n",
              "    </tr>\n",
              "    <tr>\n",
              "      <th>...</th>\n",
              "      <td>...</td>\n",
              "      <td>...</td>\n",
              "      <td>...</td>\n",
              "    </tr>\n",
              "    <tr>\n",
              "      <th>9606</th>\n",
              "      <td>Nyomozás indult a külügyminisztériumot ...</td>\n",
              "      <td>A Nemzeti Nyomozó Iroda a Direkt36 tényfeltáró...</td>\n",
              "      <td>A Nemzeti Nyomozó Iroda a Direkt36 tényfeltáró...</td>\n",
              "    </tr>\n",
              "    <tr>\n",
              "      <th>9607</th>\n",
              "      <td>Örökre lezárják az autósok előtt a pest...</td>\n",
              "      <td>Karácsony Gergely főpolgármester a választások...</td>\n",
              "      <td>„A pesti alsó rakpart tervezése során volt az ...</td>\n",
              "    </tr>\n",
              "    <tr>\n",
              "      <th>9608</th>\n",
              "      <td>Jogerős: Nem bizonyítható, hogy a Megol...</td>\n",
              "      <td>Így a párt nem sértette meg a törvényt, hiszen...</td>\n",
              "      <td>A Kúria megváltoztatta a Nemzeti Választási Bi...</td>\n",
              "    </tr>\n",
              "    <tr>\n",
              "      <th>9609</th>\n",
              "      <td>Két hétre leállt az oltási akció, mosta...</td>\n",
              "      <td>A kórházi oltópontok csak keddenként és péntek...</td>\n",
              "      <td>Április elején írtuk meg, hogy a friss napi ad...</td>\n",
              "    </tr>\n",
              "    <tr>\n",
              "      <th>9610</th>\n",
              "      <td>Öt évet kapott egy amerikai kriptovalut...</td>\n",
              "      <td>Az észak-koreai rezsim Virgil Griffith segítsé...</td>\n",
              "      <td>Öt év börtönre ítéltek egy amerikai kriptovalu...</td>\n",
              "    </tr>\n",
              "  </tbody>\n",
              "</table>\n",
              "<p>9611 rows × 3 columns</p>\n",
              "</div>\n",
              "      <button class=\"colab-df-convert\" onclick=\"convertToInteractive('df-90cb478f-422f-4acc-8091-bb40deee0753')\"\n",
              "              title=\"Convert this dataframe to an interactive table.\"\n",
              "              style=\"display:none;\">\n",
              "        \n",
              "  <svg xmlns=\"http://www.w3.org/2000/svg\" height=\"24px\"viewBox=\"0 0 24 24\"\n",
              "       width=\"24px\">\n",
              "    <path d=\"M0 0h24v24H0V0z\" fill=\"none\"/>\n",
              "    <path d=\"M18.56 5.44l.94 2.06.94-2.06 2.06-.94-2.06-.94-.94-2.06-.94 2.06-2.06.94zm-11 1L8.5 8.5l.94-2.06 2.06-.94-2.06-.94L8.5 2.5l-.94 2.06-2.06.94zm10 10l.94 2.06.94-2.06 2.06-.94-2.06-.94-.94-2.06-.94 2.06-2.06.94z\"/><path d=\"M17.41 7.96l-1.37-1.37c-.4-.4-.92-.59-1.43-.59-.52 0-1.04.2-1.43.59L10.3 9.45l-7.72 7.72c-.78.78-.78 2.05 0 2.83L4 21.41c.39.39.9.59 1.41.59.51 0 1.02-.2 1.41-.59l7.78-7.78 2.81-2.81c.8-.78.8-2.07 0-2.86zM5.41 20L4 18.59l7.72-7.72 1.47 1.35L5.41 20z\"/>\n",
              "  </svg>\n",
              "      </button>\n",
              "      \n",
              "  <style>\n",
              "    .colab-df-container {\n",
              "      display:flex;\n",
              "      flex-wrap:wrap;\n",
              "      gap: 12px;\n",
              "    }\n",
              "\n",
              "    .colab-df-convert {\n",
              "      background-color: #E8F0FE;\n",
              "      border: none;\n",
              "      border-radius: 50%;\n",
              "      cursor: pointer;\n",
              "      display: none;\n",
              "      fill: #1967D2;\n",
              "      height: 32px;\n",
              "      padding: 0 0 0 0;\n",
              "      width: 32px;\n",
              "    }\n",
              "\n",
              "    .colab-df-convert:hover {\n",
              "      background-color: #E2EBFA;\n",
              "      box-shadow: 0px 1px 2px rgba(60, 64, 67, 0.3), 0px 1px 3px 1px rgba(60, 64, 67, 0.15);\n",
              "      fill: #174EA6;\n",
              "    }\n",
              "\n",
              "    [theme=dark] .colab-df-convert {\n",
              "      background-color: #3B4455;\n",
              "      fill: #D2E3FC;\n",
              "    }\n",
              "\n",
              "    [theme=dark] .colab-df-convert:hover {\n",
              "      background-color: #434B5C;\n",
              "      box-shadow: 0px 1px 3px 1px rgba(0, 0, 0, 0.15);\n",
              "      filter: drop-shadow(0px 1px 2px rgba(0, 0, 0, 0.3));\n",
              "      fill: #FFFFFF;\n",
              "    }\n",
              "  </style>\n",
              "\n",
              "      <script>\n",
              "        const buttonEl =\n",
              "          document.querySelector('#df-90cb478f-422f-4acc-8091-bb40deee0753 button.colab-df-convert');\n",
              "        buttonEl.style.display =\n",
              "          google.colab.kernel.accessAllowed ? 'block' : 'none';\n",
              "\n",
              "        async function convertToInteractive(key) {\n",
              "          const element = document.querySelector('#df-90cb478f-422f-4acc-8091-bb40deee0753');\n",
              "          const dataTable =\n",
              "            await google.colab.kernel.invokeFunction('convertToInteractive',\n",
              "                                                     [key], {});\n",
              "          if (!dataTable) return;\n",
              "\n",
              "          const docLinkHtml = 'Like what you see? Visit the ' +\n",
              "            '<a target=\"_blank\" href=https://colab.research.google.com/notebooks/data_table.ipynb>data table notebook</a>'\n",
              "            + ' to learn more about interactive tables.';\n",
              "          element.innerHTML = '';\n",
              "          dataTable['output_type'] = 'display_data';\n",
              "          await google.colab.output.renderOutput(dataTable, element);\n",
              "          const docLink = document.createElement('div');\n",
              "          docLink.innerHTML = docLinkHtml;\n",
              "          element.appendChild(docLink);\n",
              "        }\n",
              "      </script>\n",
              "    </div>\n",
              "  </div>\n",
              "  "
            ]
          },
          "metadata": {},
          "execution_count": 9
        }
      ],
      "source": [
        "# Language detection using FastText: if not Hungarian, we drop it\n",
        "\n",
        "import fasttext as ft\n",
        "\n",
        "# fasttext model\n",
        "# download and upload this manually or use Google Drive since github can only store up to 100 MB:\n",
        "# https://dl.fbaipublicfiles.com/fasttext/supervised-models/lid.176.bin\n",
        "\n",
        "try:\n",
        "  ft_model = ft.load_model(\"/content/drive/MyDrive/HGT/lid.176.bin\")\n",
        "except:\n",
        "  raise ValueError(\"Upload it to Google Drive and mount it or upload it here!\")\n",
        "\n",
        "\n",
        "not_hun_indexes = []\n",
        "check_manually_indexes = []\n",
        "\n",
        "for index, row in df.iterrows():\n",
        "  try:\n",
        "    lang = ft_model.predict([row['Textbody']])\n",
        "    if lang[0][0][0] != '__label__hu':\n",
        "      not_hun_indexes.append(index)\n",
        "  except:\n",
        "    # manual checking\n",
        "    check_manually_indexes.append(index)\n",
        "    \n",
        "df = df.drop(not_hun_indexes)\n",
        "\n",
        "df = df.reset_index(drop=True)\n",
        "df   \n",
        "\n"
      ]
    },
    {
      "cell_type": "code",
      "execution_count": null,
      "metadata": {
        "id": "Bo_jA23Tgjm9",
        "outputId": "0907e393-99cb-44ad-827c-02959b1c5ae6",
        "colab": {
          "base_uri": "https://localhost:8080/"
        }
      },
      "outputs": [
        {
          "output_type": "execute_result",
          "data": {
            "text/plain": [
              "[]"
            ]
          },
          "metadata": {},
          "execution_count": 10
        }
      ],
      "source": [
        "check_manually_indexes"
      ]
    },
    {
      "cell_type": "code",
      "source": [
        "df.to_csv(\"cikkek_10k_cleanedv1.csv\", index=False)"
      ],
      "metadata": {
        "id": "68OTObyFsB4n"
      },
      "execution_count": null,
      "outputs": []
    },
    {
      "cell_type": "markdown",
      "source": [
        "# Modeling"
      ],
      "metadata": {
        "id": "EeHHrUUWsTOC"
      }
    },
    {
      "cell_type": "code",
      "source": [],
      "metadata": {
        "id": "flkqS3gTsUUk"
      },
      "execution_count": null,
      "outputs": []
    }
  ],
  "metadata": {
    "colab": {
      "provenance": [],
      "include_colab_link": true
    },
    "kernelspec": {
      "display_name": "Python 3",
      "name": "python3"
    },
    "language_info": {
      "name": "python"
    }
  },
  "nbformat": 4,
  "nbformat_minor": 0
}