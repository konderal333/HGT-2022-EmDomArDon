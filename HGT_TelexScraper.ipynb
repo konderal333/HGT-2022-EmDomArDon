{
 "cells": [
  {
   "cell_type": "code",
   "execution_count": 4,
   "id": "508882fb",
   "metadata": {},
   "outputs": [],
   "source": [
    "from bs4 import BeautifulSoup\n",
    "import numpy as np\n",
    "import pandas as pd\n",
    "import requests\n"
   ]
  },
  {
   "cell_type": "code",
   "execution_count": 40,
   "id": "48f7197d",
   "metadata": {},
   "outputs": [],
   "source": [
    "# ENNYISZER TÍZ CIKKET SZEDJÉL LE \n",
    "cikkszam = 100"
   ]
  },
  {
   "cell_type": "code",
   "execution_count": 53,
   "id": "6f21bb82",
   "metadata": {},
   "outputs": [
    {
     "name": "stdout",
     "output_type": "stream",
     "text": [
      "kész\n"
     ]
    }
   ],
   "source": [
    "page = requests.get(\"https://telex.hu/legfrissebb\")   \n",
    "soup = BeautifulSoup(page.text, 'html.parser')\n",
    "soup.prettify\n",
    "\n",
    "titles = []\n",
    "headline = []\n",
    "textbody = []\n",
    "\n",
    "\n",
    "\n",
    "#for the first page\n",
    "links = soup.find_all('a',{'class':'list__item__title'})\n",
    "heads = soup.find_all('p',{'class':'list__item__lead hasHighlight'})\n",
    "for index, link in enumerate(links):\n",
    "    \n",
    "    #headline\n",
    "    head = heads[index].text\n",
    "    headline.append(head)\n",
    "    \n",
    "    #htmlbody of teh article\n",
    "    link = link.attrs['href'] \n",
    "    newpage = requests.get(f\"https://telex.hu{link}\")\n",
    "    newpage_html = BeautifulSoup(newpage.text, 'html.parser')\n",
    "    newpage_html.prettify\n",
    "    \n",
    "    #title\n",
    "    title = newpage_html.find('h1')\n",
    "    titles.append(title.text)\n",
    "    \n",
    "    #textbody\n",
    "    article = newpage_html.find('div', {'class':'article-html-content'}) \n",
    "    article_text = article.get_text()\n",
    "    textbody.append(article_text)\n",
    "\n",
    "    \n",
    "# For the other pages\n",
    "for pagenumber in range(2,cikkszam+1):\n",
    "    page = requests.get(\"https://telex.hu/legfrissebb/?oldal={pagenumber}\")   \n",
    "    soup = BeautifulSoup(page.text, 'html.parser')\n",
    "    soup.prettify\n",
    "    \n",
    "    links = soup.find_all('a',{'class':'list__item__title'})\n",
    "    heads = soup.find_all('p',{'class':'list__item__lead hasHighlight'})\n",
    "    for index, link in enumerate(links):\n",
    "\n",
    "        #headline\n",
    "        head = heads[index].text\n",
    "        headline.append(head)\n",
    "\n",
    "        #htmlbody of teh article\n",
    "        link = link.attrs['href'] \n",
    "        newpage = requests.get(f\"https://telex.hu{link}\")\n",
    "        newpage_html = BeautifulSoup(newpage.text, 'html.parser')\n",
    "        newpage_html.prettify\n",
    "\n",
    "        #title\n",
    "        title = newpage_html.find('h1').text\n",
    "        titles.append(title)\n",
    "\n",
    "        #textbody\n",
    "        article = newpage_html.find('div', {'class':'article-html-content'}) \n",
    "        article_text = article.get_text()\n",
    "        textbody.append(article_text)\n",
    "\n",
    "df = pd.DataFrame({'Title':titles, 'Headline':headline, 'Textbody':textbody})       \n",
    "\n",
    "#ez az élő kreml-ös hírfolyam nem kell\n",
    "df.drop([0], inplace=True)\n",
    "print('kész')"
   ]
  },
  {
   "cell_type": "code",
   "execution_count": 54,
   "id": "1830ae90",
   "metadata": {},
   "outputs": [],
   "source": [
    "df.to_csv('cikkek.csv', index=False)"
   ]
  },
  {
   "cell_type": "code",
   "execution_count": null,
   "id": "51e465c0",
   "metadata": {},
   "outputs": [],
   "source": []
  }
 ],
 "metadata": {
  "kernelspec": {
   "display_name": "Python 3",
   "language": "python",
   "name": "python3"
  },
  "language_info": {
   "codemirror_mode": {
    "name": "ipython",
    "version": 3
   },
   "file_extension": ".py",
   "mimetype": "text/x-python",
   "name": "python",
   "nbconvert_exporter": "python",
   "pygments_lexer": "ipython3",
   "version": "3.8.8"
  }
 },
 "nbformat": 4,
 "nbformat_minor": 5
}
