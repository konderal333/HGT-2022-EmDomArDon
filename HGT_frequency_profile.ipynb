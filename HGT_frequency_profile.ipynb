{
  "nbformat": 4,
  "nbformat_minor": 0,
  "metadata": {
    "colab": {
      "provenance": [],
      "authorship_tag": "ABX9TyOxbdPIJWgfWHFnyOz4VxLS",
      "include_colab_link": true
    },
    "kernelspec": {
      "name": "python3",
      "display_name": "Python 3"
    },
    "language_info": {
      "name": "python"
    }
  },
  "cells": [
    {
      "cell_type": "markdown",
      "metadata": {
        "id": "view-in-github",
        "colab_type": "text"
      },
      "source": [
        "<a href=\"https://colab.research.google.com/github/konderal333/HGT-2022-EmDomArDon/blob/main/HGT_frequency_profile.ipynb\" target=\"_parent\"><img src=\"https://colab.research.google.com/assets/colab-badge.svg\" alt=\"Open In Colab\"/></a>"
      ]
    },
    {
      "cell_type": "code",
      "source": [
        "!git clone https://github.com/konderal333/HGT-2022-EmDomArDon.git"
      ],
      "metadata": {
        "id": "0vEXKyYEuVh9",
        "outputId": "7e827219-4f49-4e2f-952a-2e2a22581826",
        "colab": {
          "base_uri": "https://localhost:8080/"
        }
      },
      "execution_count": 1,
      "outputs": [
        {
          "output_type": "stream",
          "name": "stdout",
          "text": [
            "Cloning into 'HGT-2022-EmDomArDon'...\n",
            "remote: Enumerating objects: 187, done.\u001b[K\n",
            "remote: Counting objects: 100% (36/36), done.\u001b[K\n",
            "remote: Compressing objects: 100% (31/31), done.\u001b[K\n",
            "remote: Total 187 (delta 17), reused 17 (delta 5), pack-reused 151\u001b[K\n",
            "Receiving objects: 100% (187/187), 21.61 MiB | 15.96 MiB/s, done.\n",
            "Resolving deltas: 100% (110/110), done.\n"
          ]
        }
      ]
    },
    {
      "cell_type": "code",
      "execution_count": 2,
      "metadata": {
        "colab": {
          "base_uri": "https://localhost:8080/"
        },
        "id": "QfIi_H74mXcZ",
        "outputId": "372fcf46-4b6a-42ae-b1ee-dec36205de63"
      },
      "outputs": [
        {
          "output_type": "stream",
          "name": "stderr",
          "text": [
            "[nltk_data] Downloading package stopwords to /root/nltk_data...\n",
            "[nltk_data]   Unzipping corpora/stopwords.zip.\n",
            "[nltk_data] Downloading package punkt to /root/nltk_data...\n",
            "[nltk_data]   Unzipping tokenizers/punkt.zip.\n"
          ]
        }
      ],
      "source": [
        "import numpy as np\n",
        "import pandas as pd\n",
        "import nltk\n",
        "nltk.download('stopwords')\n",
        "nltk.download('punkt')\n",
        "from nltk.corpus import stopwords\n",
        "import re"
      ]
    },
    {
      "cell_type": "code",
      "source": [
        "# loading the pre-trained solutions\n",
        "results = pd.read_excel('/content/HGT-2022-EmDomArDon/results/results_pre_trained.xlsx')"
      ],
      "metadata": {
        "id": "4K-JLnJVq-_D"
      },
      "execution_count": 3,
      "outputs": []
    },
    {
      "cell_type": "code",
      "source": [
        "results.head()"
      ],
      "metadata": {
        "colab": {
          "base_uri": "https://localhost:8080/",
          "height": 206
        },
        "id": "MaYVW3Yywc1u",
        "outputId": "f520af55-1215-4363-bc11-113495047aee"
      },
      "execution_count": 4,
      "outputs": [
        {
          "output_type": "execute_result",
          "data": {
            "text/plain": [
              "                                                Lead  \\\n",
              "0  Elkezdi az illegális bevándorlók Ruandába depo...   \n",
              "1  Már idén jöhetnek a hirdetések a Netflixre. Eg...   \n",
              "2  Ukrán tájba fúródott kazettás bomba, Putyin ke...   \n",
              "3  Elon Musk visszaengedné Donald Trumpot a Twitt...   \n",
              "4  Meghalt a független Ukrajna első elnöke. Leony...   \n",
              "\n",
              "                                        pred_summary  \\\n",
              "0  Ruandába akarnak átutazni, mert a brit kormány...   \n",
              "1  A Netflix dolgozóinak küldött feljegyzés szeri...   \n",
              "2  Az ukrán hadsereg kedden folytatta a harcokat ...   \n",
              "3  Elon Musk szerint hiba volt, hogy nem volt hel...   \n",
              "4               Leonyid Kravcsuk volt a kulcsfigura.   \n",
              "\n",
              "                                            Textbody  \n",
              "0  Ezen a héten kezdik meg a brit határt illegáli...  \n",
              "1  Már az év végén megjelenhetnek a reklámok a Ne...  \n",
              "2  Az orosz erők kedden tovább ostromolták a mari...  \n",
              "3  Elon Musk visszaállítaná Donald Trump korábbi ...  \n",
              "4  Meghalt Leonyid Kravcsuk, a független Ukrajna ...  "
            ],
            "text/html": [
              "\n",
              "  <div id=\"df-d0901e3e-c82f-4a6b-b041-ee5eb875a2e8\">\n",
              "    <div class=\"colab-df-container\">\n",
              "      <div>\n",
              "<style scoped>\n",
              "    .dataframe tbody tr th:only-of-type {\n",
              "        vertical-align: middle;\n",
              "    }\n",
              "\n",
              "    .dataframe tbody tr th {\n",
              "        vertical-align: top;\n",
              "    }\n",
              "\n",
              "    .dataframe thead th {\n",
              "        text-align: right;\n",
              "    }\n",
              "</style>\n",
              "<table border=\"1\" class=\"dataframe\">\n",
              "  <thead>\n",
              "    <tr style=\"text-align: right;\">\n",
              "      <th></th>\n",
              "      <th>Lead</th>\n",
              "      <th>pred_summary</th>\n",
              "      <th>Textbody</th>\n",
              "    </tr>\n",
              "  </thead>\n",
              "  <tbody>\n",
              "    <tr>\n",
              "      <th>0</th>\n",
              "      <td>Elkezdi az illegális bevándorlók Ruandába depo...</td>\n",
              "      <td>Ruandába akarnak átutazni, mert a brit kormány...</td>\n",
              "      <td>Ezen a héten kezdik meg a brit határt illegáli...</td>\n",
              "    </tr>\n",
              "    <tr>\n",
              "      <th>1</th>\n",
              "      <td>Már idén jöhetnek a hirdetések a Netflixre. Eg...</td>\n",
              "      <td>A Netflix dolgozóinak küldött feljegyzés szeri...</td>\n",
              "      <td>Már az év végén megjelenhetnek a reklámok a Ne...</td>\n",
              "    </tr>\n",
              "    <tr>\n",
              "      <th>2</th>\n",
              "      <td>Ukrán tájba fúródott kazettás bomba, Putyin ke...</td>\n",
              "      <td>Az ukrán hadsereg kedden folytatta a harcokat ...</td>\n",
              "      <td>Az orosz erők kedden tovább ostromolták a mari...</td>\n",
              "    </tr>\n",
              "    <tr>\n",
              "      <th>3</th>\n",
              "      <td>Elon Musk visszaengedné Donald Trumpot a Twitt...</td>\n",
              "      <td>Elon Musk szerint hiba volt, hogy nem volt hel...</td>\n",
              "      <td>Elon Musk visszaállítaná Donald Trump korábbi ...</td>\n",
              "    </tr>\n",
              "    <tr>\n",
              "      <th>4</th>\n",
              "      <td>Meghalt a független Ukrajna első elnöke. Leony...</td>\n",
              "      <td>Leonyid Kravcsuk volt a kulcsfigura.</td>\n",
              "      <td>Meghalt Leonyid Kravcsuk, a független Ukrajna ...</td>\n",
              "    </tr>\n",
              "  </tbody>\n",
              "</table>\n",
              "</div>\n",
              "      <button class=\"colab-df-convert\" onclick=\"convertToInteractive('df-d0901e3e-c82f-4a6b-b041-ee5eb875a2e8')\"\n",
              "              title=\"Convert this dataframe to an interactive table.\"\n",
              "              style=\"display:none;\">\n",
              "        \n",
              "  <svg xmlns=\"http://www.w3.org/2000/svg\" height=\"24px\"viewBox=\"0 0 24 24\"\n",
              "       width=\"24px\">\n",
              "    <path d=\"M0 0h24v24H0V0z\" fill=\"none\"/>\n",
              "    <path d=\"M18.56 5.44l.94 2.06.94-2.06 2.06-.94-2.06-.94-.94-2.06-.94 2.06-2.06.94zm-11 1L8.5 8.5l.94-2.06 2.06-.94-2.06-.94L8.5 2.5l-.94 2.06-2.06.94zm10 10l.94 2.06.94-2.06 2.06-.94-2.06-.94-.94-2.06-.94 2.06-2.06.94z\"/><path d=\"M17.41 7.96l-1.37-1.37c-.4-.4-.92-.59-1.43-.59-.52 0-1.04.2-1.43.59L10.3 9.45l-7.72 7.72c-.78.78-.78 2.05 0 2.83L4 21.41c.39.39.9.59 1.41.59.51 0 1.02-.2 1.41-.59l7.78-7.78 2.81-2.81c.8-.78.8-2.07 0-2.86zM5.41 20L4 18.59l7.72-7.72 1.47 1.35L5.41 20z\"/>\n",
              "  </svg>\n",
              "      </button>\n",
              "      \n",
              "  <style>\n",
              "    .colab-df-container {\n",
              "      display:flex;\n",
              "      flex-wrap:wrap;\n",
              "      gap: 12px;\n",
              "    }\n",
              "\n",
              "    .colab-df-convert {\n",
              "      background-color: #E8F0FE;\n",
              "      border: none;\n",
              "      border-radius: 50%;\n",
              "      cursor: pointer;\n",
              "      display: none;\n",
              "      fill: #1967D2;\n",
              "      height: 32px;\n",
              "      padding: 0 0 0 0;\n",
              "      width: 32px;\n",
              "    }\n",
              "\n",
              "    .colab-df-convert:hover {\n",
              "      background-color: #E2EBFA;\n",
              "      box-shadow: 0px 1px 2px rgba(60, 64, 67, 0.3), 0px 1px 3px 1px rgba(60, 64, 67, 0.15);\n",
              "      fill: #174EA6;\n",
              "    }\n",
              "\n",
              "    [theme=dark] .colab-df-convert {\n",
              "      background-color: #3B4455;\n",
              "      fill: #D2E3FC;\n",
              "    }\n",
              "\n",
              "    [theme=dark] .colab-df-convert:hover {\n",
              "      background-color: #434B5C;\n",
              "      box-shadow: 0px 1px 3px 1px rgba(0, 0, 0, 0.15);\n",
              "      filter: drop-shadow(0px 1px 2px rgba(0, 0, 0, 0.3));\n",
              "      fill: #FFFFFF;\n",
              "    }\n",
              "  </style>\n",
              "\n",
              "      <script>\n",
              "        const buttonEl =\n",
              "          document.querySelector('#df-d0901e3e-c82f-4a6b-b041-ee5eb875a2e8 button.colab-df-convert');\n",
              "        buttonEl.style.display =\n",
              "          google.colab.kernel.accessAllowed ? 'block' : 'none';\n",
              "\n",
              "        async function convertToInteractive(key) {\n",
              "          const element = document.querySelector('#df-d0901e3e-c82f-4a6b-b041-ee5eb875a2e8');\n",
              "          const dataTable =\n",
              "            await google.colab.kernel.invokeFunction('convertToInteractive',\n",
              "                                                     [key], {});\n",
              "          if (!dataTable) return;\n",
              "\n",
              "          const docLinkHtml = 'Like what you see? Visit the ' +\n",
              "            '<a target=\"_blank\" href=https://colab.research.google.com/notebooks/data_table.ipynb>data table notebook</a>'\n",
              "            + ' to learn more about interactive tables.';\n",
              "          element.innerHTML = '';\n",
              "          dataTable['output_type'] = 'display_data';\n",
              "          await google.colab.output.renderOutput(dataTable, element);\n",
              "          const docLink = document.createElement('div');\n",
              "          docLink.innerHTML = docLinkHtml;\n",
              "          element.appendChild(docLink);\n",
              "        }\n",
              "      </script>\n",
              "    </div>\n",
              "  </div>\n",
              "  "
            ]
          },
          "metadata": {},
          "execution_count": 4
        }
      ]
    },
    {
      "cell_type": "code",
      "source": [
        "# stop words to filter out\n",
        "stop_words = set(stopwords.words('hungarian'))"
      ],
      "metadata": {
        "id": "cqWO_UMirclM"
      },
      "execution_count": 5,
      "outputs": []
    },
    {
      "cell_type": "markdown",
      "source": [
        "## On the original textbodies"
      ],
      "metadata": {
        "id": "9BjFNVeKzNpM"
      }
    },
    {
      "cell_type": "code",
      "source": [
        "rel_occurences = []\n",
        "\n",
        "results = results.apply(lambda x: x.str.lower())\n",
        "\n",
        "for index, row in results.iterrows():\n",
        "  # fixing missings whitespaces between sentences\n",
        "  pred = re.sub(r\"(\\.)([A-Z])\", r'\\1 \\2', row['pred_summary']) \n",
        "  body = re.sub(r\"(\\.)([A-Z])\", r'\\1 \\2', row['Textbody'])\n",
        "\n",
        "  # tokenizing the prediction summary\n",
        "  pred_tokens = []\n",
        "  for sen in nltk.tokenize.sent_tokenize(pred):\n",
        "    tokenized_sen = nltk.tokenize.RegexpTokenizer(r'\\w+').tokenize(sen)\n",
        "    filtered_sen = [w for w in tokenized_sen if not w in stop_words] # eliminating stop words\n",
        "    pred_tokens = pred_tokens + filtered_sen\n",
        "  \n",
        "  # tokenizing the textbody\n",
        "  body_tokens = []\n",
        "  for sen in nltk.tokenize.sent_tokenize(body):\n",
        "    tokenized_sen = nltk.tokenize.RegexpTokenizer(r'\\w+').tokenize(sen)\n",
        "    body_tokens = body_tokens + tokenized_sen\n",
        "\n",
        "  #calculating the relative occurences\n",
        "  text_len = len(body_tokens)\n",
        "  for word1 in set(pred_tokens):\n",
        "    for place, word2 in enumerate(body_tokens):\n",
        "      if word1 == word2:\n",
        "        rel_occurences.append(place/text_len)"
      ],
      "metadata": {
        "id": "vWcISAEhswf8"
      },
      "execution_count": 6,
      "outputs": []
    },
    {
      "cell_type": "code",
      "source": [
        "import matplotlib.pyplot as plt\n",
        "plt.hist(rel_occurences, bins=300)\n",
        "plt.title('Relative occurences of the words within the predicted summary')\n",
        "plt.show()"
      ],
      "metadata": {
        "colab": {
          "base_uri": "https://localhost:8080/",
          "height": 281
        },
        "id": "zErAN3I0xv-y",
        "outputId": "9d34a28c-d17c-4310-e665-90be713d327f"
      },
      "execution_count": 7,
      "outputs": [
        {
          "output_type": "display_data",
          "data": {
            "text/plain": [
              "<Figure size 432x288 with 1 Axes>"
            ],
            "image/png": "[encoded data removed]"
          },
          "metadata": {
            "needs_background": "light"
          }
        }
      ]
    },
    {
      "cell_type": "code",
      "source": [
        "# now do the same for the original leads\n",
        "rel_occurences_2 = []\n",
        "\n",
        "for index, row in results.iterrows():\n",
        "  # fixing missings whitespaces between sentences\n",
        "  lead = re.sub(r\"(\\.)([A-Z])\", r'\\1 \\2', row['Lead']) \n",
        "  body = re.sub(r\"(\\.)([A-Z])\", r'\\1 \\2', row['Textbody'])\n",
        "\n",
        "  # tokenizing the leads\n",
        "  lead_tokens = []\n",
        "  for sen in nltk.tokenize.sent_tokenize(lead):\n",
        "    tokenized_sen = nltk.tokenize.RegexpTokenizer(r'\\w+').tokenize(sen)\n",
        "    filtered_sen = [w for w in tokenized_sen if not w in stop_words] # eliminating stop words\n",
        "    lead_tokens = lead_tokens + filtered_sen\n",
        "  \n",
        "  # tokenizing the textbody\n",
        "  body_tokens = []\n",
        "  for sen in nltk.tokenize.sent_tokenize(body):\n",
        "    tokenized_sen = nltk.tokenize.RegexpTokenizer(r'\\w+').tokenize(sen)\n",
        "    body_tokens = body_tokens + tokenized_sen\n",
        "\n",
        "  #calculating the relative occurences\n",
        "  text_len = len(body_tokens)\n",
        "  for word1 in set(lead_tokens):\n",
        "    for place, word2 in enumerate(body_tokens):\n",
        "      if word1 == word2:\n",
        "        rel_occurences_2.append(place/text_len)"
      ],
      "metadata": {
        "id": "6LDODS1gx2wm"
      },
      "execution_count": 8,
      "outputs": []
    },
    {
      "cell_type": "code",
      "source": [
        "import matplotlib.pyplot as plt\n",
        "plt.hist(rel_occurences_2, bins=300)\n",
        "plt.title('Relative occurences of the words within the predicted summary')\n",
        "plt.show()"
      ],
      "metadata": {
        "colab": {
          "base_uri": "https://localhost:8080/",
          "height": 281
        },
        "id": "ncNkNTmEyaZR",
        "outputId": "4cd659f0-60c2-40c7-8e03-fe0614f8c763"
      },
      "execution_count": 9,
      "outputs": [
        {
          "output_type": "display_data",
          "data": {
            "text/plain": [
              "<Figure size 432x288 with 1 Axes>"
            ],
            "image/png": "[encoded data removed]"
          },
          "metadata": {
            "needs_background": "light"
          }
        }
      ]
    },
    {
      "cell_type": "markdown",
      "source": [
        "## On the modified textbodies"
      ],
      "metadata": {
        "id": "CIQpVxGwzTbr"
      }
    },
    {
      "cell_type": "markdown",
      "source": [
        "Data preparation"
      ],
      "metadata": {
        "id": "fUBBSBkXzilX"
      }
    },
    {
      "cell_type": "code",
      "source": [
        "%%capture\n",
        "!pip install transformers\n",
        "from transformers import AutoTokenizer\n",
        "tokenizer = AutoTokenizer.from_pretrained('SZTAKI-HLT/hubert-base-cc')"
      ],
      "metadata": {
        "id": "cZirLyxjzl12"
      },
      "execution_count": null,
      "outputs": []
    },
    {
      "cell_type": "code",
      "execution_count": null,
      "metadata": {
        "id": "DPPAVum781B-"
      },
      "outputs": [],
      "source": [
        "def text_to_token_list(art_title, x):      \n",
        "  token_list = []\n",
        "  sen_list = []\n",
        "\n",
        "  x = re.sub(r\"(\\.)([A-Z])\", r'\\1 \\2', x) # fixes missings whitespaces between sentences\n",
        " \n",
        "  for sen in nltk.tokenize.sent_tokenize(x):\n",
        "    token_list.append(tokenizer.tokenize(sen))\n",
        "    sen_list.append(sen)\n",
        "\n",
        "  return token_list, sen_list"
      ]
    },
    {
      "cell_type": "code",
      "execution_count": null,
      "metadata": {
        "id": "Q3rAijD680_n"
      },
      "outputs": [],
      "source": [
        "dict_of_tokens = {} \n",
        "#this dict will contain the article title as keys and the tokenized lists from the function below as values for other purposes\n",
        "\n",
        "def text_to_tokens(art_title, x):      \n",
        "  #insert the text to tokenize; first breaks text into sentences, then makes a list of lists with the i-th element being the tokenization of the i-th sentence\n",
        "  token_list = []\n",
        "\n",
        "  x = re.sub(r\"(\\.)([A-Z])\", r'\\1 \\2', x) # fixes missings whitespaces between sentences\n",
        "\n",
        "  tokens, sentences = text_to_token_list(art_title, x)  #tokens and sentences\n",
        "\n",
        "  new_text = ''      #this is the text which contains less than (or equal to) 510 tokens\n",
        "\n",
        "  #total tokennumber\n",
        "  len1 = 0\n",
        "  for i in tokens:\n",
        "    for j in i:\n",
        "      len1 += 1\n",
        "\n",
        "  #if the text is > 510 tokens, we will get the first few whole sentences (~255 tokens), and the last few whole sentences (~255 tokens)\n",
        "  if len1 > 510:\n",
        "    begin_sum = 0\n",
        "    begin_tokens = []\n",
        "    for index, elem1 in enumerate(tokens):\n",
        "      if begin_sum + len(elem1) > 255:\n",
        "        break\n",
        "      else:\n",
        "        begin_sum += len(elem1)\n",
        "        begin_tokens.append(elem1)\n",
        "        new_text = new_text + sentences[index] + \" \"   #appending the new text  \n",
        "\n",
        "    end_indexes = []\n",
        "    end_sum = 0\n",
        "    end_tokens = []\n",
        "    tokens.reverse()\n",
        "    for index, elem2 in enumerate(tokens):\n",
        "      if end_sum + len(elem2) > 510-begin_sum:\n",
        "        break\n",
        "      else:\n",
        "        end_sum += len(elem2)\n",
        "        end_tokens.append(elem2)\n",
        "        end_indexes.append(-index-1)\n",
        "\n",
        "    #finally reconstructing the text which has less than (or equal to) 510 tokens \n",
        "    end_indexes.reverse()\n",
        "    for end_index in end_indexes:\n",
        "      new_text = new_text + sentences[end_index] + \" \"\n",
        "\n",
        "\n",
        "    end_tokens.reverse()\n",
        "    final_tokens = []\n",
        "    for elem3 in begin_tokens:\n",
        "      final_tokens.append(elem3)\n",
        "    for elem4 in end_tokens:\n",
        "      final_tokens.append(elem4)\n",
        "\n",
        "    dict_of_tokens[art_title] = final_tokens\n",
        "    return new_text.strip()\n",
        "\n",
        "  #if the text is < 510 tokens, we do not have to get the beginning and the end, we can use the whole text\n",
        "  else:\n",
        "    for sen in nltk.tokenize.sent_tokenize(x):\n",
        "      new_text = new_text + sen + \" \"\n",
        "      token_list.append(tokenizer.tokenize(sen))\n",
        "\n",
        "    dict_of_tokens[art_title] = token_list\n",
        "    return new_text.strip()"
      ]
    },
    {
      "cell_type": "code",
      "execution_count": null,
      "metadata": {
        "id": "lKPzoUMQFR1U"
      },
      "outputs": [],
      "source": [
        "# making the BERT tokenized sentences and the reduced sentences from each article\n",
        "results2 = pd.read_excel('/content/HGT-2022-EmDomArDon/results/results_pre_trained.xlsx')\n",
        "\n",
        "for i in range(len(results2.Lead)):\n",
        "  new_text = text_to_tokens(results2.Lead[i].strip(), results.Textbody[i])\n",
        "  results2.at[i, 'Textbody'] = new_text"
      ]
    },
    {
      "cell_type": "markdown",
      "source": [
        "Now the frequencies"
      ],
      "metadata": {
        "id": "lrEFTM13z5xN"
      }
    },
    {
      "cell_type": "code",
      "source": [
        "rel_occurences_3 = []\n",
        "\n",
        "results2 = results2.apply(lambda x: x.str.lower())\n",
        "\n",
        "for index, row in results2.iterrows():\n",
        "  # fixing missings whitespaces between sentences\n",
        "  pred = re.sub(r\"(\\.)([A-Z])\", r'\\1 \\2', row['pred_summary']) \n",
        "  body = re.sub(r\"(\\.)([A-Z])\", r'\\1 \\2', row['Textbody'])\n",
        "\n",
        "  # tokenizing the prediction summary\n",
        "  pred_tokens = []\n",
        "  for sen in nltk.tokenize.sent_tokenize(pred):\n",
        "    tokenized_sen = nltk.tokenize.RegexpTokenizer(r'\\w+').tokenize(sen)\n",
        "    filtered_sen = [w for w in tokenized_sen if not w in stop_words] # eliminating stop words\n",
        "    pred_tokens = pred_tokens + filtered_sen\n",
        "  \n",
        "  # tokenizing the textbody\n",
        "  body_tokens = []\n",
        "  for sen in nltk.tokenize.sent_tokenize(body):\n",
        "    tokenized_sen = nltk.tokenize.RegexpTokenizer(r'\\w+').tokenize(sen)\n",
        "    body_tokens = body_tokens + tokenized_sen\n",
        "\n",
        "  #calculating the relative occurences\n",
        "  text_len = len(body_tokens)\n",
        "  for word1 in set(pred_tokens):\n",
        "    for place, word2 in enumerate(body_tokens):\n",
        "      if word1 == word2:\n",
        "        rel_occurences_3.append(place/text_len)"
      ],
      "metadata": {
        "id": "CLZabouAzaYP"
      },
      "execution_count": null,
      "outputs": []
    },
    {
      "cell_type": "code",
      "source": [
        "import matplotlib.pyplot as plt\n",
        "plt.hist(rel_occurences_3, bins=300)\n",
        "plt.title('Relative occurences of the words within the predicted summary')\n",
        "plt.show()"
      ],
      "metadata": {
        "colab": {
          "base_uri": "https://localhost:8080/",
          "height": 281
        },
        "outputId": "38df5ab3-bafb-403e-eadc-186c3eb567ed",
        "id": "1_i4pXiqzaYQ"
      },
      "execution_count": null,
      "outputs": [
        {
          "output_type": "display_data",
          "data": {
            "text/plain": [
              "<Figure size 432x288 with 1 Axes>"
            ],
            "image/png": "[encoded data removed]"
          },
          "metadata": {
            "needs_background": "light"
          }
        }
      ]
    },
    {
      "cell_type": "code",
      "source": [
        "# now do the same for the original leads\n",
        "rel_occurences_4 = []\n",
        "\n",
        "for index, row in results2.iterrows():\n",
        "  # fixing missings whitespaces between sentences\n",
        "  lead = re.sub(r\"(\\.)([A-Z])\", r'\\1 \\2', row['Lead']) \n",
        "  body = re.sub(r\"(\\.)([A-Z])\", r'\\1 \\2', row['Textbody'])\n",
        "\n",
        "  # tokenizing the leads\n",
        "  lead_tokens = []\n",
        "  for sen in nltk.tokenize.sent_tokenize(lead):\n",
        "    tokenized_sen = nltk.tokenize.RegexpTokenizer(r'\\w+').tokenize(sen)\n",
        "    filtered_sen = [w for w in tokenized_sen if not w in stop_words] # eliminating stop words\n",
        "    lead_tokens = lead_tokens + filtered_sen\n",
        "  \n",
        "  # tokenizing the textbody\n",
        "  body_tokens = []\n",
        "  for sen in nltk.tokenize.sent_tokenize(body):\n",
        "    tokenized_sen = nltk.tokenize.RegexpTokenizer(r'\\w+').tokenize(sen)\n",
        "    body_tokens = body_tokens + tokenized_sen\n",
        "\n",
        "  #calculating the relative occurences\n",
        "  text_len = len(body_tokens)\n",
        "  for word1 in set(lead_tokens):\n",
        "    for place, word2 in enumerate(body_tokens):\n",
        "      if word1 == word2:\n",
        "        rel_occurences_4.append(place/text_len)"
      ],
      "metadata": {
        "id": "0YiywG5XzaYR"
      },
      "execution_count": null,
      "outputs": []
    },
    {
      "cell_type": "code",
      "source": [
        "import matplotlib.pyplot as plt\n",
        "plt.hist(rel_occurences_4, bins=300)\n",
        "plt.title('Relative occurences of the words within the predicted summary')\n",
        "plt.show()"
      ],
      "metadata": {
        "colab": {
          "base_uri": "https://localhost:8080/",
          "height": 281
        },
        "outputId": "4b293c39-2bc6-488b-8afa-7b231a33cecd",
        "id": "t_O2kfs6zaYS"
      },
      "execution_count": null,
      "outputs": [
        {
          "output_type": "display_data",
          "data": {
            "text/plain": [
              "<Figure size 432x288 with 1 Axes>"
            ],
            "image/png": "[encoded data removed]"
          },
          "metadata": {
            "needs_background": "light"
          }
        }
      ]
    },
    {
      "cell_type": "code",
      "source": [
        "# now all histograms altogether\n",
        "fig, axes = plt.subplots(2,2, figsize=(16,10))\n",
        "axes[0,0].hist(rel_occurences, bins = 300)\n",
        "axes[0,0].set_title('Prediction summary on the original texts')\n",
        "axes[0,1].hist(rel_occurences_2, bins = 300)\n",
        "axes[0,1].set_title('Lead on the original texts')\n",
        "axes[1,0].hist(rel_occurences_3, bins = 300)\n",
        "axes[1,0].set_title('Prediction summary on the modified texts')\n",
        "axes[1,1].hist(rel_occurences_4, bins = 300)\n",
        "axes[1,1].set_title('Lead on the modified texts')\n",
        "plt.show()"
      ],
      "metadata": {
        "colab": {
          "base_uri": "https://localhost:8080/",
          "height": 607
        },
        "id": "AeTQl7wQ3PUY",
        "outputId": "a282a674-48f5-40f6-d0a1-133f4b49b02c"
      },
      "execution_count": null,
      "outputs": [
        {
          "output_type": "display_data",
          "data": {
            "text/plain": [
              "<Figure size 1152x720 with 4 Axes>"
            ],
            "image/png": "[encoded data removed]"
          },
          "metadata": {
            "needs_background": "light"
          }
        }
      ]
    },
    {
      "cell_type": "code",
      "source": [],
      "metadata": {
        "id": "9zoMTJR33ulD"
      },
      "execution_count": null,
      "outputs": []
    }
  ]
}