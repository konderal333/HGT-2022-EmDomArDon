{
  "cells": [
    {
      "cell_type": "markdown",
      "metadata": {
        "id": "W9WWHzprHGm8"
      },
      "source": [
        "Fontos! először futtatsd ezt, hogy bemásold Gitről a dolgokat.\n",
        "\n",
        "<b> MÉGFONTOSABB! </b> Menteni úgy tudod a notebook-ot, hogy Fájl -> Másolat mentése Githubra"
      ]
    },
    {
      "cell_type": "code",
      "execution_count": 1,
      "metadata": {
        "colab": {
          "base_uri": "https://localhost:8080/"
        },
        "id": "xbdCSZN9HBjJ",
        "outputId": "3083f8c6-863f-456a-f192-f5887acff34a"
      },
      "outputs": [
        {
          "output_type": "stream",
          "name": "stdout",
          "text": [
            "Cloning into 'HGT-2022-EmDomArDon'...\n",
            "remote: Enumerating objects: 45, done.\u001b[K\n",
            "remote: Counting objects: 100% (45/45), done.\u001b[K\n",
            "remote: Compressing objects: 100% (36/36), done.\u001b[K\n",
            "remote: Total 45 (delta 20), reused 28 (delta 8), pack-reused 0\u001b[K\n",
            "Unpacking objects: 100% (45/45), done.\n"
          ]
        }
      ],
      "source": [
        "!git clone https://github.com/konderal333/HGT-2022-EmDomArDon.git"
      ]
    },
    {
      "cell_type": "code",
      "execution_count": 2,
      "metadata": {
        "colab": {
          "base_uri": "https://localhost:8080/"
        },
        "id": "I0JpUZ7aZ-mq",
        "outputId": "8991c771-9474-4374-eaae-28d953174783"
      },
      "outputs": [
        {
          "output_type": "stream",
          "name": "stdout",
          "text": [
            "Mounted at /content/drive\n"
          ]
        }
      ],
      "source": [
        "#Google drive for bigger data\n",
        "from google.colab import drive\n",
        "drive.mount('/content/drive')"
      ]
    },
    {
      "cell_type": "markdown",
      "metadata": {
        "id": "JDrd1xRaHyjk"
      },
      "source": [
        "# Scraping"
      ]
    },
    {
      "cell_type": "code",
      "execution_count": 5,
      "metadata": {
        "colab": {
          "base_uri": "https://localhost:8080/"
        },
        "id": "CKLtFLWWJM-h",
        "outputId": "70ea6538-f3e8-4115-bd3c-1764ab77d8e9"
      },
      "outputs": [
        {
          "output_type": "stream",
          "name": "stdout",
          "text": [
            "Looking in indexes: https://pypi.org/simple, https://us-python.pkg.dev/colab-wheels/public/simple/\n",
            "Requirement already satisfied: BeautifulSoup4 in /usr/local/lib/python3.7/dist-packages (4.6.3)\n"
          ]
        }
      ],
      "source": [
        "!pip install BeautifulSoup4"
      ]
    },
    {
      "cell_type": "code",
      "execution_count": 4,
      "metadata": {
        "id": "3p1cGW3mH0BG"
      },
      "outputs": [],
      "source": [
        "from bs4 import BeautifulSoup\n",
        "import numpy as np\n",
        "import pandas as pd\n",
        "import requests"
      ]
    },
    {
      "cell_type": "code",
      "execution_count": null,
      "metadata": {
        "id": "sjYjsyDtIWq2"
      },
      "outputs": [],
      "source": [
        "# this times ten is the number of articles to scrape \n",
        "cikkszam = 1000\n",
        "\n",
        "# 2000 articles need approx 20 minutes to scrape"
      ]
    },
    {
      "cell_type": "code",
      "execution_count": null,
      "metadata": {
        "colab": {
          "base_uri": "https://localhost:8080/"
        },
        "id": "mYeVZsO2Ib0I",
        "outputId": "b327aabd-8cb1-439f-ce8d-49eb6bd81079"
      },
      "outputs": [
        {
          "output_type": "stream",
          "name": "stdout",
          "text": [
            "kész\n"
          ]
        }
      ],
      "source": [
        "page = requests.get(\"https://telex.hu/legfrissebb\")   \n",
        "soup = BeautifulSoup(page.text, 'html.parser')\n",
        "soup.prettify\n",
        "\n",
        "titles = []\n",
        "headline = []\n",
        "textbody = []\n",
        "\n",
        "\n",
        "\n",
        "#for the first page\n",
        "links = soup.find_all('a',{'class':'list__item__title'})\n",
        "heads = soup.find_all('p',{'class':'list__item__lead hasHighlight'})\n",
        "for index, link in enumerate(links):\n",
        "    \n",
        "    #headline\n",
        "    head = heads[index].text\n",
        "    headline.append(head)\n",
        "    \n",
        "    #htmlbody of teh article\n",
        "    link = link.attrs['href'] \n",
        "    newpage = requests.get(f\"https://telex.hu{link}\")\n",
        "    newpage_html = BeautifulSoup(newpage.text, 'html.parser')\n",
        "    newpage_html.prettify\n",
        "    \n",
        "    #title\n",
        "    title = newpage_html.find('h1')\n",
        "    titles.append(title.text)\n",
        "    \n",
        "    #textbody\n",
        "    article = newpage_html.find('div', {'class':'article-html-content'}) \n",
        "    article_text = article.get_text()\n",
        "    textbody.append(article_text)\n",
        "\n",
        "    \n",
        "# For the other pages\n",
        "for pagenumber in range(2,cikkszam+1):\n",
        "    page = requests.get(f\"https://telex.hu/legfrissebb/?oldal={pagenumber}\")   \n",
        "    soup = BeautifulSoup(page.text, 'html.parser')\n",
        "    soup.prettify\n",
        "    \n",
        "    links = soup.find_all('a',{'class':'list__item__title'})\n",
        "    heads = soup.find_all('p',{'class':'list__item__lead hasHighlight'})\n",
        "    for index, link in enumerate(links):\n",
        "\n",
        "        #headline\n",
        "        head = heads[index].text\n",
        "        headline.append(head)\n",
        "\n",
        "        #htmlbody of teh article\n",
        "        link = link.attrs['href'] \n",
        "        newpage = requests.get(f\"https://telex.hu{link}\")\n",
        "        newpage_html = BeautifulSoup(newpage.text, 'html.parser')\n",
        "        newpage_html.prettify\n",
        "\n",
        "        #title\n",
        "        title = newpage_html.find('h1').text\n",
        "        titles.append(title)\n",
        "\n",
        "        #textbody\n",
        "        article = newpage_html.find('div', {'class':'article-html-content'}) \n",
        "        article_text = article.get_text()\n",
        "        textbody.append(article_text)\n",
        "\n",
        "df_orig = pd.DataFrame({'Title':titles, 'Headline':headline, 'Textbody':textbody})       \n",
        "\n",
        "#We don't need the Ukranian - Russian livefeed\n",
        "df_orig.drop([0], inplace=True)\n",
        "print('kész')"
      ]
    },
    {
      "cell_type": "code",
      "execution_count": null,
      "metadata": {
        "id": "gkOgMeAtKy1P"
      },
      "outputs": [],
      "source": [
        "df_orig.to_csv('cikkek_10k.csv', index=False)"
      ]
    },
    {
      "cell_type": "code",
      "source": [
        "try:\n",
        "  df_orig = pd.read_csv(\"/content/HGT-2022-EmDomArDon/cikkek_10k.csv\")\n",
        "except:\n",
        "  raise ValueError(\"Upload it here or to Google Drive.\")"
      ],
      "metadata": {
        "id": "kGNb2iFAd6zw"
      },
      "execution_count": null,
      "outputs": []
    },
    {
      "cell_type": "code",
      "source": [
        "df_orig.iloc[7]"
      ],
      "metadata": {
        "id": "x0ynn2vRncuq",
        "outputId": "5daf983d-a2e1-4b2b-b13f-2916d1c61a77",
        "colab": {
          "base_uri": "https://localhost:8080/"
        }
      },
      "execution_count": 11,
      "outputs": [
        {
          "output_type": "execute_result",
          "data": {
            "text/plain": [
              "Title       \\n      „Pusztítottak és örömüket lelték benne...\n",
              "Headline    A nemrég felszabadított kelet-ukrajnai települ...\n",
              "Textbody                                                  NaN\n",
              "Name: 7, dtype: object"
            ]
          },
          "metadata": {},
          "execution_count": 11
        }
      ]
    },
    {
      "cell_type": "markdown",
      "metadata": {
        "id": "Ybq5RgFXIkEX"
      },
      "source": [
        "# Data Cleaning"
      ]
    },
    {
      "cell_type": "code",
      "execution_count": 13,
      "metadata": {
        "colab": {
          "base_uri": "https://localhost:8080/",
          "height": 424
        },
        "id": "fqvZjXfIdWIL",
        "outputId": "5101d8a8-2599-4f3d-b494-aefa9acee48e"
      },
      "outputs": [
        {
          "output_type": "execute_result",
          "data": {
            "text/plain": [
              "                                                  Title  \\\n",
              "0            Brutális mértékben drágul a liba- és ka...   \n",
              "1            Két góllal vezetett a Bayern München, a...   \n",
              "2            Antiszemita tartalom miatt korlátozták ...   \n",
              "3                   Meghalt egy néző az ózdi ralin        \n",
              "4            Elbocsátanak háromszáz dolgozót a jakuz...   \n",
              "...                                                 ...   \n",
              "7133         Nyomozás indult a külügyminisztériumot ...   \n",
              "7134         Örökre lezárják az autósok előtt a pest...   \n",
              "7135         Jogerős: Nem bizonyítható, hogy a Megol...   \n",
              "7136         Két hétre leállt az oltási akció, mosta...   \n",
              "7137         Öt évet kapott egy amerikai kriptovalut...   \n",
              "\n",
              "                                               Headline  \\\n",
              "0     Majdnem duplájába kerül, mint tavaly. Drágább ...   \n",
              "1     Neuer kissé bizonytalanul jött ki az utolsó pe...   \n",
              "2     A rapper P. Diddyről állította azt, hogy a hát...   \n",
              "3                              Elsodorta az egyik autó.   \n",
              "4     A cég szerint erőteljesen befagyott az európai...   \n",
              "...                                                 ...   \n",
              "7133  A Nemzeti Nyomozó Iroda a Direkt36 tényfeltáró...   \n",
              "7134  Karácsony Gergely főpolgármester a választások...   \n",
              "7135  Így a párt nem sértette meg a törvényt, hiszen...   \n",
              "7136  A kórházi oltópontok csak keddenként és péntek...   \n",
              "7137  Az észak-koreai rezsim Virgil Griffith segítsé...   \n",
              "\n",
              "                                               Textbody  \n",
              "0     Majdnem duplájába kerülhet a Márton-napi libas...  \n",
              "1     Nagyon úgy tűnt, hogy a Bayern München ismét l...  \n",
              "2     Korlátozást rakott a Meta Kanye West Instagram...  \n",
              "3     Elsodortak egy nézőt a hétvégi ózdi ralin, és ...  \n",
              "4     Befagyott az európai medencepiac, decemberig h...  \n",
              "...                                                 ...  \n",
              "7133  A Nemzeti Nyomozó Iroda a Direkt36 tényfeltáró...  \n",
              "7134  „A pesti alsó rakpart tervezése során volt az ...  \n",
              "7135  A Kúria megváltoztatta a Nemzeti Választási Bi...  \n",
              "7136  Április elején írtuk meg, hogy a friss napi ad...  \n",
              "7137  Öt év börtönre ítéltek egy amerikai kriptovalu...  \n",
              "\n",
              "[7138 rows x 3 columns]"
            ],
            "text/html": [
              "\n",
              "  <div id=\"df-26b7fada-45da-4589-8e5b-271c5483217f\">\n",
              "    <div class=\"colab-df-container\">\n",
              "      <div>\n",
              "<style scoped>\n",
              "    .dataframe tbody tr th:only-of-type {\n",
              "        vertical-align: middle;\n",
              "    }\n",
              "\n",
              "    .dataframe tbody tr th {\n",
              "        vertical-align: top;\n",
              "    }\n",
              "\n",
              "    .dataframe thead th {\n",
              "        text-align: right;\n",
              "    }\n",
              "</style>\n",
              "<table border=\"1\" class=\"dataframe\">\n",
              "  <thead>\n",
              "    <tr style=\"text-align: right;\">\n",
              "      <th></th>\n",
              "      <th>Title</th>\n",
              "      <th>Headline</th>\n",
              "      <th>Textbody</th>\n",
              "    </tr>\n",
              "  </thead>\n",
              "  <tbody>\n",
              "    <tr>\n",
              "      <th>0</th>\n",
              "      <td>Brutális mértékben drágul a liba- és ka...</td>\n",
              "      <td>Majdnem duplájába kerül, mint tavaly. Drágább ...</td>\n",
              "      <td>Majdnem duplájába kerülhet a Márton-napi libas...</td>\n",
              "    </tr>\n",
              "    <tr>\n",
              "      <th>1</th>\n",
              "      <td>Két góllal vezetett a Bayern München, a...</td>\n",
              "      <td>Neuer kissé bizonytalanul jött ki az utolsó pe...</td>\n",
              "      <td>Nagyon úgy tűnt, hogy a Bayern München ismét l...</td>\n",
              "    </tr>\n",
              "    <tr>\n",
              "      <th>2</th>\n",
              "      <td>Antiszemita tartalom miatt korlátozták ...</td>\n",
              "      <td>A rapper P. Diddyről állította azt, hogy a hát...</td>\n",
              "      <td>Korlátozást rakott a Meta Kanye West Instagram...</td>\n",
              "    </tr>\n",
              "    <tr>\n",
              "      <th>3</th>\n",
              "      <td>Meghalt egy néző az ózdi ralin</td>\n",
              "      <td>Elsodorta az egyik autó.</td>\n",
              "      <td>Elsodortak egy nézőt a hétvégi ózdi ralin, és ...</td>\n",
              "    </tr>\n",
              "    <tr>\n",
              "      <th>4</th>\n",
              "      <td>Elbocsátanak háromszáz dolgozót a jakuz...</td>\n",
              "      <td>A cég szerint erőteljesen befagyott az európai...</td>\n",
              "      <td>Befagyott az európai medencepiac, decemberig h...</td>\n",
              "    </tr>\n",
              "    <tr>\n",
              "      <th>...</th>\n",
              "      <td>...</td>\n",
              "      <td>...</td>\n",
              "      <td>...</td>\n",
              "    </tr>\n",
              "    <tr>\n",
              "      <th>7133</th>\n",
              "      <td>Nyomozás indult a külügyminisztériumot ...</td>\n",
              "      <td>A Nemzeti Nyomozó Iroda a Direkt36 tényfeltáró...</td>\n",
              "      <td>A Nemzeti Nyomozó Iroda a Direkt36 tényfeltáró...</td>\n",
              "    </tr>\n",
              "    <tr>\n",
              "      <th>7134</th>\n",
              "      <td>Örökre lezárják az autósok előtt a pest...</td>\n",
              "      <td>Karácsony Gergely főpolgármester a választások...</td>\n",
              "      <td>„A pesti alsó rakpart tervezése során volt az ...</td>\n",
              "    </tr>\n",
              "    <tr>\n",
              "      <th>7135</th>\n",
              "      <td>Jogerős: Nem bizonyítható, hogy a Megol...</td>\n",
              "      <td>Így a párt nem sértette meg a törvényt, hiszen...</td>\n",
              "      <td>A Kúria megváltoztatta a Nemzeti Választási Bi...</td>\n",
              "    </tr>\n",
              "    <tr>\n",
              "      <th>7136</th>\n",
              "      <td>Két hétre leállt az oltási akció, mosta...</td>\n",
              "      <td>A kórházi oltópontok csak keddenként és péntek...</td>\n",
              "      <td>Április elején írtuk meg, hogy a friss napi ad...</td>\n",
              "    </tr>\n",
              "    <tr>\n",
              "      <th>7137</th>\n",
              "      <td>Öt évet kapott egy amerikai kriptovalut...</td>\n",
              "      <td>Az észak-koreai rezsim Virgil Griffith segítsé...</td>\n",
              "      <td>Öt év börtönre ítéltek egy amerikai kriptovalu...</td>\n",
              "    </tr>\n",
              "  </tbody>\n",
              "</table>\n",
              "<p>7138 rows × 3 columns</p>\n",
              "</div>\n",
              "      <button class=\"colab-df-convert\" onclick=\"convertToInteractive('df-26b7fada-45da-4589-8e5b-271c5483217f')\"\n",
              "              title=\"Convert this dataframe to an interactive table.\"\n",
              "              style=\"display:none;\">\n",
              "        \n",
              "  <svg xmlns=\"http://www.w3.org/2000/svg\" height=\"24px\"viewBox=\"0 0 24 24\"\n",
              "       width=\"24px\">\n",
              "    <path d=\"M0 0h24v24H0V0z\" fill=\"none\"/>\n",
              "    <path d=\"M18.56 5.44l.94 2.06.94-2.06 2.06-.94-2.06-.94-.94-2.06-.94 2.06-2.06.94zm-11 1L8.5 8.5l.94-2.06 2.06-.94-2.06-.94L8.5 2.5l-.94 2.06-2.06.94zm10 10l.94 2.06.94-2.06 2.06-.94-2.06-.94-.94-2.06-.94 2.06-2.06.94z\"/><path d=\"M17.41 7.96l-1.37-1.37c-.4-.4-.92-.59-1.43-.59-.52 0-1.04.2-1.43.59L10.3 9.45l-7.72 7.72c-.78.78-.78 2.05 0 2.83L4 21.41c.39.39.9.59 1.41.59.51 0 1.02-.2 1.41-.59l7.78-7.78 2.81-2.81c.8-.78.8-2.07 0-2.86zM5.41 20L4 18.59l7.72-7.72 1.47 1.35L5.41 20z\"/>\n",
              "  </svg>\n",
              "      </button>\n",
              "      \n",
              "  <style>\n",
              "    .colab-df-container {\n",
              "      display:flex;\n",
              "      flex-wrap:wrap;\n",
              "      gap: 12px;\n",
              "    }\n",
              "\n",
              "    .colab-df-convert {\n",
              "      background-color: #E8F0FE;\n",
              "      border: none;\n",
              "      border-radius: 50%;\n",
              "      cursor: pointer;\n",
              "      display: none;\n",
              "      fill: #1967D2;\n",
              "      height: 32px;\n",
              "      padding: 0 0 0 0;\n",
              "      width: 32px;\n",
              "    }\n",
              "\n",
              "    .colab-df-convert:hover {\n",
              "      background-color: #E2EBFA;\n",
              "      box-shadow: 0px 1px 2px rgba(60, 64, 67, 0.3), 0px 1px 3px 1px rgba(60, 64, 67, 0.15);\n",
              "      fill: #174EA6;\n",
              "    }\n",
              "\n",
              "    [theme=dark] .colab-df-convert {\n",
              "      background-color: #3B4455;\n",
              "      fill: #D2E3FC;\n",
              "    }\n",
              "\n",
              "    [theme=dark] .colab-df-convert:hover {\n",
              "      background-color: #434B5C;\n",
              "      box-shadow: 0px 1px 3px 1px rgba(0, 0, 0, 0.15);\n",
              "      filter: drop-shadow(0px 1px 2px rgba(0, 0, 0, 0.3));\n",
              "      fill: #FFFFFF;\n",
              "    }\n",
              "  </style>\n",
              "\n",
              "      <script>\n",
              "        const buttonEl =\n",
              "          document.querySelector('#df-26b7fada-45da-4589-8e5b-271c5483217f button.colab-df-convert');\n",
              "        buttonEl.style.display =\n",
              "          google.colab.kernel.accessAllowed ? 'block' : 'none';\n",
              "\n",
              "        async function convertToInteractive(key) {\n",
              "          const element = document.querySelector('#df-26b7fada-45da-4589-8e5b-271c5483217f');\n",
              "          const dataTable =\n",
              "            await google.colab.kernel.invokeFunction('convertToInteractive',\n",
              "                                                     [key], {});\n",
              "          if (!dataTable) return;\n",
              "\n",
              "          const docLinkHtml = 'Like what you see? Visit the ' +\n",
              "            '<a target=\"_blank\" href=https://colab.research.google.com/notebooks/data_table.ipynb>data table notebook</a>'\n",
              "            + ' to learn more about interactive tables.';\n",
              "          element.innerHTML = '';\n",
              "          dataTable['output_type'] = 'display_data';\n",
              "          await google.colab.output.renderOutput(dataTable, element);\n",
              "          const docLink = document.createElement('div');\n",
              "          docLink.innerHTML = docLinkHtml;\n",
              "          element.appendChild(docLink);\n",
              "        }\n",
              "      </script>\n",
              "    </div>\n",
              "  </div>\n",
              "  "
            ]
          },
          "metadata": {},
          "execution_count": 13
        }
      ],
      "source": [
        "# replacing \\n and \\t characters\n",
        "\n",
        "df = df_orig.astype(str)\n",
        "\n",
        "df = df.apply(lambda x: x.replace('\\n', \" \", regex=True).replace('\\t', \" \", regex=True))\n",
        "\n",
        "\n",
        "# dropping articles based on their length in tokens (words)\n",
        "\n",
        "bad_length_indexes = []\n",
        "\n",
        "for index, row in df.iterrows():\n",
        "  if len(row['Textbody'].split(\" \")) < 10 or len(row['Textbody'].split(\" \")) > 500:\n",
        "    bad_length_indexes.append(index)\n",
        "\n",
        "\n",
        "df = df.drop(bad_length_indexes)\n",
        "\n",
        "df = df.reset_index(drop=True)\n",
        "df"
      ]
    },
    {
      "cell_type": "code",
      "execution_count": 14,
      "metadata": {
        "colab": {
          "base_uri": "https://localhost:8080/"
        },
        "id": "d7VQVL0JJXG_",
        "outputId": "8d065b6b-f838-413d-b6cc-5f1150ad7e40"
      },
      "outputs": [
        {
          "output_type": "stream",
          "name": "stdout",
          "text": [
            "Looking in indexes: https://pypi.org/simple, https://us-python.pkg.dev/colab-wheels/public/simple/\n",
            "Collecting fasttext\n",
            "  Downloading fasttext-0.9.2.tar.gz (68 kB)\n",
            "\u001b[K     |████████████████████████████████| 68 kB 3.1 MB/s \n",
            "\u001b[?25hCollecting pybind11>=2.2\n",
            "  Using cached pybind11-2.10.0-py3-none-any.whl (213 kB)\n",
            "Requirement already satisfied: setuptools>=0.7.0 in /usr/local/lib/python3.7/dist-packages (from fasttext) (57.4.0)\n",
            "Requirement already satisfied: numpy in /usr/local/lib/python3.7/dist-packages (from fasttext) (1.21.6)\n",
            "Building wheels for collected packages: fasttext\n",
            "  Building wheel for fasttext (setup.py) ... \u001b[?25l\u001b[?25hdone\n",
            "  Created wheel for fasttext: filename=fasttext-0.9.2-cp37-cp37m-linux_x86_64.whl size=3165310 sha256=2bfb40af9a74b7d50c872bcac8835c9ba1220c58b2f5e280776bda4de2e3f45f\n",
            "  Stored in directory: /root/.cache/pip/wheels/4e/ca/bf/b020d2be95f7641801a6597a29c8f4f19e38f9c02a345bab9b\n",
            "Successfully built fasttext\n",
            "Installing collected packages: pybind11, fasttext\n",
            "Successfully installed fasttext-0.9.2 pybind11-2.10.0\n"
          ]
        }
      ],
      "source": [
        "!pip install fasttext"
      ]
    },
    {
      "cell_type": "code",
      "execution_count": 15,
      "metadata": {
        "colab": {
          "base_uri": "https://localhost:8080/",
          "height": 441
        },
        "id": "mCZFYRdSIjGU",
        "outputId": "18efef34-910c-4c2d-ba32-83b2a6f80ca1"
      },
      "outputs": [
        {
          "output_type": "stream",
          "name": "stderr",
          "text": [
            "Warning : `load_model` does not return WordVectorModel or SupervisedModel any more, but a `FastText` object which is very similar.\n"
          ]
        },
        {
          "output_type": "execute_result",
          "data": {
            "text/plain": [
              "                                                  Title  \\\n",
              "0            Brutális mértékben drágul a liba- és ka...   \n",
              "1            Két góllal vezetett a Bayern München, a...   \n",
              "2            Antiszemita tartalom miatt korlátozták ...   \n",
              "3                   Meghalt egy néző az ózdi ralin        \n",
              "4            Elbocsátanak háromszáz dolgozót a jakuz...   \n",
              "...                                                 ...   \n",
              "7039         Nyomozás indult a külügyminisztériumot ...   \n",
              "7040         Örökre lezárják az autósok előtt a pest...   \n",
              "7041         Jogerős: Nem bizonyítható, hogy a Megol...   \n",
              "7042         Két hétre leállt az oltási akció, mosta...   \n",
              "7043         Öt évet kapott egy amerikai kriptovalut...   \n",
              "\n",
              "                                               Headline  \\\n",
              "0     Majdnem duplájába kerül, mint tavaly. Drágább ...   \n",
              "1     Neuer kissé bizonytalanul jött ki az utolsó pe...   \n",
              "2     A rapper P. Diddyről állította azt, hogy a hát...   \n",
              "3                              Elsodorta az egyik autó.   \n",
              "4     A cég szerint erőteljesen befagyott az európai...   \n",
              "...                                                 ...   \n",
              "7039  A Nemzeti Nyomozó Iroda a Direkt36 tényfeltáró...   \n",
              "7040  Karácsony Gergely főpolgármester a választások...   \n",
              "7041  Így a párt nem sértette meg a törvényt, hiszen...   \n",
              "7042  A kórházi oltópontok csak keddenként és péntek...   \n",
              "7043  Az észak-koreai rezsim Virgil Griffith segítsé...   \n",
              "\n",
              "                                               Textbody  \n",
              "0     Majdnem duplájába kerülhet a Márton-napi libas...  \n",
              "1     Nagyon úgy tűnt, hogy a Bayern München ismét l...  \n",
              "2     Korlátozást rakott a Meta Kanye West Instagram...  \n",
              "3     Elsodortak egy nézőt a hétvégi ózdi ralin, és ...  \n",
              "4     Befagyott az európai medencepiac, decemberig h...  \n",
              "...                                                 ...  \n",
              "7039  A Nemzeti Nyomozó Iroda a Direkt36 tényfeltáró...  \n",
              "7040  „A pesti alsó rakpart tervezése során volt az ...  \n",
              "7041  A Kúria megváltoztatta a Nemzeti Választási Bi...  \n",
              "7042  Április elején írtuk meg, hogy a friss napi ad...  \n",
              "7043  Öt év börtönre ítéltek egy amerikai kriptovalu...  \n",
              "\n",
              "[7044 rows x 3 columns]"
            ],
            "text/html": [
              "\n",
              "  <div id=\"df-3304d34c-3977-4814-88e2-ce8e33b02c06\">\n",
              "    <div class=\"colab-df-container\">\n",
              "      <div>\n",
              "<style scoped>\n",
              "    .dataframe tbody tr th:only-of-type {\n",
              "        vertical-align: middle;\n",
              "    }\n",
              "\n",
              "    .dataframe tbody tr th {\n",
              "        vertical-align: top;\n",
              "    }\n",
              "\n",
              "    .dataframe thead th {\n",
              "        text-align: right;\n",
              "    }\n",
              "</style>\n",
              "<table border=\"1\" class=\"dataframe\">\n",
              "  <thead>\n",
              "    <tr style=\"text-align: right;\">\n",
              "      <th></th>\n",
              "      <th>Title</th>\n",
              "      <th>Headline</th>\n",
              "      <th>Textbody</th>\n",
              "    </tr>\n",
              "  </thead>\n",
              "  <tbody>\n",
              "    <tr>\n",
              "      <th>0</th>\n",
              "      <td>Brutális mértékben drágul a liba- és ka...</td>\n",
              "      <td>Majdnem duplájába kerül, mint tavaly. Drágább ...</td>\n",
              "      <td>Majdnem duplájába kerülhet a Márton-napi libas...</td>\n",
              "    </tr>\n",
              "    <tr>\n",
              "      <th>1</th>\n",
              "      <td>Két góllal vezetett a Bayern München, a...</td>\n",
              "      <td>Neuer kissé bizonytalanul jött ki az utolsó pe...</td>\n",
              "      <td>Nagyon úgy tűnt, hogy a Bayern München ismét l...</td>\n",
              "    </tr>\n",
              "    <tr>\n",
              "      <th>2</th>\n",
              "      <td>Antiszemita tartalom miatt korlátozták ...</td>\n",
              "      <td>A rapper P. Diddyről állította azt, hogy a hát...</td>\n",
              "      <td>Korlátozást rakott a Meta Kanye West Instagram...</td>\n",
              "    </tr>\n",
              "    <tr>\n",
              "      <th>3</th>\n",
              "      <td>Meghalt egy néző az ózdi ralin</td>\n",
              "      <td>Elsodorta az egyik autó.</td>\n",
              "      <td>Elsodortak egy nézőt a hétvégi ózdi ralin, és ...</td>\n",
              "    </tr>\n",
              "    <tr>\n",
              "      <th>4</th>\n",
              "      <td>Elbocsátanak háromszáz dolgozót a jakuz...</td>\n",
              "      <td>A cég szerint erőteljesen befagyott az európai...</td>\n",
              "      <td>Befagyott az európai medencepiac, decemberig h...</td>\n",
              "    </tr>\n",
              "    <tr>\n",
              "      <th>...</th>\n",
              "      <td>...</td>\n",
              "      <td>...</td>\n",
              "      <td>...</td>\n",
              "    </tr>\n",
              "    <tr>\n",
              "      <th>7039</th>\n",
              "      <td>Nyomozás indult a külügyminisztériumot ...</td>\n",
              "      <td>A Nemzeti Nyomozó Iroda a Direkt36 tényfeltáró...</td>\n",
              "      <td>A Nemzeti Nyomozó Iroda a Direkt36 tényfeltáró...</td>\n",
              "    </tr>\n",
              "    <tr>\n",
              "      <th>7040</th>\n",
              "      <td>Örökre lezárják az autósok előtt a pest...</td>\n",
              "      <td>Karácsony Gergely főpolgármester a választások...</td>\n",
              "      <td>„A pesti alsó rakpart tervezése során volt az ...</td>\n",
              "    </tr>\n",
              "    <tr>\n",
              "      <th>7041</th>\n",
              "      <td>Jogerős: Nem bizonyítható, hogy a Megol...</td>\n",
              "      <td>Így a párt nem sértette meg a törvényt, hiszen...</td>\n",
              "      <td>A Kúria megváltoztatta a Nemzeti Választási Bi...</td>\n",
              "    </tr>\n",
              "    <tr>\n",
              "      <th>7042</th>\n",
              "      <td>Két hétre leállt az oltási akció, mosta...</td>\n",
              "      <td>A kórházi oltópontok csak keddenként és péntek...</td>\n",
              "      <td>Április elején írtuk meg, hogy a friss napi ad...</td>\n",
              "    </tr>\n",
              "    <tr>\n",
              "      <th>7043</th>\n",
              "      <td>Öt évet kapott egy amerikai kriptovalut...</td>\n",
              "      <td>Az észak-koreai rezsim Virgil Griffith segítsé...</td>\n",
              "      <td>Öt év börtönre ítéltek egy amerikai kriptovalu...</td>\n",
              "    </tr>\n",
              "  </tbody>\n",
              "</table>\n",
              "<p>7044 rows × 3 columns</p>\n",
              "</div>\n",
              "      <button class=\"colab-df-convert\" onclick=\"convertToInteractive('df-3304d34c-3977-4814-88e2-ce8e33b02c06')\"\n",
              "              title=\"Convert this dataframe to an interactive table.\"\n",
              "              style=\"display:none;\">\n",
              "        \n",
              "  <svg xmlns=\"http://www.w3.org/2000/svg\" height=\"24px\"viewBox=\"0 0 24 24\"\n",
              "       width=\"24px\">\n",
              "    <path d=\"M0 0h24v24H0V0z\" fill=\"none\"/>\n",
              "    <path d=\"M18.56 5.44l.94 2.06.94-2.06 2.06-.94-2.06-.94-.94-2.06-.94 2.06-2.06.94zm-11 1L8.5 8.5l.94-2.06 2.06-.94-2.06-.94L8.5 2.5l-.94 2.06-2.06.94zm10 10l.94 2.06.94-2.06 2.06-.94-2.06-.94-.94-2.06-.94 2.06-2.06.94z\"/><path d=\"M17.41 7.96l-1.37-1.37c-.4-.4-.92-.59-1.43-.59-.52 0-1.04.2-1.43.59L10.3 9.45l-7.72 7.72c-.78.78-.78 2.05 0 2.83L4 21.41c.39.39.9.59 1.41.59.51 0 1.02-.2 1.41-.59l7.78-7.78 2.81-2.81c.8-.78.8-2.07 0-2.86zM5.41 20L4 18.59l7.72-7.72 1.47 1.35L5.41 20z\"/>\n",
              "  </svg>\n",
              "      </button>\n",
              "      \n",
              "  <style>\n",
              "    .colab-df-container {\n",
              "      display:flex;\n",
              "      flex-wrap:wrap;\n",
              "      gap: 12px;\n",
              "    }\n",
              "\n",
              "    .colab-df-convert {\n",
              "      background-color: #E8F0FE;\n",
              "      border: none;\n",
              "      border-radius: 50%;\n",
              "      cursor: pointer;\n",
              "      display: none;\n",
              "      fill: #1967D2;\n",
              "      height: 32px;\n",
              "      padding: 0 0 0 0;\n",
              "      width: 32px;\n",
              "    }\n",
              "\n",
              "    .colab-df-convert:hover {\n",
              "      background-color: #E2EBFA;\n",
              "      box-shadow: 0px 1px 2px rgba(60, 64, 67, 0.3), 0px 1px 3px 1px rgba(60, 64, 67, 0.15);\n",
              "      fill: #174EA6;\n",
              "    }\n",
              "\n",
              "    [theme=dark] .colab-df-convert {\n",
              "      background-color: #3B4455;\n",
              "      fill: #D2E3FC;\n",
              "    }\n",
              "\n",
              "    [theme=dark] .colab-df-convert:hover {\n",
              "      background-color: #434B5C;\n",
              "      box-shadow: 0px 1px 3px 1px rgba(0, 0, 0, 0.15);\n",
              "      filter: drop-shadow(0px 1px 2px rgba(0, 0, 0, 0.3));\n",
              "      fill: #FFFFFF;\n",
              "    }\n",
              "  </style>\n",
              "\n",
              "      <script>\n",
              "        const buttonEl =\n",
              "          document.querySelector('#df-3304d34c-3977-4814-88e2-ce8e33b02c06 button.colab-df-convert');\n",
              "        buttonEl.style.display =\n",
              "          google.colab.kernel.accessAllowed ? 'block' : 'none';\n",
              "\n",
              "        async function convertToInteractive(key) {\n",
              "          const element = document.querySelector('#df-3304d34c-3977-4814-88e2-ce8e33b02c06');\n",
              "          const dataTable =\n",
              "            await google.colab.kernel.invokeFunction('convertToInteractive',\n",
              "                                                     [key], {});\n",
              "          if (!dataTable) return;\n",
              "\n",
              "          const docLinkHtml = 'Like what you see? Visit the ' +\n",
              "            '<a target=\"_blank\" href=https://colab.research.google.com/notebooks/data_table.ipynb>data table notebook</a>'\n",
              "            + ' to learn more about interactive tables.';\n",
              "          element.innerHTML = '';\n",
              "          dataTable['output_type'] = 'display_data';\n",
              "          await google.colab.output.renderOutput(dataTable, element);\n",
              "          const docLink = document.createElement('div');\n",
              "          docLink.innerHTML = docLinkHtml;\n",
              "          element.appendChild(docLink);\n",
              "        }\n",
              "      </script>\n",
              "    </div>\n",
              "  </div>\n",
              "  "
            ]
          },
          "metadata": {},
          "execution_count": 15
        }
      ],
      "source": [
        "# Language detection using FastText: if not Hungarian, we drop it\n",
        "\n",
        "import fasttext as ft\n",
        "\n",
        "# fasttext model\n",
        "# download and upload this manually or use Google Drive since github can only store up to 100 MB:\n",
        "# https://dl.fbaipublicfiles.com/fasttext/supervised-models/lid.176.bin\n",
        "\n",
        "try:\n",
        "  ft_model = ft.load_model(\"/content/drive/MyDrive/HGT/lid.176.bin\")\n",
        "except:\n",
        "  raise ValueError(\"Upload it to Google Drive and mount it or upload it here!\")\n",
        "\n",
        "\n",
        "not_hun_indexes = []\n",
        "check_manually_indexes = []\n",
        "\n",
        "for index, row in df.iterrows():\n",
        "  try:\n",
        "    lang = ft_model.predict([row['Textbody']])\n",
        "    if lang[0][0][0] != '__label__hu':\n",
        "      not_hun_indexes.append(index)\n",
        "  except:\n",
        "    # manual checking\n",
        "    check_manually_indexes.append(index)\n",
        "    \n",
        "df = df.drop(not_hun_indexes)\n",
        "\n",
        "df = df.reset_index(drop=True)\n",
        "df   \n",
        "\n"
      ]
    },
    {
      "cell_type": "code",
      "execution_count": 16,
      "metadata": {
        "id": "Bo_jA23Tgjm9",
        "outputId": "19187d43-e5f8-47d9-de06-0eba45b8a84f",
        "colab": {
          "base_uri": "https://localhost:8080/"
        }
      },
      "outputs": [
        {
          "output_type": "execute_result",
          "data": {
            "text/plain": [
              "[]"
            ]
          },
          "metadata": {},
          "execution_count": 16
        }
      ],
      "source": [
        "check_manually_indexes"
      ]
    },
    {
      "cell_type": "code",
      "source": [
        "df.to_csv(\"cikkek_10k_cleanedv1.csv\", index=False)"
      ],
      "metadata": {
        "id": "68OTObyFsB4n"
      },
      "execution_count": 17,
      "outputs": []
    },
    {
      "cell_type": "markdown",
      "source": [
        "# Modeling"
      ],
      "metadata": {
        "id": "EeHHrUUWsTOC"
      }
    },
    {
      "cell_type": "code",
      "source": [],
      "metadata": {
        "id": "flkqS3gTsUUk"
      },
      "execution_count": null,
      "outputs": []
    }
  ],
  "metadata": {
    "colab": {
      "provenance": []
    },
    "kernelspec": {
      "display_name": "Python 3",
      "name": "python3"
    },
    "language_info": {
      "name": "python"
    }
  },
  "nbformat": 4,
  "nbformat_minor": 0
}