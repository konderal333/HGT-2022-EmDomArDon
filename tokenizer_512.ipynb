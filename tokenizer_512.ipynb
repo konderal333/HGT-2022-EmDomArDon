{
  "cells": [
    {
      "cell_type": "markdown",
      "metadata": {
        "id": "view-in-github",
        "colab_type": "text"
      },
      "source": [
        "<a href=\"https://colab.research.google.com/github/konderal333/HGT-2022-EmDomArDon/blob/main/tokenizer_512.ipynb\" target=\"_parent\"><img src=\"https://colab.research.google.com/assets/colab-badge.svg\" alt=\"Open In Colab\"/></a>"
      ]
    },
    {
      "cell_type": "code",
      "execution_count": 5,
      "metadata": {
        "colab": {
          "base_uri": "https://localhost:8080/"
        },
        "id": "KSSeUy0jDrE0",
        "outputId": "1acab463-e327-4eda-cc58-1d202b6a037e"
      },
      "outputs": [
        {
          "output_type": "stream",
          "name": "stdout",
          "text": [
            "fatal: destination path 'HGT-2022-EmDomArDon' already exists and is not an empty directory.\n"
          ]
        }
      ],
      "source": [
        "!git clone https://github.com/konderal333/HGT-2022-EmDomArDon.git"
      ]
    },
    {
      "cell_type": "code",
      "execution_count": 6,
      "metadata": {
        "id": "tDearm8ED8r-"
      },
      "outputs": [],
      "source": [
        "import numpy as np\n",
        "import pandas as pd"
      ]
    },
    {
      "cell_type": "code",
      "execution_count": 7,
      "metadata": {
        "id": "4_lLNmBlD9Jm"
      },
      "outputs": [],
      "source": [
        "df = pd.read_csv(\"/content/HGT-2022-EmDomArDon/cikkek_10k_cleanedv1.csv\")"
      ]
    },
    {
      "cell_type": "code",
      "execution_count": 8,
      "metadata": {
        "colab": {
          "base_uri": "https://localhost:8080/"
        },
        "id": "NgsIN-L0D-12",
        "outputId": "065a3b2a-5936-4b77-acf6-10f10c756c59"
      },
      "outputs": [
        {
          "output_type": "stream",
          "name": "stdout",
          "text": [
            "Looking in indexes: https://pypi.org/simple, https://us-python.pkg.dev/colab-wheels/public/simple/\n",
            "Requirement already satisfied: transformers in /usr/local/lib/python3.7/dist-packages (4.24.0)\n",
            "Requirement already satisfied: importlib-metadata in /usr/local/lib/python3.7/dist-packages (from transformers) (4.13.0)\n",
            "Requirement already satisfied: packaging>=20.0 in /usr/local/lib/python3.7/dist-packages (from transformers) (21.3)\n",
            "Requirement already satisfied: filelock in /usr/local/lib/python3.7/dist-packages (from transformers) (3.8.0)\n",
            "Requirement already satisfied: pyyaml>=5.1 in /usr/local/lib/python3.7/dist-packages (from transformers) (6.0)\n",
            "Requirement already satisfied: tokenizers!=0.11.3,<0.14,>=0.11.1 in /usr/local/lib/python3.7/dist-packages (from transformers) (0.13.2)\n",
            "Requirement already satisfied: regex!=2019.12.17 in /usr/local/lib/python3.7/dist-packages (from transformers) (2022.6.2)\n",
            "Requirement already satisfied: tqdm>=4.27 in /usr/local/lib/python3.7/dist-packages (from transformers) (4.64.1)\n",
            "Requirement already satisfied: numpy>=1.17 in /usr/local/lib/python3.7/dist-packages (from transformers) (1.21.6)\n",
            "Requirement already satisfied: requests in /usr/local/lib/python3.7/dist-packages (from transformers) (2.23.0)\n",
            "Requirement already satisfied: huggingface-hub<1.0,>=0.10.0 in /usr/local/lib/python3.7/dist-packages (from transformers) (0.11.0)\n",
            "Requirement already satisfied: typing-extensions>=3.7.4.3 in /usr/local/lib/python3.7/dist-packages (from huggingface-hub<1.0,>=0.10.0->transformers) (4.1.1)\n",
            "Requirement already satisfied: pyparsing!=3.0.5,>=2.0.2 in /usr/local/lib/python3.7/dist-packages (from packaging>=20.0->transformers) (3.0.9)\n",
            "Requirement already satisfied: zipp>=0.5 in /usr/local/lib/python3.7/dist-packages (from importlib-metadata->transformers) (3.10.0)\n",
            "Requirement already satisfied: urllib3!=1.25.0,!=1.25.1,<1.26,>=1.21.1 in /usr/local/lib/python3.7/dist-packages (from requests->transformers) (1.24.3)\n",
            "Requirement already satisfied: idna<3,>=2.5 in /usr/local/lib/python3.7/dist-packages (from requests->transformers) (2.10)\n",
            "Requirement already satisfied: chardet<4,>=3.0.2 in /usr/local/lib/python3.7/dist-packages (from requests->transformers) (3.0.4)\n",
            "Requirement already satisfied: certifi>=2017.4.17 in /usr/local/lib/python3.7/dist-packages (from requests->transformers) (2022.9.24)\n"
          ]
        }
      ],
      "source": [
        "!pip install transformers"
      ]
    },
    {
      "cell_type": "code",
      "execution_count": 9,
      "metadata": {
        "id": "GgFyGm-_EA42"
      },
      "outputs": [],
      "source": [
        "from transformers import AutoTokenizer, AutoModel"
      ]
    },
    {
      "cell_type": "code",
      "execution_count": 10,
      "metadata": {
        "colab": {
          "base_uri": "https://localhost:8080/"
        },
        "id": "Ue9POCzNEHQ0",
        "outputId": "4749c0e8-b0ba-436d-b1db-3a5d1b380ba6"
      },
      "outputs": [
        {
          "output_type": "stream",
          "name": "stderr",
          "text": [
            "Some weights of the model checkpoint at SZTAKI-HLT/hubert-base-cc were not used when initializing BertModel: ['cls.predictions.bias', 'cls.predictions.transform.dense.weight', 'cls.predictions.transform.dense.bias', 'cls.predictions.decoder.bias', 'cls.seq_relationship.bias', 'cls.predictions.transform.LayerNorm.bias', 'cls.predictions.transform.LayerNorm.weight', 'cls.predictions.decoder.weight', 'cls.seq_relationship.weight']\n",
            "- This IS expected if you are initializing BertModel from the checkpoint of a model trained on another task or with another architecture (e.g. initializing a BertForSequenceClassification model from a BertForPreTraining model).\n",
            "- This IS NOT expected if you are initializing BertModel from the checkpoint of a model that you expect to be exactly identical (initializing a BertForSequenceClassification model from a BertForSequenceClassification model).\n"
          ]
        }
      ],
      "source": [
        "tokenizer = AutoTokenizer.from_pretrained(\"SZTAKI-HLT/hubert-base-cc\")\n",
        "model = AutoModel.from_pretrained(\"SZTAKI-HLT/hubert-base-cc\")"
      ]
    },
    {
      "cell_type": "code",
      "execution_count": 11,
      "metadata": {
        "colab": {
          "base_uri": "https://localhost:8080/"
        },
        "id": "KWiFDQLVEHs0",
        "outputId": "c816d7ea-7deb-4f33-d296-15f6b8daa2f9"
      },
      "outputs": [
        {
          "output_type": "stream",
          "name": "stdout",
          "text": [
            "Looking in indexes: https://pypi.org/simple, https://us-python.pkg.dev/colab-wheels/public/simple/\n",
            "Requirement already satisfied: quntoken in /usr/local/lib/python3.7/dist-packages (3.1.8)\n"
          ]
        }
      ],
      "source": [
        "!pip install quntoken\n",
        "from quntoken import tokenize   #module to break text into sentences"
      ]
    },
    {
      "cell_type": "code",
      "execution_count": 12,
      "metadata": {
        "colab": {
          "base_uri": "https://localhost:8080/"
        },
        "id": "yNnjgwweEVpV",
        "outputId": "92b5dc4f-b0ee-4bb2-823f-e5263830eff1"
      },
      "outputs": [
        {
          "output_type": "stream",
          "name": "stderr",
          "text": [
            "[nltk_data] Downloading package punkt to /root/nltk_data...\n",
            "[nltk_data]   Package punkt is already up-to-date!\n"
          ]
        },
        {
          "output_type": "execute_result",
          "data": {
            "text/plain": [
              "True"
            ]
          },
          "metadata": {},
          "execution_count": 12
        }
      ],
      "source": [
        "import re\n",
        "import nltk\n",
        "nltk.download('punkt')"
      ]
    },
    {
      "cell_type": "markdown",
      "metadata": {
        "id": "R-mtv2RDSrsB"
      },
      "source": [
        "<p>Method to reduce the length of sentences with more than 510 tokens:\n",
        "<p>We get the first few whole sentences until we reach 255 tokens. (Let us assume that we get n tokens from these sentences, where n&#60;255). Then we get the last few whole sentences until these reach the remaining limit of tokens (510-n).\n",
        "<p>So with this method we reduce the longer articles to 510 tokens (or a bit less than 510), so that we get the beginning and the end of the article."
      ]
    },
    {
      "cell_type": "code",
      "execution_count": 13,
      "metadata": {
        "id": "DPPAVum781B-"
      },
      "outputs": [],
      "source": [
        "def text_to_token_list(art_title, x):      \n",
        "  token_list = []\n",
        "\n",
        "  x = re.sub(r\"(\\.)([A-Z])\", r'\\1 \\2', x) # fixes missings whitespaces between sentences\n",
        " \n",
        "  for sen in nltk.tokenize.sent_tokenize(x):\n",
        "    token_list.append(tokenizer.tokenize(sen))\n",
        "\n",
        "  return token_list"
      ]
    },
    {
      "cell_type": "code",
      "execution_count": 14,
      "metadata": {
        "id": "Q3rAijD680_n"
      },
      "outputs": [],
      "source": [
        "dict_of_tokens = {} \n",
        "#this dict will contain the article title as keys and the tokenized lists from the function below as values\n",
        "\n",
        "def text_to_tokens(art_title, x):      \n",
        "  #insert the text to tokenize; first breaks text into sentences, then makes a list of lists with the i-th element being the tokenization of the i-th sentence\n",
        "  #dictionary is being used for faster computation and easier accessibility\n",
        "  sentence_list = []\n",
        "  token_list = []\n",
        "\n",
        "  x = re.sub(r\"(\\.)([A-Z])\", r'\\1 \\2', x) # fixes missings whitespaces between sentences\n",
        "\n",
        "  a = text_to_token_list(art_title, x)\n",
        "  len1 = 0\n",
        "  for i in a:\n",
        "    for j in i:\n",
        "      len1 +=1\n",
        "\n",
        "  #if the text is > 510 tokens, we will get the first few whole sentences (~255 tokens), and the last few whole sentences (~255 tokens)\n",
        "  if len1 > 510:\n",
        "    eleje_sum = 0\n",
        "    eleje_tokens = []\n",
        "    for elem1 in a:\n",
        "      if eleje_sum + len(elem1) > 255:\n",
        "        break\n",
        "      else:\n",
        "        eleje_sum += len(elem1)\n",
        "        eleje_tokens.append(elem1)\n",
        "\n",
        "    vege_sum = 0\n",
        "    vege_tokens = []\n",
        "    a.reverse()\n",
        "    for elem2 in a:\n",
        "      if vege_sum + len(elem2) > 510-eleje_sum:\n",
        "        break\n",
        "      else:\n",
        "        vege_sum += len(elem2)\n",
        "        vege_tokens.append(elem2)\n",
        "\n",
        "    vege_tokens.reverse()\n",
        "\n",
        "    final_tokens = []\n",
        "    for elem3 in eleje_tokens:\n",
        "      final_tokens.append(elem3)\n",
        "    for elem4 in vege_tokens:\n",
        "      final_tokens.append(elem4)\n",
        "\n",
        "    dict_of_tokens[art_title] = final_tokens\n",
        "\n",
        "  #if the text is < 510 tokens, we do not have to get the beginning and the end, we can use the whole text\n",
        "  else:\n",
        "    for sen in nltk.tokenize.sent_tokenize(x):\n",
        "      sentence_list.append(sen)\n",
        "      token_list.append(tokenizer.tokenize(sen))\n",
        "\n",
        "    dict_of_tokens[art_title] = token_list"
      ]
    },
    {
      "cell_type": "code",
      "execution_count": 15,
      "metadata": {
        "id": "lKPzoUMQFR1U"
      },
      "outputs": [],
      "source": [
        "# making the BERT tokenized sentences from each article\n",
        "\n",
        "for i in range(len(df.Title)):\n",
        "  text_to_tokens(df.Title[i].strip(), df.Textbody[i])"
      ]
    },
    {
      "cell_type": "code",
      "execution_count": 16,
      "metadata": {
        "id": "RKs_y_INE4tk"
      },
      "outputs": [],
      "source": [
        "import matplotlib.pyplot as plt\n",
        "import statistics\n",
        "\n",
        "number_of_tokens_all = []\n",
        "\n",
        "for tokens in dict_of_tokens.values():\n",
        "  length = 0\n",
        "  for lists in tokens:\n",
        "    length += len(lists)\n",
        "  number_of_tokens_all.append(length)"
      ]
    },
    {
      "cell_type": "code",
      "execution_count": 17,
      "metadata": {
        "colab": {
          "base_uri": "https://localhost:8080/",
          "height": 281
        },
        "id": "SouF0fzoJBaS",
        "outputId": "64f211ef-a45f-4559-b077-894d2355dc95"
      },
      "outputs": [
        {
          "output_type": "display_data",
          "data": {
            "text/plain": [
              "<Figure size 432x288 with 1 Axes>"
            ],
            "image/png": "[encoded data removed]"
          },
          "metadata": {
            "needs_background": "light"
          }
        }
      ],
      "source": [
        "plt.hist(number_of_tokens_all, bins=100, density=False)\n",
        "plt.title('Distribution of number of tokens generated from articles')\n",
        "plt.show()"
      ]
    },
    {
      "cell_type": "code",
      "execution_count": 18,
      "metadata": {
        "colab": {
          "base_uri": "https://localhost:8080/"
        },
        "id": "qoCOHObVJD3A",
        "outputId": "047db425-6f34-4597-aa3d-7963a738c850"
      },
      "outputs": [
        {
          "output_type": "stream",
          "name": "stdout",
          "text": [
            "0\n"
          ]
        }
      ],
      "source": [
        "# number of articles with tokens more that 510:\n",
        "print(np.sum(np.asarray(number_of_tokens_all) > 510))"
      ]
    },
    {
      "cell_type": "markdown",
      "source": [
        "\n",
        "\n",
        "---\n",
        "\n"
      ],
      "metadata": {
        "id": "lbW1C2NtJIvx"
      }
    },
    {
      "cell_type": "markdown",
      "source": [
        "This is another method, which we won't use, but I'll leave the code here."
      ],
      "metadata": {
        "id": "BRnUMbUcL48U"
      }
    },
    {
      "cell_type": "markdown",
      "source": [
        "510 token (or a bit less according to where the last sentence ends) from the **BEGINNING** of the articles"
      ],
      "metadata": {
        "id": "Ohvxhvf0JF67"
      }
    },
    {
      "cell_type": "code",
      "source": [
        "dict_of_tokens2 = {} \n",
        "#this dict will contain the article title as keys and the tokenized lists from the function below as values\n",
        "\n",
        "def text_to_tokens2(art_title, x):      \n",
        "  #insert the text to tokenize; first breaks text into sentences, then makes a list of lists with the i-th element being the tokenization of the i-th sentence\n",
        "  #dictionary is being used for faster computation and easier accessibility\n",
        "  sentence_list = []\n",
        "  token_list = []\n",
        "\n",
        "  x = re.sub(r\"(\\.)([A-Z])\", r'\\1 \\2', x) # fixes missings whitespaces between sentences\n",
        " \n",
        "  for sen in nltk.tokenize.sent_tokenize(x):\n",
        "    # a is the same as token_list, but we need a different variable than token_list to check\n",
        "    # whether the length will be longer than 510 tokens if we add another sentence or not\n",
        "    a = []\n",
        "\n",
        "    for elem in token_list:\n",
        "      a.append(elem)\n",
        "    a.append(tokenizer.tokenize(sen))\n",
        "\n",
        "    # b is the number of tokens in a\n",
        "    b = 0\n",
        "    for i in a:\n",
        "      for j in i:\n",
        "        b += 1\n",
        "\n",
        "    #now we check whether adding another sentence will result in more than 510 tokens\n",
        "    if b > 510:\n",
        "      break\n",
        "    else:\n",
        "      sentence_list.append(sen)\n",
        "      token_list.append(tokenizer.tokenize(sen))\n",
        "\n",
        "  dict_of_tokens2[art_title] = token_list"
      ],
      "metadata": {
        "id": "mDTCDBiPJFYe"
      },
      "execution_count": 19,
      "outputs": []
    },
    {
      "cell_type": "code",
      "source": [
        "# making the BERT tokenized sentences from each article\n",
        "\n",
        "for i in range(len(df.Title)):\n",
        "  text_to_tokens2(df.Title[i].strip(), df.Textbody[i])"
      ],
      "metadata": {
        "id": "va3EwTRwJTqZ"
      },
      "execution_count": 20,
      "outputs": []
    },
    {
      "cell_type": "code",
      "source": [
        "import matplotlib.pyplot as plt\n",
        "import statistics\n",
        "\n",
        "number_of_tokens_all2 = []\n",
        "\n",
        "for tokens in dict_of_tokens2.values():\n",
        "  length = 0\n",
        "  for lists in tokens:\n",
        "    length += len(lists)\n",
        "  number_of_tokens_all2.append(length)"
      ],
      "metadata": {
        "id": "hR4JRA90JToS"
      },
      "execution_count": 21,
      "outputs": []
    },
    {
      "cell_type": "code",
      "source": [
        "plt.hist(number_of_tokens_all2, bins=100, density=False)\n",
        "plt.title('Distribution of number of tokens generated from articles')\n",
        "plt.show()"
      ],
      "metadata": {
        "id": "AVxxLJ5uJTlf",
        "colab": {
          "base_uri": "https://localhost:8080/",
          "height": 281
        },
        "outputId": "aa69a1c1-0173-48ef-9ff7-68c0633beb4e"
      },
      "execution_count": 22,
      "outputs": [
        {
          "output_type": "display_data",
          "data": {
            "text/plain": [
              "<Figure size 432x288 with 1 Axes>"
            ],
            "image/png": "[encoded data removed]"
          },
          "metadata": {
            "needs_background": "light"
          }
        }
      ]
    },
    {
      "cell_type": "code",
      "source": [
        "# number of articles with tokens more that 510:\n",
        "print(np.sum(np.asarray(number_of_tokens_all2) > 510))"
      ],
      "metadata": {
        "id": "T7QxQGAMJijc",
        "colab": {
          "base_uri": "https://localhost:8080/"
        },
        "outputId": "57ef140a-1d30-4c6a-b9e4-f2c6201dcf02"
      },
      "execution_count": 23,
      "outputs": [
        {
          "output_type": "stream",
          "name": "stdout",
          "text": [
            "0\n"
          ]
        }
      ]
    }
  ],
  "metadata": {
    "colab": {
      "provenance": [],
      "authorship_tag": "ABX9TyO8yAkllQfpX/grfmmASjp/",
      "include_colab_link": true
    },
    "kernelspec": {
      "display_name": "Python 3",
      "name": "python3"
    },
    "language_info": {
      "name": "python"
    }
  },
  "nbformat": 4,
  "nbformat_minor": 0
}